{
 "cells": [
  {
   "cell_type": "code",
   "execution_count": 45,
   "metadata": {
    "collapsed": true
   },
   "outputs": [],
   "source": [
    "## Abhay "
   ]
  },
  {
   "cell_type": "code",
   "execution_count": 4,
   "metadata": {
    "collapsed": true
   },
   "outputs": [],
   "source": [
    "import pandas as pd"
   ]
  },
  {
   "cell_type": "code",
   "execution_count": 5,
   "metadata": {
    "collapsed": false
   },
   "outputs": [],
   "source": [
    "matches = pd.read_csv('/home/user/Downloads/IPLChatbot/matches.csv')\n",
    "deliveries = pd.read_csv('/home/user/Downloads/IPLChatbot/deliveries.csv')"
   ]
  },
  {
   "cell_type": "code",
   "execution_count": 6,
   "metadata": {
    "collapsed": false
   },
   "outputs": [],
   "source": [
    "#deliveries.head(2)"
   ]
  },
  {
   "cell_type": "code",
   "execution_count": 7,
   "metadata": {
    "collapsed": false
   },
   "outputs": [],
   "source": [
    "#matches.head(2)"
   ]
  },
  {
   "cell_type": "markdown",
   "metadata": {},
   "source": [
    "## Run Scored by Player X in match Y"
   ]
  },
  {
   "cell_type": "code",
   "execution_count": 8,
   "metadata": {
    "collapsed": false
   },
   "outputs": [],
   "source": [
    "def runs_scored(match_id, batsman):\n",
    "    runs_count = deliveries.groupby(['match_id','batsman'])['batsman_runs'].sum()\n",
    "    return runs_count[match_id][batsman]"
   ]
  },
  {
   "cell_type": "code",
   "execution_count": 9,
   "metadata": {
    "collapsed": false
   },
   "outputs": [
    {
     "data": {
      "text/plain": [
       "158"
      ]
     },
     "execution_count": 9,
     "metadata": {},
     "output_type": "execute_result"
    }
   ],
   "source": [
    "runs_scored(1,'BB McCullum')"
   ]
  },
  {
   "cell_type": "markdown",
   "metadata": {},
   "source": [
    "## Highest Run Scorer"
   ]
  },
  {
   "cell_type": "code",
   "execution_count": 10,
   "metadata": {
    "collapsed": true
   },
   "outputs": [],
   "source": [
    "def max_score_batsman_match(match_id):\n",
    "    x = deliveries.groupby(['match_id', 'batsman'])['batsman_runs'].sum()\n",
    "    name = x[match_id].idxmax()\n",
    "    runs = x[match_id].max()\n",
    "    return [name, runs]  "
   ]
  },
  {
   "cell_type": "code",
   "execution_count": 11,
   "metadata": {
    "collapsed": false
   },
   "outputs": [
    {
     "data": {
      "text/plain": [
       "['BB McCullum', 158]"
      ]
     },
     "execution_count": 11,
     "metadata": {},
     "output_type": "execute_result"
    }
   ],
   "source": [
    "max_score_batsman_match(1)"
   ]
  },
  {
   "cell_type": "markdown",
   "metadata": {},
   "source": [
    "## Number of sixes by Batsman X in match Y"
   ]
  },
  {
   "cell_type": "code",
   "execution_count": 9,
   "metadata": {
    "collapsed": false
   },
   "outputs": [],
   "source": [
    "def sixes_count(match_id, batsman):\n",
    "    sixes = deliveries[deliveries.batsman_runs == 6]\n",
    "    sixes_count = sixes.groupby(['match_id','batsman']).count()['inning']\n",
    "    return sixes_count[match_id, batsman]"
   ]
  },
  {
   "cell_type": "code",
   "execution_count": 10,
   "metadata": {
    "collapsed": false
   },
   "outputs": [
    {
     "data": {
      "text/plain": [
       "13"
      ]
     },
     "execution_count": 10,
     "metadata": {},
     "output_type": "execute_result"
    }
   ],
   "source": [
    "sixes_count(1,'BB McCullum')"
   ]
  },
  {
   "cell_type": "markdown",
   "metadata": {},
   "source": [
    "## Number of fours by Batsman X in match Y"
   ]
  },
  {
   "cell_type": "code",
   "execution_count": 11,
   "metadata": {
    "collapsed": false
   },
   "outputs": [],
   "source": [
    "def fours_count(match_id, batsman):\n",
    "    fours = deliveries[deliveries.batsman_runs == 4]\n",
    "    fours_count = fours.groupby(['match_id','batsman']).count()['inning']\n",
    "    return fours_count[match_id, batsman]"
   ]
  },
  {
   "cell_type": "code",
   "execution_count": 12,
   "metadata": {
    "collapsed": false
   },
   "outputs": [
    {
     "data": {
      "text/plain": [
       "10"
      ]
     },
     "execution_count": 12,
     "metadata": {},
     "output_type": "execute_result"
    }
   ],
   "source": [
    "fours_count(1,'BB McCullum')"
   ]
  },
  {
   "cell_type": "markdown",
   "metadata": {},
   "source": [
    "## Total Number of dots by Batsman X in match Y"
   ]
  },
  {
   "cell_type": "code",
   "execution_count": 13,
   "metadata": {
    "collapsed": false
   },
   "outputs": [],
   "source": [
    "def dots_count(match_id, batsman):\n",
    "    dots = deliveries[deliveries.total_runs == 0]\n",
    "    dots_count = dots.groupby(['match_id','batsman']).count()['inning']\n",
    "    return dots_count[match_id, batsman]"
   ]
  },
  {
   "cell_type": "code",
   "execution_count": 14,
   "metadata": {
    "collapsed": false
   },
   "outputs": [
    {
     "data": {
      "text/plain": [
       "17"
      ]
     },
     "execution_count": 14,
     "metadata": {},
     "output_type": "execute_result"
    }
   ],
   "source": [
    "dots_count(1,'BB McCullum')"
   ]
  },
  {
   "cell_type": "markdown",
   "metadata": {},
   "source": [
    "## Ball faced by Batsman X in match Y"
   ]
  },
  {
   "cell_type": "code",
   "execution_count": 15,
   "metadata": {
    "collapsed": false
   },
   "outputs": [],
   "source": [
    "def ball_faced(match_id, batsman):\n",
    "    balls = deliveries[(deliveries['match_id']==match_id) & (deliveries['batsman']==batsman) & (deliveries.wide_runs == 0)]\n",
    "    balls_count = balls.count()[0]\n",
    "    return balls_count"
   ]
  },
  {
   "cell_type": "code",
   "execution_count": 16,
   "metadata": {
    "collapsed": false
   },
   "outputs": [
    {
     "data": {
      "text/plain": [
       "73"
      ]
     },
     "execution_count": 16,
     "metadata": {},
     "output_type": "execute_result"
    }
   ],
   "source": [
    "ball_faced(1,'BB McCullum')"
   ]
  },
  {
   "cell_type": "markdown",
   "metadata": {},
   "source": [
    "## Strike Rate of Batsman X in match Y"
   ]
  },
  {
   "cell_type": "code",
   "execution_count": 17,
   "metadata": {
    "collapsed": true
   },
   "outputs": [],
   "source": [
    "def strike_rate(match_id, batsman):\n",
    "    strike_rate = (runs_scored(match_id, batsman)/ball_faced(match_id, batsman))*100\n",
    "    return strike_rate"
   ]
  },
  {
   "cell_type": "code",
   "execution_count": 18,
   "metadata": {
    "collapsed": false
   },
   "outputs": [
    {
     "data": {
      "text/plain": [
       "216.43835616438358"
      ]
     },
     "execution_count": 18,
     "metadata": {},
     "output_type": "execute_result"
    }
   ],
   "source": [
    "strike_rate(1,'BB McCullum')"
   ]
  },
  {
   "cell_type": "markdown",
   "metadata": {},
   "source": [
    "## Total Run by team X in Match Y"
   ]
  },
  {
   "cell_type": "code",
   "execution_count": 19,
   "metadata": {
    "collapsed": true
   },
   "outputs": [],
   "source": [
    "def team_score(match_id, batting_team):\n",
    "    team = deliveries[(deliveries['match_id']==match_id) & (deliveries['batting_team']==batting_team)]\n",
    "    team_score = team.groupby(['match_id', 'batting_team'])['total_runs'].sum()\n",
    "    return team_score[0]"
   ]
  },
  {
   "cell_type": "code",
   "execution_count": 20,
   "metadata": {
    "collapsed": false
   },
   "outputs": [
    {
     "data": {
      "text/plain": [
       "82"
      ]
     },
     "execution_count": 20,
     "metadata": {},
     "output_type": "execute_result"
    }
   ],
   "source": [
    "team_score(1,'Royal Challengers Bangalore')"
   ]
  },
  {
   "cell_type": "markdown",
   "metadata": {},
   "source": [
    "## i^th Highest Scorer"
   ]
  },
  {
   "cell_type": "code",
   "execution_count": 21,
   "metadata": {
    "collapsed": true
   },
   "outputs": [],
   "source": [
    "def highest_scorer(i):\n",
    "    #player_runs = deliveries.groupby('batsman')['batsman_runs'].sum().sort_values(ascending =False)\n",
    "    player_name = deliveries.groupby('batsman')['batsman_runs'].sum().sort_values(ascending =False).iloc[i:i+1]\n",
    "    return  player_name"
   ]
  },
  {
   "cell_type": "code",
   "execution_count": 22,
   "metadata": {
    "collapsed": false
   },
   "outputs": [
    {
     "data": {
      "text/plain": [
       "batsman\n",
       "ST Jayasuriya    514\n",
       "Name: batsman_runs, dtype: int64"
      ]
     },
     "execution_count": 22,
     "metadata": {},
     "output_type": "execute_result"
    }
   ],
   "source": [
    "highest_scorer(2)"
   ]
  },
  {
   "cell_type": "markdown",
   "metadata": {},
   "source": [
    "### ith highest scorer in jth match"
   ]
  },
  {
   "cell_type": "code",
   "execution_count": 43,
   "metadata": {
    "collapsed": true
   },
   "outputs": [],
   "source": [
    "def highest_scorer_ith_match(match_no, highest_scorer_no):\n",
    "    score = deliveries.groupby(['match_id','batting_team','batsman'])['batsman_runs'].sum().sort_values(ascending =False)\n",
    "    return score[match_no].iloc[highest_scorer_no:highest_scorer_no+1]"
   ]
  },
  {
   "cell_type": "code",
   "execution_count": 44,
   "metadata": {
    "collapsed": false
   },
   "outputs": [
    {
     "data": {
      "text/plain": [
       "batting_team           batsman    \n",
       "Kolkata Knight Riders  BB McCullum    158\n",
       "Name: batsman_runs, dtype: int64"
      ]
     },
     "execution_count": 44,
     "metadata": {},
     "output_type": "execute_result"
    }
   ],
   "source": [
    "highest_scorer_ith_match(1, 0)"
   ]
  },
  {
   "cell_type": "markdown",
   "metadata": {},
   "source": [
    "## Total Number of fours in Match X by team Y"
   ]
  },
  {
   "cell_type": "code",
   "execution_count": 23,
   "metadata": {
    "collapsed": true
   },
   "outputs": [],
   "source": [
    "def team_fours(match_id, batting_team):\n",
    "    team_fours = deliveries[deliveries.batsman_runs == 4]\n",
    "    team_fours_count = team_fours.groupby(['match_id','batting_team']).count()['inning']\n",
    "    return team_fours_count[match_id][batting_team]"
   ]
  },
  {
   "cell_type": "code",
   "execution_count": 24,
   "metadata": {
    "collapsed": false
   },
   "outputs": [
    {
     "data": {
      "text/plain": [
       "15"
      ]
     },
     "execution_count": 24,
     "metadata": {},
     "output_type": "execute_result"
    }
   ],
   "source": [
    "team_fours(1,'Kolkata Knight Riders')"
   ]
  },
  {
   "cell_type": "markdown",
   "metadata": {},
   "source": [
    "## Total Number of sixes in Match X by team Y"
   ]
  },
  {
   "cell_type": "code",
   "execution_count": 25,
   "metadata": {
    "collapsed": true
   },
   "outputs": [],
   "source": [
    "def team_sixes(match_id, batting_team):\n",
    "    team_sixes = deliveries[deliveries.batsman_runs == 6]\n",
    "    team_sixes_count = team_sixes.groupby(['match_id','batting_team']).count()['inning']\n",
    "    return team_sixes_count[match_id][batting_team]"
   ]
  },
  {
   "cell_type": "code",
   "execution_count": 26,
   "metadata": {
    "collapsed": false
   },
   "outputs": [
    {
     "data": {
      "text/plain": [
       "14"
      ]
     },
     "execution_count": 26,
     "metadata": {},
     "output_type": "execute_result"
    }
   ],
   "source": [
    "team_sixes(1,'Kolkata Knight Riders')"
   ]
  },
  {
   "cell_type": "markdown",
   "metadata": {},
   "source": [
    "## Total Score by Batsman X Overall"
   ]
  },
  {
   "cell_type": "code",
   "execution_count": 46,
   "metadata": {
    "collapsed": false
   },
   "outputs": [
    {
     "data": {
      "text/plain": [
       "batsman\n",
       "A Chopra            42\n",
       "A Kumble            13\n",
       "A Mishra            37\n",
       "A Mukund             0\n",
       "A Nehra              3\n",
       "A Symonds          161\n",
       "AA Noffke            9\n",
       "AB Agarkar          54\n",
       "AB Dinda             2\n",
       "AB de Villiers      95\n",
       "AC Gilchrist       436\n",
       "AD Mascarenhas       9\n",
       "AM Nayar           206\n",
       "AM Rahane            4\n",
       "AS Yadav            49\n",
       "Abdur Razzak         0\n",
       "B Akhil             46\n",
       "B Chipli            20\n",
       "B Lee               17\n",
       "BB McCullum        188\n",
       "BJ Hodge            12\n",
       "CK Kapugedera       16\n",
       "CL White           114\n",
       "CRD Fernando         2\n",
       "D Kalyankrishna      3\n",
       "D Salunkhe          33\n",
       "DB Das             103\n",
       "DB Ravi Teja       109\n",
       "DJ Bravo           178\n",
       "DJ Hussey          319\n",
       "                  ... \n",
       "SR Watson          472\n",
       "SS Tiwary           26\n",
       "ST Jayasuriya      514\n",
       "Salman Butt        193\n",
       "Shahid Afridi       81\n",
       "Shoaib Akhtar        2\n",
       "Shoaib Malik        52\n",
       "Sohail Tanvir       36\n",
       "T Kohli             10\n",
       "T Taibu             31\n",
       "TM Dilshan         104\n",
       "TM Srivastava        8\n",
       "U Kaul               0\n",
       "Umar Gul            39\n",
       "V Kohli            165\n",
       "V Sehwag           406\n",
       "VRV Singh            4\n",
       "VS Yeligati          2\n",
       "VVS Laxman         155\n",
       "VY Mahesh           15\n",
       "W Jaffer           115\n",
       "WA Mota             26\n",
       "WP Saha            159\n",
       "WPUJC Vaas          21\n",
       "Y Venugopal Rao    288\n",
       "YK Pathan          435\n",
       "YV Takawale         70\n",
       "Younis Khan          3\n",
       "Yuvraj Singh       299\n",
       "Z Khan              34\n",
       "Name: batsman_runs, dtype: int64"
      ]
     },
     "execution_count": 46,
     "metadata": {},
     "output_type": "execute_result"
    }
   ],
   "source": [
    "def total_runs_scored():\n",
    "    runs_count = deliveries.groupby('batsman')['batsman_runs'].sum()\n",
    "    return runs_count\n",
    "total_runs_scored()"
   ]
  },
  {
   "cell_type": "markdown",
   "metadata": {},
   "source": [
    "## Total Balls faced by Batsman Overall"
   ]
  },
  {
   "cell_type": "code",
   "execution_count": 28,
   "metadata": {
    "collapsed": false
   },
   "outputs": [],
   "source": [
    "def total_ball_faced():\n",
    "    balls = deliveries[(deliveries.wide_runs == 0)].groupby('batsman')['inning']\n",
    "    balls_count = balls.count()\n",
    "    return balls_count"
   ]
  },
  {
   "cell_type": "code",
   "execution_count": 29,
   "metadata": {
    "collapsed": false
   },
   "outputs": [],
   "source": [
    "#total_ball_faced()"
   ]
  },
  {
   "cell_type": "markdown",
   "metadata": {},
   "source": [
    "## Highest Strike Rate of Batsman Overall"
   ]
  },
  {
   "cell_type": "code",
   "execution_count": 30,
   "metadata": {
    "collapsed": false
   },
   "outputs": [],
   "source": [
    "def total_strike_rate(i):\n",
    "    strike_rate = (total_runs_scored()/total_ball_faced())*100\n",
    "    return strike_rate.sort_values(ascending = False).iloc[i:i+1]"
   ]
  },
  {
   "cell_type": "code",
   "execution_count": 31,
   "metadata": {
    "collapsed": false
   },
   "outputs": [
    {
     "data": {
      "text/plain": [
       "batsman\n",
       "Umar Gul    205.263158\n",
       "dtype: float64"
      ]
     },
     "execution_count": 31,
     "metadata": {},
     "output_type": "execute_result"
    }
   ],
   "source": [
    "total_strike_rate(0)"
   ]
  },
  {
   "cell_type": "markdown",
   "metadata": {},
   "source": [
    "## Most ball played"
   ]
  },
  {
   "cell_type": "code",
   "execution_count": 32,
   "metadata": {
    "collapsed": false
   },
   "outputs": [
    {
     "data": {
      "text/plain": [
       "batsman\n",
       "SE Marsh    441\n",
       "Name: inning, dtype: int64"
      ]
     },
     "execution_count": 32,
     "metadata": {},
     "output_type": "execute_result"
    }
   ],
   "source": [
    "total_ball_faced().sort_values(ascending = False).iloc[0:1]"
   ]
  },
  {
   "cell_type": "markdown",
   "metadata": {},
   "source": [
    "## Overall Sixes by player X"
   ]
  },
  {
   "cell_type": "code",
   "execution_count": 33,
   "metadata": {
    "collapsed": true
   },
   "outputs": [],
   "source": [
    "def overall_sixes_count(batsman):\n",
    "    sixes = deliveries[deliveries.batsman_runs == 6]\n",
    "    sixes_count = sixes.groupby('batsman').count()['inning']\n",
    "    return sixes_count[batsman]"
   ]
  },
  {
   "cell_type": "code",
   "execution_count": 34,
   "metadata": {
    "collapsed": false
   },
   "outputs": [
    {
     "data": {
      "text/plain": [
       "15"
      ]
     },
     "execution_count": 34,
     "metadata": {},
     "output_type": "execute_result"
    }
   ],
   "source": [
    "overall_sixes_count('BB McCullum')"
   ]
  },
  {
   "cell_type": "markdown",
   "metadata": {},
   "source": [
    "## Overall fours by player X"
   ]
  },
  {
   "cell_type": "code",
   "execution_count": 35,
   "metadata": {
    "collapsed": true
   },
   "outputs": [],
   "source": [
    "def overall_fours_count(batsman):\n",
    "    fours = deliveries[deliveries.batsman_runs == 4]\n",
    "    fours_count = fours.groupby('batsman').count()['inning']\n",
    "    return fours_count[batsman]"
   ]
  },
  {
   "cell_type": "code",
   "execution_count": 36,
   "metadata": {
    "collapsed": false
   },
   "outputs": [
    {
     "data": {
      "text/plain": [
       "13"
      ]
     },
     "execution_count": 36,
     "metadata": {},
     "output_type": "execute_result"
    }
   ],
   "source": [
    "overall_fours_count('BB McCullum')"
   ]
  },
  {
   "cell_type": "markdown",
   "metadata": {},
   "source": [
    "## Most fours counts"
   ]
  },
  {
   "cell_type": "code",
   "execution_count": 37,
   "metadata": {
    "collapsed": true
   },
   "outputs": [],
   "source": [
    "def most_fours_count(i):\n",
    "    fours = deliveries[deliveries.batsman_runs == 4]\n",
    "    fours_count = fours.groupby('batsman').count()['inning']\n",
    "    return fours_count.sort_values(ascending = False).iloc[i:i+1]"
   ]
  },
  {
   "cell_type": "code",
   "execution_count": 43,
   "metadata": {
    "collapsed": false
   },
   "outputs": [
    {
     "name": "stdout",
     "output_type": "stream",
     "text": [
      "G Gambhir 68\n"
     ]
    }
   ],
   "source": [
    "for index_val, series_val in most_fours_count(0).iteritems():\n",
    "        print(index_val, series_val)"
   ]
  },
  {
   "cell_type": "markdown",
   "metadata": {},
   "source": [
    "## Most Sixes Count"
   ]
  },
  {
   "cell_type": "code",
   "execution_count": 39,
   "metadata": {
    "collapsed": false
   },
   "outputs": [],
   "source": [
    "def most_sixes_count():\n",
    "    sixes = deliveries[deliveries.batsman_runs == 6]\n",
    "    sixes_count = sixes.groupby('batsman').count()['inning'].sort_values(ascending = False).iloc[0:1]\n",
    "    return sixes_count"
   ]
  },
  {
   "cell_type": "code",
   "execution_count": 40,
   "metadata": {
    "collapsed": false
   },
   "outputs": [
    {
     "name": "stdout",
     "output_type": "stream",
     "text": [
      "ST Jayasuriya 31\n"
     ]
    }
   ],
   "source": [
    "for index_val, series_val in most_sixes_count().iteritems():\n",
    "        print(index_val, series_val)"
   ]
  },
  {
   "cell_type": "code",
   "execution_count": null,
   "metadata": {
    "collapsed": false
   },
   "outputs": [],
   "source": []
  },
  {
   "cell_type": "markdown",
   "metadata": {},
   "source": [
    "## Highest run scored by batsman in an inning"
   ]
  },
  {
   "cell_type": "code",
   "execution_count": 41,
   "metadata": {
    "collapsed": false
   },
   "outputs": [
    {
     "data": {
      "text/plain": [
       "batsman\n",
       "SE Marsh         616\n",
       "G Gambhir        534\n",
       "ST Jayasuriya    514\n",
       "SR Watson        472\n",
       "GC Smith         441\n",
       "Name: batsman_runs, dtype: int64"
      ]
     },
     "execution_count": 41,
     "metadata": {},
     "output_type": "execute_result"
    }
   ],
   "source": [
    "deliveries.groupby('batsman')['batsman_runs'].sum().sort_values(ascending = False).head()"
   ]
  },
  {
   "cell_type": "code",
   "execution_count": null,
   "metadata": {
    "collapsed": true
   },
   "outputs": [],
   "source": []
  },
  {
   "cell_type": "code",
   "execution_count": null,
   "metadata": {
    "collapsed": true
   },
   "outputs": [],
   "source": []
  }
 ],
 "metadata": {
  "kernelspec": {
   "display_name": "Python 3",
   "language": "python",
   "name": "python3"
  },
  "language_info": {
   "codemirror_mode": {
    "name": "ipython",
    "version": 3
   },
   "file_extension": ".py",
   "mimetype": "text/x-python",
   "name": "python",
   "nbconvert_exporter": "python",
   "pygments_lexer": "ipython3",
   "version": "3.6.0"
  }
 },
 "nbformat": 4,
 "nbformat_minor": 2
}
