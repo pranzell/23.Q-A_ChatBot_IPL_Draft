{
 "cells": [
  {
   "cell_type": "markdown",
   "metadata": {},
   "source": [
    "# IPL CHAT BOX"
   ]
  },
  {
   "cell_type": "markdown",
   "metadata": {},
   "source": [
    "### PROBLEM STATEMENT : \n",
    "\n",
    "##### To develop a Q&A chat bot which responds to user's queries based on NLP statistics."
   ]
  },
  {
   "cell_type": "markdown",
   "metadata": {},
   "source": [
    "#### .\n",
    "\n",
    "\n",
    "\n",
    "#### ."
   ]
  },
  {
   "cell_type": "code",
   "execution_count": 2,
   "metadata": {},
   "outputs": [],
   "source": [
    "import math\n",
    "import numpy as np\n",
    "import pandas as pd\n",
    "\n",
    "# --- NLTK PACKAGE ---\n",
    "import nltk\n",
    "\n",
    "# Tokenizers\n",
    "from nltk.tokenize import word_tokenize, sent_tokenize, PunktSentenceTokenizer, RegexpTokenizer\n",
    "\n",
    "# Stemming and Lemmatizing\n",
    "from nltk.stem import PorterStemmer, WordNetLemmatizer\n",
    "\n",
    "# Stopwords\n",
    "from nltk.corpus import stopwords, state_union\n",
    "\n",
    "# Lesk Module\n",
    "from nltk.wsd import lesk\n",
    "\n",
    "# Tagger\n",
    "from nltk.tag import UnigramTagger, BigramTagger, BrillTagger\n"
   ]
  },
  {
   "cell_type": "code",
   "execution_count": 5,
   "metadata": {},
   "outputs": [],
   "source": [
    "matches = pd.read_csv('/home/user/Downloads/IPLChatbot/matches.csv')\n",
    "deliveries = pd.read_csv('/home/user/Downloads/IPLChatbot/deliveries.csv')"
   ]
  },
  {
   "cell_type": "markdown",
   "metadata": {},
   "source": [
    "# FUNCTIONS"
   ]
  },
  {
   "cell_type": "markdown",
   "metadata": {},
   "source": [
    "#### BATSMAN STATS"
   ]
  },
  {
   "cell_type": "markdown",
   "metadata": {},
   "source": [
    "#### Runs scored by Batsman B1 in Match X"
   ]
  },
  {
   "cell_type": "code",
   "execution_count": 8,
   "metadata": {
    "collapsed": true
   },
   "outputs": [],
   "source": [
    "def runs_batsman_match(batsman_name, match_id):\n",
    "    x = deliveries.groupby(['match_id', 'batsman'])['batsman_runs'].sum()\n",
    "    runs = x[match_id][batsman_name]\n",
    "    return runs  "
   ]
  },
  {
   "cell_type": "code",
   "execution_count": 9,
   "metadata": {},
   "outputs": [
    {
     "data": {
      "text/plain": [
       "10"
      ]
     },
     "execution_count": 9,
     "metadata": {},
     "output_type": "execute_result"
    }
   ],
   "source": [
    "runs_batsman_match('SC Ganguly', 1)"
   ]
  },
  {
   "cell_type": "markdown",
   "metadata": {},
   "source": [
    "#### Total Runs scored in Match X by team Y"
   ]
  },
  {
   "cell_type": "code",
   "execution_count": 10,
   "metadata": {
    "collapsed": true
   },
   "outputs": [],
   "source": [
    "def total_runs_team_match(team, match_id):\n",
    "    x = deliveries.groupby(['match_id','batting_team'])['total_runs'].sum()\n",
    "    total_runs_match = x[match_id][team]\n",
    "    return total_runs_match  "
   ]
  },
  {
   "cell_type": "code",
   "execution_count": 11,
   "metadata": {},
   "outputs": [
    {
     "data": {
      "text/plain": [
       "82"
      ]
     },
     "execution_count": 11,
     "metadata": {},
     "output_type": "execute_result"
    }
   ],
   "source": [
    "total_runs_team_match('Royal Challengers Bangalore', 1)"
   ]
  },
  {
   "cell_type": "markdown",
   "metadata": {},
   "source": [
    "#### Max scorer in match X"
   ]
  },
  {
   "cell_type": "code",
   "execution_count": 12,
   "metadata": {
    "collapsed": true
   },
   "outputs": [],
   "source": [
    "def max_score_batsman_match(match_id):\n",
    "    x = deliveries.groupby(['match_id', 'batsman'])['batsman_runs'].sum()\n",
    "    name = x[match_id].idxmax()\n",
    "    runs = x[match_id].max()\n",
    "    return [name, runs]  "
   ]
  },
  {
   "cell_type": "code",
   "execution_count": 13,
   "metadata": {},
   "outputs": [
    {
     "data": {
      "text/plain": [
       "['RV Uthappa', 48]"
      ]
     },
     "execution_count": 13,
     "metadata": {},
     "output_type": "execute_result"
    }
   ],
   "source": [
    "max_score_batsman_match(4)"
   ]
  },
  {
   "cell_type": "markdown",
   "metadata": {},
   "source": [
    "#### Max scorer in match X in Team Y"
   ]
  },
  {
   "cell_type": "code",
   "execution_count": 14,
   "metadata": {
    "collapsed": true
   },
   "outputs": [],
   "source": [
    "def max_score_batsman_match_inTeam(match_id, team):\n",
    "    x = deliveries.groupby(['match_id','batting_team', 'batsman'])['batsman_runs'].sum()\n",
    "    name = x[match_id][team].idxmax()\n",
    "    runs = x[match_id][team].max()\n",
    "    return [name, runs]  "
   ]
  },
  {
   "cell_type": "code",
   "execution_count": 15,
   "metadata": {},
   "outputs": [
    {
     "data": {
      "text/plain": [
       "['P Kumar', 18]"
      ]
     },
     "execution_count": 15,
     "metadata": {},
     "output_type": "execute_result"
    }
   ],
   "source": [
    "max_score_batsman_match_inTeam(1, 'Royal Challengers Bangalore')"
   ]
  },
  {
   "cell_type": "markdown",
   "metadata": {},
   "source": [
    "#### Lowest Scorer in Match X"
   ]
  },
  {
   "cell_type": "code",
   "execution_count": 16,
   "metadata": {
    "collapsed": true
   },
   "outputs": [],
   "source": [
    "def min_score_batsman_match(match_id):\n",
    "    x = deliveries.groupby(['match_id', 'batsman'])['batsman_runs'].sum()\n",
    "    name = x[match_id].idxmin()\n",
    "    runs = x[match_id].min()\n",
    "    return [name, runs]  \n"
   ]
  },
  {
   "cell_type": "code",
   "execution_count": 17,
   "metadata": {},
   "outputs": [
    {
     "data": {
      "text/plain": [
       "['B Akhil', 0]"
      ]
     },
     "execution_count": 17,
     "metadata": {},
     "output_type": "execute_result"
    }
   ],
   "source": [
    "min_score_batsman_match(1)"
   ]
  },
  {
   "cell_type": "markdown",
   "metadata": {},
   "source": [
    "#### Min scorer in match X in Team Y"
   ]
  },
  {
   "cell_type": "code",
   "execution_count": 18,
   "metadata": {
    "collapsed": true
   },
   "outputs": [],
   "source": [
    "def min_score_batsman_match_inTeam(match_id, team):\n",
    "    x = deliveries.groupby(['match_id','batting_team', 'batsman'])['batsman_runs'].sum()\n",
    "    name = x[match_id][team].idxmin()\n",
    "    runs = x[match_id][team].min()\n",
    "    return [name, runs]  "
   ]
  },
  {
   "cell_type": "code",
   "execution_count": 19,
   "metadata": {},
   "outputs": [
    {
     "data": {
      "text/plain": [
       "['Mohammad Hafeez', 5]"
      ]
     },
     "execution_count": 19,
     "metadata": {},
     "output_type": "execute_result"
    }
   ],
   "source": [
    "min_score_batsman_match_inTeam(1, 'Kolkata Knight Riders')"
   ]
  },
  {
   "cell_type": "markdown",
   "metadata": {},
   "source": [
    "#### Number of Balls played by Batsman B1 in match Y"
   ]
  },
  {
   "cell_type": "code",
   "execution_count": 20,
   "metadata": {
    "collapsed": true
   },
   "outputs": [],
   "source": [
    "def balls_faced_batsman_match(batsman, match_id):\n",
    "    x = deliveries[(deliveries['batsman'] == batsman) & (deliveries['match_id'] == match_id) & (deliveries['wide_runs'] == 0)]\n",
    "    return x.shape[0]"
   ]
  },
  {
   "cell_type": "code",
   "execution_count": 21,
   "metadata": {},
   "outputs": [
    {
     "data": {
      "text/plain": [
       "12"
      ]
     },
     "execution_count": 21,
     "metadata": {},
     "output_type": "execute_result"
    }
   ],
   "source": [
    "balls_faced_batsman_match('SC Ganguly', 1)"
   ]
  },
  {
   "cell_type": "markdown",
   "metadata": {},
   "source": [
    "#### Strike Rate of Batsman B1 in Match X"
   ]
  },
  {
   "cell_type": "code",
   "execution_count": 22,
   "metadata": {
    "collapsed": true
   },
   "outputs": [],
   "source": [
    "def strikeRate_batsman_match(batsman, match_id):\n",
    "    runs = runs_batsman_match(batsman, match_id)\n",
    "    balls = balls_faced_batsman_match(batsman, match_id)\n",
    "    \n",
    "    strike_rate = runs/balls * 100\n",
    "    return strike_rate"
   ]
  },
  {
   "cell_type": "code",
   "execution_count": 23,
   "metadata": {},
   "outputs": [
    {
     "data": {
      "text/plain": [
       "216.43835616438358"
      ]
     },
     "execution_count": 23,
     "metadata": {},
     "output_type": "execute_result"
    }
   ],
   "source": [
    "strikeRate_batsman_match('BB McCullum', 1)"
   ]
  },
  {
   "cell_type": "markdown",
   "metadata": {},
   "source": [
    "#### Total Number of Dot Balls played by Batsman B1 in Match X"
   ]
  },
  {
   "cell_type": "code",
   "execution_count": 24,
   "metadata": {
    "collapsed": true
   },
   "outputs": [],
   "source": [
    "def dot_balls_batsman_match(batsman, match_id):\n",
    "    x = deliveries[(deliveries['batsman'] == batsman) & (deliveries['match_id'] == match_id) & (deliveries['total_runs'] == 0)]\n",
    "    dot_balls = x.shape[0]\n",
    "    return dot_balls"
   ]
  },
  {
   "cell_type": "code",
   "execution_count": 25,
   "metadata": {},
   "outputs": [
    {
     "data": {
      "text/plain": [
       "6"
      ]
     },
     "execution_count": 25,
     "metadata": {},
     "output_type": "execute_result"
    }
   ],
   "source": [
    "dot_balls_batsman_match('SC Ganguly', 1)"
   ]
  },
  {
   "cell_type": "markdown",
   "metadata": {},
   "source": [
    "#### Total Number of 4's played by Batsman B1 in Match X"
   ]
  },
  {
   "cell_type": "code",
   "execution_count": 26,
   "metadata": {
    "collapsed": true
   },
   "outputs": [],
   "source": [
    "def b_4_batsman_match(batsman, match_id):\n",
    "    x = deliveries[(deliveries['batsman'] == batsman) & (deliveries['match_id'] == match_id) & (deliveries['total_runs'] == 4)]\n",
    "    b_4 = x.shape[0]\n",
    "    return b_4"
   ]
  },
  {
   "cell_type": "code",
   "execution_count": 27,
   "metadata": {},
   "outputs": [
    {
     "data": {
      "text/plain": [
       "2"
      ]
     },
     "execution_count": 27,
     "metadata": {},
     "output_type": "execute_result"
    }
   ],
   "source": [
    "b_4_batsman_match('SC Ganguly', 1)"
   ]
  },
  {
   "cell_type": "markdown",
   "metadata": {},
   "source": [
    "#### Total Number of 6's played by Batsman B1 in Match X"
   ]
  },
  {
   "cell_type": "code",
   "execution_count": 28,
   "metadata": {
    "collapsed": true
   },
   "outputs": [],
   "source": [
    "def b_6_batsman_match(batsman, match_id):\n",
    "    x = deliveries[(deliveries['batsman'] == batsman) & (deliveries['match_id'] == match_id) & (deliveries['total_runs'] == 6)]\n",
    "    b_6 = x.shape[0]\n",
    "    return b_6"
   ]
  },
  {
   "cell_type": "code",
   "execution_count": 29,
   "metadata": {},
   "outputs": [
    {
     "data": {
      "text/plain": [
       "0"
      ]
     },
     "execution_count": 29,
     "metadata": {},
     "output_type": "execute_result"
    }
   ],
   "source": [
    "b_6_batsman_match('SC Ganguly', 1)"
   ]
  },
  {
   "cell_type": "markdown",
   "metadata": {},
   "source": [
    "#### i^th Highest Scorer"
   ]
  },
  {
   "cell_type": "code",
   "execution_count": 30,
   "metadata": {
    "collapsed": true
   },
   "outputs": [],
   "source": [
    "def highest_scorer(i):\n",
    "    #player_runs = deliveries.groupby('batsman')['batsman_runs'].sum().sort_values(ascending =False)\n",
    "    player_name = deliveries.groupby('batsman')['batsman_runs'].sum().sort_values(ascending =False).iloc[i:i+1]\n",
    "    return  player_name"
   ]
  },
  {
   "cell_type": "code",
   "execution_count": 31,
   "metadata": {},
   "outputs": [
    {
     "data": {
      "text/plain": [
       "batsman\n",
       "ST Jayasuriya    514\n",
       "Name: batsman_runs, dtype: int64"
      ]
     },
     "execution_count": 31,
     "metadata": {},
     "output_type": "execute_result"
    }
   ],
   "source": [
    "highest_scorer(2)"
   ]
  },
  {
   "cell_type": "markdown",
   "metadata": {},
   "source": [
    "#### Total Number of fours in Match X by team Y"
   ]
  },
  {
   "cell_type": "code",
   "execution_count": 32,
   "metadata": {
    "collapsed": true
   },
   "outputs": [],
   "source": [
    "def team_fours(match_id, batting_team):\n",
    "    team_fours = deliveries[deliveries.batsman_runs == 4]\n",
    "    team_fours_count = team_fours.groupby(['match_id','batting_team']).count()['inning']\n",
    "    return team_fours_count[match_id][batting_team]"
   ]
  },
  {
   "cell_type": "code",
   "execution_count": 33,
   "metadata": {},
   "outputs": [
    {
     "data": {
      "text/plain": [
       "15"
      ]
     },
     "execution_count": 33,
     "metadata": {},
     "output_type": "execute_result"
    }
   ],
   "source": [
    "team_fours(1,'Kolkata Knight Riders')"
   ]
  },
  {
   "cell_type": "markdown",
   "metadata": {},
   "source": [
    "#### Total Number of sixes in Match X by team Y"
   ]
  },
  {
   "cell_type": "code",
   "execution_count": 34,
   "metadata": {
    "collapsed": true
   },
   "outputs": [],
   "source": [
    "def team_sixes(match_id, batting_team):\n",
    "    team_sixes = deliveries[deliveries.batsman_runs == 6]\n",
    "    team_sixes_count = team_sixes.groupby(['match_id','batting_team']).count()['inning']\n",
    "    return team_sixes_count[match_id][batting_team]"
   ]
  },
  {
   "cell_type": "code",
   "execution_count": 35,
   "metadata": {},
   "outputs": [
    {
     "data": {
      "text/plain": [
       "14"
      ]
     },
     "execution_count": 35,
     "metadata": {},
     "output_type": "execute_result"
    }
   ],
   "source": [
    "team_sixes(1,'Kolkata Knight Riders')"
   ]
  },
  {
   "cell_type": "markdown",
   "metadata": {},
   "source": [
    "## RUNS - ALL MATCH STATS"
   ]
  },
  {
   "cell_type": "markdown",
   "metadata": {},
   "source": [
    "#### Total Runs scored in Entire IPL by Batsman B1"
   ]
  },
  {
   "cell_type": "code",
   "execution_count": 36,
   "metadata": {
    "collapsed": true
   },
   "outputs": [],
   "source": [
    "def total_runs_batsman_IPL(batsman):\n",
    "    x = deliveries.groupby(['batsman'])['batsman_runs'].sum()\n",
    "    runs_batsman = x[batsman]\n",
    "    return runs_batsman"
   ]
  },
  {
   "cell_type": "code",
   "execution_count": 37,
   "metadata": {},
   "outputs": [
    {
     "data": {
      "text/plain": [
       "188"
      ]
     },
     "execution_count": 37,
     "metadata": {},
     "output_type": "execute_result"
    }
   ],
   "source": [
    "total_runs_batsman_IPL('BB McCullum')"
   ]
  },
  {
   "cell_type": "markdown",
   "metadata": {},
   "source": [
    "#### Total Runs scored in Entire IPL season 01 by team X"
   ]
  },
  {
   "cell_type": "code",
   "execution_count": 38,
   "metadata": {
    "collapsed": true
   },
   "outputs": [],
   "source": [
    "def total_runs_team_IPL(team):\n",
    "    x = deliveries.groupby(['batting_team'])['total_runs'].sum()\n",
    "    total_runs_IPL = x[team]\n",
    "    return total_runs_IPL"
   ]
  },
  {
   "cell_type": "code",
   "execution_count": 39,
   "metadata": {},
   "outputs": [
    {
     "data": {
      "text/plain": [
       "2520"
      ]
     },
     "execution_count": 39,
     "metadata": {},
     "output_type": "execute_result"
    }
   ],
   "source": [
    "total_runs_team_IPL('Chennai Super Kings')"
   ]
  },
  {
   "cell_type": "markdown",
   "metadata": {},
   "source": [
    "#### Orange CAP"
   ]
  },
  {
   "cell_type": "code",
   "execution_count": 40,
   "metadata": {
    "collapsed": true
   },
   "outputs": [],
   "source": [
    "def orange_cap():\n",
    "    x = deliveries.groupby(['batsman'])['batsman_runs'].sum()\n",
    "    max_scorer = [x.idxmax(), x.max()]\n",
    "    return max_scorer"
   ]
  },
  {
   "cell_type": "code",
   "execution_count": 41,
   "metadata": {},
   "outputs": [
    {
     "name": "stdout",
     "output_type": "stream",
     "text": [
      "SE Marsh --> 616\n"
     ]
    }
   ],
   "source": [
    "orange_cap_name = orange_cap()[0]\n",
    "orange_cap_total_runs = orange_cap()[1]\n",
    "\n",
    "print(orange_cap_name, \"-->\", orange_cap_total_runs)"
   ]
  },
  {
   "cell_type": "markdown",
   "metadata": {},
   "source": [
    "#### Highest Runs scored in an innings by a Batsman"
   ]
  },
  {
   "cell_type": "code",
   "execution_count": 42,
   "metadata": {
    "collapsed": true
   },
   "outputs": [],
   "source": [
    "def highest_runs_batsman_innings():\n",
    "    x = deliveries.groupby(['match_id', 'batsman'])['batsman_runs'].sum().sort_values(ascending=False)\n",
    "    batsman_and_match = [ x.idxmax(), x.max()]\n",
    "    \n",
    "    return batsman_and_match"
   ]
  },
  {
   "cell_type": "code",
   "execution_count": 43,
   "metadata": {
    "scrolled": true
   },
   "outputs": [
    {
     "name": "stdout",
     "output_type": "stream",
     "text": [
      "BB McCullum  IN MATCH =  1  ---> 158\n"
     ]
    }
   ],
   "source": [
    "highest_runs_batsman_innings_NAME = highest_runs_batsman_innings()[0][1]\n",
    "highest_runs_batsman_innings_MATCH = highest_runs_batsman_innings()[0][0]\n",
    "highest_runs_batsman_innings_RUNS = highest_runs_batsman_innings()[1]\n",
    "\n",
    "print(highest_runs_batsman_innings_NAME, \" IN MATCH = \", highest_runs_batsman_innings_MATCH, \" --->\", highest_runs_batsman_innings_RUNS)"
   ]
  },
  {
   "cell_type": "markdown",
   "metadata": {},
   "source": [
    "#### Highest Strike Rate of Batsman Overall"
   ]
  },
  {
   "cell_type": "code",
   "execution_count": 44,
   "metadata": {
    "collapsed": true
   },
   "outputs": [],
   "source": [
    "def total_runs_scored_IPL():\n",
    "    runs_count = deliveries.groupby('batsman')['batsman_runs'].sum()\n",
    "    return runs_count\n",
    "\n",
    "def total_ball_faced_IPL():\n",
    "    balls = deliveries[(deliveries.wide_runs == 0)].groupby('batsman')['inning']\n",
    "    balls_count = balls.count()\n",
    "    return balls_count\n",
    "\n",
    "def total_strike_rate_IPL(i):\n",
    "    strike_rate = (total_runs_scored_IPL()/total_ball_faced_IPL())*100\n",
    "    return strike_rate.sort_values(ascending = False).iloc[i:i+1]"
   ]
  },
  {
   "cell_type": "code",
   "execution_count": 45,
   "metadata": {},
   "outputs": [
    {
     "data": {
      "text/plain": [
       "batsman\n",
       "Umar Gul    205.263158\n",
       "dtype: float64"
      ]
     },
     "execution_count": 45,
     "metadata": {},
     "output_type": "execute_result"
    }
   ],
   "source": [
    "total_strike_rate_IPL(0)"
   ]
  },
  {
   "cell_type": "markdown",
   "metadata": {},
   "source": [
    "#### Most ball played by a player in IPL"
   ]
  },
  {
   "cell_type": "code",
   "execution_count": 46,
   "metadata": {},
   "outputs": [
    {
     "data": {
      "text/plain": [
       "batsman\n",
       "SE Marsh    441\n",
       "Name: inning, dtype: int64"
      ]
     },
     "execution_count": 46,
     "metadata": {},
     "output_type": "execute_result"
    }
   ],
   "source": [
    "total_ball_faced_IPL().sort_values(ascending = False).iloc[0:1]"
   ]
  },
  {
   "cell_type": "markdown",
   "metadata": {},
   "source": [
    "#### Total 4's by player X in IPL"
   ]
  },
  {
   "cell_type": "code",
   "execution_count": 47,
   "metadata": {
    "collapsed": true
   },
   "outputs": [],
   "source": [
    "def overall_fours_count(batsman):\n",
    "    fours = deliveries[deliveries.batsman_runs == 4]\n",
    "    fours_count = fours.groupby('batsman').count()['inning']\n",
    "    return fours_count[batsman]"
   ]
  },
  {
   "cell_type": "code",
   "execution_count": 48,
   "metadata": {},
   "outputs": [
    {
     "data": {
      "text/plain": [
       "13"
      ]
     },
     "execution_count": 48,
     "metadata": {},
     "output_type": "execute_result"
    }
   ],
   "source": [
    "overall_fours_count('BB McCullum')"
   ]
  },
  {
   "cell_type": "markdown",
   "metadata": {},
   "source": [
    "#### Total 6's by player X in IPL"
   ]
  },
  {
   "cell_type": "code",
   "execution_count": 49,
   "metadata": {
    "collapsed": true
   },
   "outputs": [],
   "source": [
    "def overall_sixes_count(batsman):\n",
    "    sixes = deliveries[deliveries.batsman_runs == 6]\n",
    "    sixes_count = sixes.groupby('batsman').count()['inning']\n",
    "    return sixes_count[batsman]"
   ]
  },
  {
   "cell_type": "code",
   "execution_count": 50,
   "metadata": {},
   "outputs": [
    {
     "data": {
      "text/plain": [
       "15"
      ]
     },
     "execution_count": 50,
     "metadata": {},
     "output_type": "execute_result"
    }
   ],
   "source": [
    "overall_sixes_count('BB McCullum')"
   ]
  },
  {
   "cell_type": "markdown",
   "metadata": {},
   "source": [
    "#### Maximum 4's by a batsman in IPL"
   ]
  },
  {
   "cell_type": "code",
   "execution_count": 51,
   "metadata": {
    "collapsed": true
   },
   "outputs": [],
   "source": [
    "def most_fours_count(i):\n",
    "    fours = deliveries[deliveries.batsman_runs == 4]\n",
    "    fours_count = fours.groupby('batsman').count()['inning']\n",
    "    return fours_count.sort_values(ascending = False).iloc[i:i+1]"
   ]
  },
  {
   "cell_type": "code",
   "execution_count": 52,
   "metadata": {},
   "outputs": [
    {
     "name": "stdout",
     "output_type": "stream",
     "text": [
      "G Gambhir 68\n"
     ]
    }
   ],
   "source": [
    "for index_val, series_val in most_fours_count(0).iteritems():\n",
    "        print(index_val, series_val)"
   ]
  },
  {
   "cell_type": "markdown",
   "metadata": {},
   "source": [
    "#### Maximum 6's by a batsman in IPL"
   ]
  },
  {
   "cell_type": "code",
   "execution_count": 53,
   "metadata": {
    "collapsed": true
   },
   "outputs": [],
   "source": [
    "def most_sixes_count():\n",
    "    sixes = deliveries[deliveries.batsman_runs == 6]\n",
    "    sixes_count = sixes.groupby('batsman').count()['inning'].sort_values(ascending = False).iloc[0:1]\n",
    "    return sixes_count"
   ]
  },
  {
   "cell_type": "code",
   "execution_count": 54,
   "metadata": {},
   "outputs": [
    {
     "name": "stdout",
     "output_type": "stream",
     "text": [
      "ST Jayasuriya 31\n"
     ]
    }
   ],
   "source": [
    "for index_val, series_val in most_sixes_count().iteritems():\n",
    "        print(index_val, series_val)"
   ]
  },
  {
   "cell_type": "code",
   "execution_count": null,
   "metadata": {
    "collapsed": true
   },
   "outputs": [],
   "source": []
  },
  {
   "cell_type": "markdown",
   "metadata": {},
   "source": [
    "### Bowler Stats"
   ]
  },
  {
   "cell_type": "markdown",
   "metadata": {},
   "source": [
    "#### Wickets taken by a bowler X in match Y"
   ]
  },
  {
   "cell_type": "code",
   "execution_count": 55,
   "metadata": {
    "collapsed": true
   },
   "outputs": [],
   "source": [
    "def wickets_by_bowler(bowler, match_id):\n",
    "    total_wickets = deliveries[(deliveries['match_id'] == match_id) & (deliveries['bowler'] == bowler)].dismissal_kind.count()\n",
    "    run_outs = deliveries[(deliveries['match_id'] == match_id) & (deliveries['bowler'] == bowler) & (deliveries['dismissal_kind']== 'run out')].dismissal_kind.count()\n",
    "    return total_wickets-run_outs"
   ]
  },
  {
   "cell_type": "code",
   "execution_count": 56,
   "metadata": {},
   "outputs": [
    {
     "data": {
      "text/plain": [
       "2"
      ]
     },
     "execution_count": 56,
     "metadata": {},
     "output_type": "execute_result"
    }
   ],
   "source": [
    "wickets_by_bowler('SC Ganguly', 1)"
   ]
  },
  {
   "cell_type": "markdown",
   "metadata": {},
   "source": [
    "#### Runs conceded by a bowler X in match Y"
   ]
  },
  {
   "cell_type": "code",
   "execution_count": 57,
   "metadata": {
    "collapsed": true
   },
   "outputs": [],
   "source": [
    "def runs_conceded_by_bowler(bowler, match_id):\n",
    "    return (deliveries.groupby(['match_id','bowler']).total_runs.sum()-deliveries.groupby(['match_id','bowler']).bye_runs.sum()-deliveries.groupby(['match_id','bowler']).legbye_runs.sum())[match_id][bowler]"
   ]
  },
  {
   "cell_type": "code",
   "execution_count": 58,
   "metadata": {},
   "outputs": [
    {
     "data": {
      "text/plain": [
       "21"
      ]
     },
     "execution_count": 58,
     "metadata": {},
     "output_type": "execute_result"
    }
   ],
   "source": [
    "runs_conceded_by_bowler('SC Ganguly', 1)"
   ]
  },
  {
   "cell_type": "markdown",
   "metadata": {},
   "source": [
    "#### Number of balls bowled by a bowler X including extras in Match Y"
   ]
  },
  {
   "cell_type": "code",
   "execution_count": 59,
   "metadata": {
    "collapsed": true
   },
   "outputs": [],
   "source": [
    "def balls_by_bowler(bowler, match_id):\n",
    "    return (deliveries.groupby(['match_id','bowler']).ball.agg('count'))[match_id][bowler]"
   ]
  },
  {
   "cell_type": "code",
   "execution_count": 60,
   "metadata": {},
   "outputs": [
    {
     "data": {
      "text/plain": [
       "25"
      ]
     },
     "execution_count": 60,
     "metadata": {},
     "output_type": "execute_result"
    }
   ],
   "source": [
    "balls_by_bowler('SC Ganguly',1)"
   ]
  },
  {
   "cell_type": "markdown",
   "metadata": {},
   "source": [
    "#### Number of overs bowled by bowler X in match Y"
   ]
  },
  {
   "cell_type": "code",
   "execution_count": 61,
   "metadata": {
    "collapsed": true
   },
   "outputs": [],
   "source": [
    "def overs_by_bowler(bowler, match_id):\n",
    "    balls = (deliveries[(deliveries['match_id']==match_id)& (deliveries['bowler']== bowler) & (deliveries['wide_runs'] == 0) & (deliveries['is_super_over'] == 0) & (deliveries['noball_runs']==0)]).ball.count()\n",
    "    overs = float(int(balls/6) + float(balls%6)/10)\n",
    "    return (overs)"
   ]
  },
  {
   "cell_type": "code",
   "execution_count": 62,
   "metadata": {},
   "outputs": [
    {
     "data": {
      "text/plain": [
       "1.1"
      ]
     },
     "execution_count": 62,
     "metadata": {},
     "output_type": "execute_result"
    }
   ],
   "source": [
    "overs_by_bowler('LR Shukla', 1)"
   ]
  },
  {
   "cell_type": "markdown",
   "metadata": {},
   "source": [
    "#### Number of extra runs conceded by bowler X in match Y (wides, noballs)"
   ]
  },
  {
   "cell_type": "code",
   "execution_count": 63,
   "metadata": {
    "collapsed": true
   },
   "outputs": [],
   "source": [
    "def extras_by_bowler(bowler, match_id):\n",
    "        wide = (deliveries[(deliveries['match_id']==match_id)& (deliveries['bowler']== bowler) & (deliveries['is_super_over'] == 0)]).wide_runs.sum()\n",
    "        noball = (deliveries[(deliveries['match_id']==match_id)& (deliveries['bowler']== bowler) & (deliveries['is_super_over'] == 0)]).noball_runs.sum()\n",
    "        byes = (deliveries[(deliveries['match_id']==match_id)& (deliveries['bowler']== bowler) & (deliveries['is_super_over'] == 0)]).bye_runs.sum()\n",
    "        leg_byes = (deliveries[(deliveries['match_id']==match_id)& (deliveries['bowler']== bowler) & (deliveries['is_super_over'] == 0)]).legbye_runs.sum()\n",
    "    \n",
    "        return wide, noball"
   ]
  },
  {
   "cell_type": "code",
   "execution_count": 64,
   "metadata": {},
   "outputs": [
    {
     "name": "stdout",
     "output_type": "stream",
     "text": [
      "Wides =  1   Noballs =  0\n"
     ]
    }
   ],
   "source": [
    "wide, noball = extras_by_bowler('SC Ganguly', 1)\n",
    "print(\"Wides = \",wide,\" \",\"Noballs = \", noball)"
   ]
  },
  {
   "cell_type": "markdown",
   "metadata": {},
   "source": [
    "#### Economy rate of bowler X in match Y"
   ]
  },
  {
   "cell_type": "code",
   "execution_count": 65,
   "metadata": {
    "collapsed": true
   },
   "outputs": [],
   "source": [
    "def economy_rate(bowler, match_id):\n",
    "    import math\n",
    "    runs = runs_conceded_by_bowler(bowler, match_id)\n",
    "    overs = overs_by_bowler(bowler, match_id)\n",
    "    frac, whole = math.modf(overs)\n",
    "    total = whole + frac*10/6\n",
    "    return runs/total"
   ]
  },
  {
   "cell_type": "code",
   "execution_count": 66,
   "metadata": {},
   "outputs": [
    {
     "data": {
      "text/plain": [
       "5.25"
      ]
     },
     "execution_count": 66,
     "metadata": {},
     "output_type": "execute_result"
    }
   ],
   "source": [
    "economy_rate('SC Ganguly', 1)"
   ]
  },
  {
   "cell_type": "markdown",
   "metadata": {},
   "source": [
    "#### Bowler taking highest number of wickets in a match X according to rank Y"
   ]
  },
  {
   "cell_type": "code",
   "execution_count": 67,
   "metadata": {
    "collapsed": true
   },
   "outputs": [],
   "source": [
    "def highest_wickets_by_bowler(match_id, rank = 1):\n",
    "    bowlers = deliveries[deliveries['match_id'] == match_id].bowler.unique()\n",
    "    wick_by_bowler = {}\n",
    "    for bowler in bowlers:\n",
    "        wick_by_bowler[bowler] = (wickets_by_bowler(bowler, match_id))\n",
    "    data = sorted(wick_by_bowler.items(), key=lambda x:x[1], reverse=True)\n",
    "    return data[rank-1]\n",
    "    "
   ]
  },
  {
   "cell_type": "code",
   "execution_count": 68,
   "metadata": {},
   "outputs": [
    {
     "data": {
      "text/plain": [
       "('YK Pathan', 3)"
      ]
     },
     "execution_count": 68,
     "metadata": {},
     "output_type": "execute_result"
    }
   ],
   "source": [
    "highest_wickets_by_bowler(58,1)"
   ]
  },
  {
   "cell_type": "markdown",
   "metadata": {},
   "source": [
    "#### Bowler having highest economy rate in a match X according to rank Y"
   ]
  },
  {
   "cell_type": "code",
   "execution_count": 69,
   "metadata": {
    "collapsed": true
   },
   "outputs": [],
   "source": [
    "def highest_economy_rate(match_id, rank = 1):\n",
    "    bowlers = deliveries[deliveries['match_id'] == match_id].bowler.unique()\n",
    "    eco_by_bowler = {}\n",
    "    for bowler in bowlers:\n",
    "        eco_by_bowler[bowler] = round((economy_rate(bowler, match_id)),2)\n",
    "    data = sorted(eco_by_bowler.items(), key=lambda x:x[1])\n",
    "    return data[rank-1]\n",
    "    "
   ]
  },
  {
   "cell_type": "code",
   "execution_count": 70,
   "metadata": {},
   "outputs": [
    {
     "data": {
      "text/plain": [
       "('IK Pathan', 4.5)"
      ]
     },
     "execution_count": 70,
     "metadata": {},
     "output_type": "execute_result"
    }
   ],
   "source": [
    "highest_economy_rate(22)"
   ]
  },
  {
   "cell_type": "markdown",
   "metadata": {},
   "source": [
    "## Economy rate of any bowler any match any rank"
   ]
  },
  {
   "cell_type": "code",
   "execution_count": 71,
   "metadata": {
    "collapsed": true
   },
   "outputs": [],
   "source": [
    "def overall_economy_rate_by_bowler(match_id=0, team=None,bowler=None):\n",
    "    bowler_eco =[]\n",
    "    if(match_id==0):\n",
    "        if(team is not None):\n",
    "            runs_conceded = deliveries[deliveries['bowling_team'] == team].total_runs.sum()\n",
    "            balls = (deliveries[(deliveries['bowling_team'] == team) & (deliveries['wide_runs'] == 0) & (deliveries['is_super_over'] == 0) & (deliveries['noball_runs']==0)]).ball.count()\n",
    "            dot_balls = (deliveries[(deliveries['bowling_team'] == team) & (deliveries['wide_runs'] == 0) & (deliveries['is_super_over'] == 0) & (deliveries['noball_runs']==0)& (deliveries['total_runs']==0)]).ball.count()\n",
    "            overs = float(int(balls/6) + float(balls%6)/10)\n",
    "            frac, whole = math.modf(overs)\n",
    "            total = whole + frac*10/6\n",
    "            economy_rate = runs_conceded/total\n",
    "            bowler_eco.append((team, economy_rate, balls, overs, dot_balls))\n",
    "        elif (bowler == None): \n",
    "            bowlers = deliveries.bowler.unique()\n",
    "            for bowler in bowlers:\n",
    "                runs_conceded = deliveries[deliveries['bowler'] == bowler].total_runs.sum()-deliveries[deliveries['bowler'] == bowler].bye_runs.sum()-deliveries[deliveries['bowler'] == bowler].legbye_runs.sum() \n",
    "                balls = (deliveries[(deliveries['bowler']== bowler) & (deliveries['wide_runs'] == 0) & (deliveries['is_super_over'] == 0) & (deliveries['noball_runs']==0)]).ball.count()\n",
    "                dot_balls = (deliveries[(deliveries['bowler']== bowler) & (deliveries['wide_runs'] == 0) & (deliveries['is_super_over'] == 0) & (deliveries['noball_runs']==0)& (deliveries['total_runs']==0)]).ball.count()\n",
    "                overs = float(int(balls/6) + float(balls%6)/10)\n",
    "                frac, whole = math.modf(overs)\n",
    "                total = whole + frac*10/6\n",
    "                economy_rate = runs_conceded/total\n",
    "                bowler_eco.append((bowler, economy_rate, balls, overs, dot_balls))\n",
    "        else:\n",
    "            runs_conceded = deliveries[deliveries['bowler'] == bowler].total_runs.sum()-deliveries[deliveries['bowler'] == bowler].bye_runs.sum()-deliveries[deliveries['bowler'] == bowler].legbye_runs.sum()\n",
    "            balls = (deliveries[(deliveries['bowler']== bowler) & (deliveries['wide_runs'] == 0) & (deliveries['is_super_over'] == 0) & (deliveries['noball_runs']==0)]).ball.count()\n",
    "            dot_balls = (deliveries[(deliveries['bowler']== bowler) & (deliveries['wide_runs'] == 0) & (deliveries['is_super_over'] == 0) & (deliveries['noball_runs']==0)& (deliveries['total_runs']==0)]).ball.count()\n",
    "            overs = float(int(balls/6) + float(balls%6)/10)\n",
    "            frac, whole = math.modf(overs)\n",
    "            total = whole + frac*10/6\n",
    "            economy_rate = runs_conceded/total\n",
    "            bowler_eco.append((bowler, economy_rate, balls, overs, dot_balls))\n",
    "    else:\n",
    "        if (team is not None):\n",
    "            runs_conceded = deliveries[(deliveries['match_id'] == match_id)&(deliveries['bowling_team'] == team)].total_runs.sum()\n",
    "            balls = (deliveries[(deliveries['match_id'] == match_id)&(deliveries['bowling_team'] == team) & (deliveries['wide_runs'] == 0) & (deliveries['is_super_over'] == 0) & (deliveries['noball_runs']==0)]).ball.count()\n",
    "            dot_balls = (deliveries[(deliveries['match_id'] == match_id)&(deliveries['bowling_team'] == team) & (deliveries['wide_runs'] == 0) & (deliveries['is_super_over'] == 0) & (deliveries['noball_runs']==0)& (deliveries['total_runs']==0)]).ball.count()\n",
    "            overs = float(int(balls/6) + float(balls%6)/10)\n",
    "            frac, whole = math.modf(overs)\n",
    "            total = whole + frac*10/6\n",
    "            economy_rate = runs_conceded/total\n",
    "            bowler_eco.append((team, economy_rate, balls, overs, dot_balls))\n",
    "        elif (bowler == None): \n",
    "            bowlers = deliveries[deliveries['match_id'] == match_id].bowler.unique()\n",
    "            for bowler in bowlers:\n",
    "                runs_conceded = deliveries[(deliveries['match_id'] == match_id)&(deliveries['bowler'] == bowler)].total_runs.sum()-deliveries[(deliveries['match_id'] == match_id)&(deliveries['bowler'] == bowler)].bye_runs.sum()-deliveries[(deliveries['match_id'] == match_id)&(deliveries['bowler'] == bowler)].legbye_runs.sum()\n",
    "                balls = (deliveries[(deliveries['match_id'] == match_id)&(deliveries['bowler']== bowler) & (deliveries['wide_runs'] == 0) & (deliveries['is_super_over'] == 0) & (deliveries['noball_runs']==0)]).ball.count()\n",
    "                dot_balls = (deliveries[(deliveries['match_id'] == match_id)&(deliveries['bowler']== bowler) & (deliveries['wide_runs'] == 0) & (deliveries['is_super_over'] == 0) & (deliveries['noball_runs']==0)& (deliveries['total_runs']==0)]).ball.count()\n",
    "                overs = float(int(balls/6) + float(balls%6)/10)\n",
    "                frac, whole = math.modf(overs)\n",
    "                total = whole + frac*10/6\n",
    "                economy_rate = runs_conceded/total\n",
    "                bowler_eco.append((bowler, economy_rate, balls, overs, dot_balls))\n",
    "        else:\n",
    "            runs_conceded = deliveries[(deliveries['match_id'] == match_id)&(deliveries['bowler'] == bowler)].total_runs.sum()-deliveries[(deliveries['match_id'] == match_id)&(deliveries['bowler'] == bowler)].bye_runs.sum()-deliveries[(deliveries['match_id'] == match_id)&(deliveries['bowler'] == bowler)].legbye_runs.sum()\n",
    "            balls = (deliveries[(deliveries['match_id'] == match_id)&(deliveries['bowler']== bowler) & (deliveries['wide_runs'] == 0) & (deliveries['is_super_over'] == 0) & (deliveries['noball_runs']==0)]).ball.count()\n",
    "            dot_balls = (deliveries[(deliveries['match_id'] == match_id)&(deliveries['bowler']== bowler) & (deliveries['wide_runs'] == 0) & (deliveries['is_super_over'] == 0) & (deliveries['noball_runs']==0)& (deliveries['total_runs']==0)]).ball.count()\n",
    "            overs = float(int(balls/6) + float(balls%6)/10)\n",
    "            frac, whole = math.modf(overs)\n",
    "            total = whole + frac*10/6\n",
    "            economy_rate = runs_conceded/total\n",
    "            bowler_eco.append((bowler, economy_rate, balls, overs, dot_balls))\n",
    "    \n",
    "    return  bowler_eco\n",
    "\n",
    "\n",
    "# Bowler who took best economy rate in match 2?\n"
   ]
  },
  {
   "cell_type": "code",
   "execution_count": 72,
   "metadata": {},
   "outputs": [],
   "source": [
    "def bowler_balls(match_id=0, team = None, bowler=None, economy_rate=None, balls=None, overs=None,dot_balls=None, rank=1):\n",
    "    eco_balls_over = overall_economy_rate_by_bowler(match_id=match_id,team=team, bowler=bowler)\n",
    "    if(economy_rate is not None):\n",
    "        eco_balls_over = sorted(eco_balls_over, key=lambda x: x[1])\n",
    "        return eco_balls_over[rank-1][0],eco_balls_over[rank-1][1] \n",
    "    elif(balls is not None):\n",
    "        eco_balls_over = sorted(eco_balls_over, key=lambda x: x[2], reverse=True)\n",
    "        return eco_balls_over[rank-1][0],eco_balls_over[rank-1][2]\n",
    "    elif(overs is not None):\n",
    "        eco_balls_over = sorted(eco_balls_over, key=lambda x: x[3], reverse=True)\n",
    "        return eco_balls_over[rank-1][0],eco_balls_over[rank-1][3]\n",
    "    elif(dot_balls is not None):\n",
    "        eco_balls_over = sorted(eco_balls_over, key=lambda x: x[4], reverse=True)\n",
    "        return eco_balls_over[rank-1][0],eco_balls_over[rank-1][4]\n",
    "    else:\n",
    "        eco_balls_over = sorted(eco_balls_over, key=lambda x: x[1])\n",
    "        return eco_balls_over[rank-1]"
   ]
  },
  {
   "cell_type": "code",
   "execution_count": 73,
   "metadata": {},
   "outputs": [
    {
     "data": {
      "text/plain": [
       "('Chennai Super Kings', 8.424275560415529, 1829, 304.5, 653)"
      ]
     },
     "execution_count": 73,
     "metadata": {},
     "output_type": "execute_result"
    }
   ],
   "source": [
    "bowler_balls(team = 'Chennai Super Kings')"
   ]
  },
  {
   "cell_type": "code",
   "execution_count": 74,
   "metadata": {},
   "outputs": [
    {
     "data": {
      "text/plain": [
       "Index(['match_id', 'inning', 'batting_team', 'bowling_team', 'over', 'ball',\n",
       "       'batsman', 'non_striker', 'bowler', 'is_super_over', 'wide_runs',\n",
       "       'bye_runs', 'legbye_runs', 'noball_runs', 'penalty_runs',\n",
       "       'batsman_runs', 'extra_runs', 'total_runs', 'player_dismissed',\n",
       "       'dismissal_kind', 'fielder'],\n",
       "      dtype='object')"
      ]
     },
     "execution_count": 74,
     "metadata": {},
     "output_type": "execute_result"
    }
   ],
   "source": [
    "deliveries.columns"
   ]
  },
  {
   "cell_type": "markdown",
   "metadata": {},
   "source": [
    "## Runs conceded by any bowler any match any  rank"
   ]
  },
  {
   "cell_type": "code",
   "execution_count": 75,
   "metadata": {},
   "outputs": [],
   "source": [
    "def overall_runs_conceded(match_id=0,team=None, bowler=None):\n",
    "    over_all_runs = []\n",
    "    if(match_id==0):\n",
    "        if(team is not None):\n",
    "            total_runs_conceded = deliveries[deliveries['bowling_team'] == team].total_runs.sum()\n",
    "            bye_runs_conceded = deliveries[deliveries['bowling_team'] == team].bye_runs.sum()\n",
    "            legbye_runs_conceded = deliveries[deliveries['bowling_team'] == team].legbye_runs.sum()\n",
    "            wide = deliveries[deliveries['bowling_team'] == team].wide_runs.sum()\n",
    "            noball = deliveries[deliveries['bowling_team'] == team].noball_runs.sum()\n",
    "            four_boundary_conceded = deliveries[(deliveries['bowling_team'] == team)&(deliveries['batsman_runs']==4)].batsman_runs.count()\n",
    "            six_boundary_conceded = deliveries[(deliveries['bowling_team'] == team)&(deliveries['batsman_runs']==6)].batsman_runs.count()\n",
    "            runs = total_runs_conceded\n",
    "            total_boundaries = four_boundary_conceded + six_boundary_conceded\n",
    "            extras = wide + noball + bye_runs_conceded + legbye_runs_conceded\n",
    "            over_all_runs.append((team, runs ,wide, noball,extras, four_boundary_conceded, six_boundary_conceded, total_boundaries))          \n",
    "        elif (bowler == None):\n",
    "            bowlers = deliveries.bowler.unique()\n",
    "            for bowler in bowlers:\n",
    "                total_runs_conceded = deliveries[deliveries['bowler'] == bowler].total_runs.sum()\n",
    "                bye_runs_conceded = deliveries[deliveries['bowler'] == bowler].bye_runs.sum()\n",
    "                legbye_runs_conceded = deliveries[deliveries['bowler'] == bowler].legbye_runs.sum()\n",
    "                wide = deliveries[deliveries['bowler']== bowler].wide_runs.sum()\n",
    "                noball = deliveries[deliveries['bowler']== bowler].noball_runs.sum()\n",
    "                four_boundary_conceded = deliveries[(deliveries['bowler'] == bowler)&(deliveries['batsman_runs']==4)].batsman_runs.count()\n",
    "                six_boundary_conceded = deliveries[(deliveries['bowler'] == bowler)&(deliveries['batsman_runs']==6)].batsman_runs.count()\n",
    "                runs = total_runs_conceded - bye_runs_conceded - legbye_runs_conceded\n",
    "                total_boundaries = four_boundary_conceded + six_boundary_conceded\n",
    "                extras = wide + noball + bye_runs_conceded + legbye_runs_conceded\n",
    "                over_all_runs.append((bowler, runs ,wide, noball,extras, four_boundary_conceded, six_boundary_conceded, total_boundaries))\n",
    "                \n",
    "                \n",
    "        else:\n",
    "            total_runs_conceded = deliveries[deliveries['bowler'] == bowler].total_runs.sum()\n",
    "            wide = deliveries[deliveries['bowler']== bowler].wide_runs.sum()\n",
    "            noball = deliveries[deliveries['bowler']== bowler].noball_runs.sum()    \n",
    "            bye_runs_conceded = deliveries[deliveries['bowler'] == bowler].bye_runs.sum()\n",
    "            legbye_runs_conceded = deliveries[deliveries['bowler'] == bowler].legbye_runs.sum()\n",
    "            four_boundary_conceded = deliveries[(deliveries['bowler'] == bowler)&(deliveries['batsman_runs']==4)].batsman_runs.count()\n",
    "            six_boundary_conceded = deliveries[(deliveries['bowler'] == bowler)&(deliveries['batsman_runs']==6)].batsman_runs.count()\n",
    "            runs = total_runs_conceded - bye_runs_conceded - legbye_runs_conceded\n",
    "            total_boundaries = four_boundary_conceded + six_boundary_conceded\n",
    "            extras = wide + noball + bye_runs_conceded + legbye_runs_conceded\n",
    "            over_all_runs.append((bowler, runs ,wide, noball,extras, four_boundary_conceded, six_boundary_conceded, total_boundaries))\n",
    "            \n",
    "    else:\n",
    "        if(team is not None):\n",
    "            total_runs_conceded = deliveries[(deliveries['match_id'] == match_id)&(deliveries['bowling_team'] == team)].total_runs.sum()\n",
    "            wide = deliveries[(deliveries['match_id']==match_id)& (deliveries['bowling_team'] == team)].wide_runs.sum()\n",
    "            noball = deliveries[(deliveries['match_id']==match_id)& (deliveries['bowling_team'] == team)].noball_runs.sum()    \n",
    "            bye_runs_conceded = deliveries[(deliveries['match_id'] == match_id)&(deliveries['bowling_team'] == team)].bye_runs.sum()\n",
    "            legbye_runs_conceded = deliveries[(deliveries['match_id'] == match_id)&(deliveries['bowling_team'] == team)].legbye_runs.sum()\n",
    "            four_boundary_conceded = deliveries[(deliveries['match_id'] == match_id)&(deliveries['bowling_team'] == team)&(deliveries['batsman_runs']==4)].batsman_runs.count()\n",
    "            six_boundary_conceded = deliveries[(deliveries['match_id'] == match_id)&(deliveries['bowling_team'] == team)&(deliveries['batsman_runs']==6)].batsman_runs.count()\n",
    "            runs = total_runs_conceded\n",
    "            total_boundaries = four_boundary_conceded + six_boundary_conceded\n",
    "            extras = wide + noball + bye_runs_conceded + legbye_runs_conceded\n",
    "            over_all_runs.append((team, runs ,wide, noball,extras, four_boundary_conceded, six_boundary_conceded, total_boundaries))\n",
    "    \n",
    "        elif(bowler == None):\n",
    "            bowlers = deliveries[deliveries['match_id'] == match_id].bowler.unique()\n",
    "            for bowler in bowlers:\n",
    "                total_runs_conceded = deliveries[(deliveries['match_id'] == match_id)&(deliveries['bowler'] == bowler)].total_runs.sum()\n",
    "                bye_runs_conceded = deliveries[(deliveries['match_id'] == match_id)&(deliveries['bowler'] == bowler)].bye_runs.sum()\n",
    "                legbye_runs_conceded = deliveries[(deliveries['match_id'] == match_id)&(deliveries['bowler'] == bowler)].legbye_runs.sum()\n",
    "                wide = deliveries[(deliveries['match_id']==match_id)& (deliveries['bowler']== bowler)].wide_runs.sum()\n",
    "                noball = deliveries[(deliveries['match_id']==match_id)& (deliveries['bowler']== bowler)].noball_runs.sum()\n",
    "                four_boundary_conceded = deliveries[(deliveries['match_id'] == match_id)&(deliveries['bowler'] == bowler)&(deliveries['batsman_runs']==4)].batsman_runs.count()\n",
    "                six_boundary_conceded = deliveries[(deliveries['match_id'] == match_id)&(deliveries['bowler'] == bowler)&(deliveries['batsman_runs']==6)].batsman_runs.count()\n",
    "                runs = total_runs_conceded - bye_runs_conceded - legbye_runs_conceded\n",
    "                total_boundaries = four_boundary_conceded + six_boundary_conceded\n",
    "                extras = wide + noball + bye_runs_conceded + legbye_runs_conceded\n",
    "                over_all_runs.append((bowler, runs ,wide, noball,extras, four_boundary_conceded, six_boundary_conceded, total_boundaries))\n",
    "    \n",
    "                \n",
    "        else:\n",
    "            total_runs_conceded = deliveries[(deliveries['match_id'] == match_id)&(deliveries['bowler'] == bowler)].total_runs.sum()\n",
    "            wide = deliveries[(deliveries['match_id']==match_id)& (deliveries['bowler']== bowler)].wide_runs.sum()\n",
    "            noball = deliveries[(deliveries['match_id']==match_id)& (deliveries['bowler']== bowler)].noball_runs.sum()    \n",
    "            bye_runs_conceded = deliveries[(deliveries['match_id'] == match_id)&(deliveries['bowler'] == bowler)].bye_runs.sum()\n",
    "            legbye_runs_conceded = deliveries[(deliveries['match_id'] == match_id)&(deliveries['bowler'] == bowler)].legbye_runs.sum()\n",
    "            four_boundary_conceded = deliveries[(deliveries['match_id'] == match_id)&(deliveries['bowler'] == bowler)&(deliveries['batsman_runs']==4)].batsman_runs.count()\n",
    "            six_boundary_conceded = deliveries[(deliveries['match_id'] == match_id)&(deliveries['bowler'] == bowler)&(deliveries['batsman_runs']==6)].batsman_runs.count()\n",
    "            runs = total_runs_conceded - bye_runs_conceded - legbye_runs_conceded\n",
    "            total_boundaries = four_boundary_conceded + six_boundary_conceded\n",
    "            extras = wide + noball + bye_runs_conceded + legbye_runs_conceded\n",
    "            over_all_runs.append((bowler, runs ,wide, noball,extras, four_boundary_conceded, six_boundary_conceded, total_boundaries))\n",
    "    return over_all_runs"
   ]
  },
  {
   "cell_type": "code",
   "execution_count": 76,
   "metadata": {},
   "outputs": [],
   "source": [
    "def bowler_runs(match_id=0, team=None, bowler=None, runs=None, wide=None, noball=None,extras=None, fours=None, sixes=None, boundary=None, rank=1):\n",
    "    bowler_stats_data = overall_runs_conceded(match_id=match_id,team=team, bowler=bowler)\n",
    "    if (runs is not None):\n",
    "        bowler_stats_data = sorted(bowler_stats_data, key=lambda x: x[1], reverse=True)\n",
    "        return bowler_stats_data[rank-1][0:2]\n",
    "    elif (wide is not None):\n",
    "        bowler_stats_data = sorted(bowler_stats_data, key=lambda x: x[2], reverse=True)\n",
    "        return bowler_stats_data[rank-1][0],bowler_stats_data[rank-1][2]\n",
    "    elif (noball is not None):\n",
    "        bowler_stats_data = sorted(bowler_stats_data, key=lambda x: x[3], reverse=True)\n",
    "        return bowler_stats_data[rank-1][0],bowler_stats_data[rank-1][3]\n",
    "    elif (extras is not None):\n",
    "        bowler_stats_data = sorted(bowler_stats_data, key=lambda x: x[4], reverse=True)\n",
    "        return bowler_stats_data[rank-1][0],bowler_stats_data[rank-1][4]\n",
    "    elif (fours is not None):\n",
    "        bowler_stats_data = sorted(bowler_stats_data, key=lambda x: x[5], reverse=True)\n",
    "        return bowler_stats_data[rank-1][0],bowler_stats_data[rank-1][5]\n",
    "    elif (sixes is not None):\n",
    "        bowler_stats_data = sorted(bowler_stats_data, key=lambda x: x[6], reverse=True)\n",
    "        return bowler_stats_data[rank-1][0],bowler_stats_data[rank-1][6]\n",
    "    elif (boundary is not None):\n",
    "        bowler_stats_data = sorted(bowler_stats_data, key=lambda x: x[7], reverse=True)\n",
    "        return bowler_stats_data[rank-1][0],bowler_stats_data[rank-1][7]\n",
    "    else:\n",
    "        bowler_stats_data = sorted(bowler_stats_data, key=lambda x: x[1], reverse=True)\n",
    "        return bowler_stats_data[rank-1][0:2]"
   ]
  },
  {
   "cell_type": "code",
   "execution_count": 77,
   "metadata": {},
   "outputs": [
    {
     "data": {
      "text/plain": [
       "('Chennai Super Kings', 2568)"
      ]
     },
     "execution_count": 77,
     "metadata": {},
     "output_type": "execute_result"
    }
   ],
   "source": [
    "bowler_runs(team = 'Chennai Super Kings')"
   ]
  },
  {
   "cell_type": "markdown",
   "metadata": {},
   "source": [
    "## Wickets by any bowler any match any rank"
   ]
  },
  {
   "cell_type": "code",
   "execution_count": 78,
   "metadata": {},
   "outputs": [],
   "source": [
    "def wickets_function(match_id=0, team=None, bowler=None):\n",
    "    if(match_id == 0):\n",
    "        match_cond = True\n",
    "    else:\n",
    "        match_cond = (deliveries['match_id'] == match_id)\n",
    "        \n",
    "    if (team is None):\n",
    "        team_cond = True\n",
    "    else:\n",
    "        team_cond = (deliveries['bowling_team'] == team)\n",
    "        \n",
    "    if (bowler == None):\n",
    "        bowler_cond = True\n",
    "    else: \n",
    "        bowler_cond = (deliveries['bowler'] == bowler)\n",
    "        \n",
    "    total_wickets = deliveries[(match_cond)&(bowler_cond)].dismissal_kind.count()\n",
    "    run_outs = deliveries[(match_cond)&(bowler_cond) & (deliveries['dismissal_kind']== 'run out')].dismissal_kind.count()\n",
    "    wickets = total_wickets - run_outs\n",
    "    bowler_wicket.append((bowler, wickets))"
   ]
  },
  {
   "cell_type": "code",
   "execution_count": 79,
   "metadata": {
    "collapsed": true
   },
   "outputs": [],
   "source": [
    "def bowler_wickets(match_id=0, team=None, bowler=None,rank =1):\n",
    "    bowler_wicket =[]\n",
    "    if(match_id==0):\n",
    "        if (team is not None):\n",
    "            total_wickets = deliveries[deliveries['bowling_team'] == team].dismissal_kind.count()\n",
    "            wickets_total = total_wickets\n",
    "            bowlers = deliveries[deliveries['bowling_team'] == team].bowler.unique()\n",
    "            for bowler in bowlers:\n",
    "                total_wickets = deliveries[deliveries['bowler'] == bowler].dismissal_kind.count()\n",
    "                run_outs = deliveries[(deliveries['bowler'] == bowler) & (deliveries['dismissal_kind']== 'run out')].dismissal_kind.count()\n",
    "                wickets = total_wickets - run_outs\n",
    "                bowler_wicket.append((bowler, wickets, team, wickets_total))\n",
    "        \n",
    "        elif (bowler == None): \n",
    "            bowlers = deliveries.bowler.unique()\n",
    "            for bowler in bowlers:\n",
    "                total_wickets = deliveries[deliveries['bowler'] == bowler].dismissal_kind.count()\n",
    "                run_outs = deliveries[(deliveries['bowler'] == bowler) & (deliveries['dismissal_kind']== 'run out')].dismissal_kind.count()\n",
    "                wickets = total_wickets - run_outs\n",
    "                bowler_wicket.append((bowler, wickets))\n",
    "        else:\n",
    "            total_wickets = deliveries[deliveries['bowler'] == bowler].dismissal_kind.count()\n",
    "            run_outs = deliveries[(deliveries['bowler'] == bowler) & (deliveries['dismissal_kind']== 'run out')].dismissal_kind.count()\n",
    "            wickets = total_wickets - run_outs\n",
    "            bowler_wicket.append((bowler, wickets))\n",
    "    else:\n",
    "        if (team is not None):\n",
    "            total_wickets = deliveries[(deliveries['match_id'] == match_id) & (deliveries['bowling_team'] == team)].dismissal_kind.count()\n",
    "            wickets_total = total_wickets \n",
    "            bowlers = deliveries[(deliveries['match_id'] == match_id)& (deliveries['bowling_team'] == team)].bowler.unique()\n",
    "            for bowler in bowlers:\n",
    "                total_wickets = deliveries[(deliveries['match_id'] == match_id)&(deliveries['bowler'] == bowler)].dismissal_kind.count()\n",
    "                run_outs = deliveries[(deliveries['match_id'] == match_id)&(deliveries['bowler'] == bowler) & (deliveries['dismissal_kind']== 'run out')].dismissal_kind.count()\n",
    "                wickets = total_wickets - run_outs\n",
    "                bowler_wicket.append((bowler, wickets, team, wickets_total))\n",
    "        elif (bowler == None):\n",
    "            bowlers = deliveries[(deliveries['match_id'] == match_id)].bowler.unique()\n",
    "            for bowler in bowlers:\n",
    "                total_wickets = deliveries[(deliveries['match_id'] == match_id)&(deliveries['bowler'] == bowler)].dismissal_kind.count()\n",
    "                run_outs = deliveries[(deliveries['match_id'] == match_id)&(deliveries['bowler'] == bowler) & (deliveries['dismissal_kind']== 'run out')].dismissal_kind.count()\n",
    "                wickets = total_wickets - run_outs\n",
    "                bowler_wicket.append((bowler, wickets))\n",
    "        else:\n",
    "            total_wickets = deliveries[(deliveries['match_id'] == match_id)&(deliveries['bowler'] == bowler)].dismissal_kind.count()\n",
    "            run_outs = deliveries[(deliveries['match_id'] == match_id)&(deliveries['bowler'] == bowler) & (deliveries['dismissal_kind']== 'run out')].dismissal_kind.count()\n",
    "            wickets = total_wickets - run_outs\n",
    "            bowler_wicket.append((bowler, wickets))\n",
    "    bowler_wicket = sorted(bowler_wicket, key=lambda x: x[1], reverse=True)\n",
    "    return  bowler_wicket[rank-1]\n",
    "\n",
    "\n",
    "\n",
    "\n",
    "# Bowler who took highest number of wickets in match 2?\n",
    "# The player who has taken most numbe of wickets in match 4?\n",
    "# Highest wicket taker in overall match 3?\n",
    "# Which bowler took more number of wickets in match 10?\n",
    "# More number of wickets in match 12 are taken by?\n",
    "# Leading wicket taker of match 18?\n",
    "# Leading wicket taker of first match?\n",
    "# Highest wicket taker of second match?\n",
    "# Who secured more number of wickets in match 33?\n",
    "# Which player took more number of wickets in match 54?\n",
    "# How many wickets did SC Ganguly take in match match 1?"
   ]
  },
  {
   "cell_type": "code",
   "execution_count": 80,
   "metadata": {},
   "outputs": [
    {
     "data": {
      "text/plain": [
       "('AB Agarkar', 3, 'Kolkata Knight Riders', 10)"
      ]
     },
     "execution_count": 80,
     "metadata": {},
     "output_type": "execute_result"
    }
   ],
   "source": [
    "bowler_wickets(match_id=1,team='Kolkata Knight Riders', rank=1)"
   ]
  },
  {
   "cell_type": "markdown",
   "metadata": {},
   "source": [
    "#### Purple Cap"
   ]
  },
  {
   "cell_type": "code",
   "execution_count": 81,
   "metadata": {
    "collapsed": true
   },
   "outputs": [],
   "source": [
    "def purple_cap():\n",
    "    print(\"Purple Cap: \", bowler_wickets(rank = 1))"
   ]
  },
  {
   "cell_type": "code",
   "execution_count": 82,
   "metadata": {},
   "outputs": [
    {
     "name": "stdout",
     "output_type": "stream",
     "text": [
      "Purple Cap:  ('Sohail Tanvir', 22)\n"
     ]
    }
   ],
   "source": [
    "purple_cap()"
   ]
  },
  {
   "cell_type": "markdown",
   "metadata": {},
   "source": [
    "# Training Part"
   ]
  },
  {
   "cell_type": "code",
   "execution_count": 83,
   "metadata": {},
   "outputs": [],
   "source": [
    "def feature_extractor(sentence):\n",
    "    features = {'highest': 0,\n",
    "                'runs': 0,\n",
    "                'wickets': 0,\n",
    "                'boundary': 0,\n",
    "                'wicket': 0,\n",
    "                'match': 0,\n",
    "                'leading': 0,\n",
    "                'overall': 0,\n",
    "                'bowler': 0,\n",
    "                'deliveries': 0,\n",
    "                'dismissals': 0,\n",
    "                'overs': 0,\n",
    "                'bowled': 0,\n",
    "                'balls': 0,\n",
    "                'fours': 0,\n",
    "                'sixes': 0,\n",
    "                'conceded': 0,\n",
    "                'bowl': 0,\n",
    "                'lead': 0,\n",
    "                'economy': 0,\n",
    "                'economical': 0,\n",
    "                'economic' : 0,\n",
    "                'economy rate': 0,\n",
    "                'rate': 0,\n",
    "                'maximum': 0,\n",
    "                'dot': 0,\n",
    "                'dots': 0,\n",
    "                'give': 0,\n",
    "                'giver': 0,\n",
    "                'given': 0,\n",
    "                'expensive': 0\n",
    "               }\n",
    "    tokenized_sentence = nltk.word_tokenize(sentence)\n",
    "    word_counts = nltk.Counter(tokenized_sentence)\n",
    "    for word in word_counts:\n",
    "        if word in features:\n",
    "            features[word] = word_counts[word]\n",
    "    return features\n",
    "\n",
    "def feature_extractor_rank(sentence):\n",
    "    features = {'highest': 0,\n",
    "                'leading': 0,\n",
    "                'lead': 0,\n",
    "                'high': 0,\n",
    "                'more':0,\n",
    "                'most': 0,\n",
    "                'maximum': 0,\n",
    "                'max':0,\n",
    "                'top':0,\n",
    "                'bottom':0,\n",
    "                'upper':0,\n",
    "                'min':0,\n",
    "                'least': 0,\n",
    "                'less':0,\n",
    "                'minimum': 0,\n",
    "                'least': 0,\n",
    "                'low': 0,\n",
    "                'lowest': 0,\n",
    "                'best': 0,\n",
    "                'good': 0,\n",
    "                'better': 0,\n",
    "                'first':0,\n",
    "                'last':0,\n",
    "                }\n",
    "    tokenized_sentence = nltk.word_tokenize(sentence)\n",
    "    word_counts = nltk.Counter(tokenized_sentence)\n",
    "    for word in word_counts:\n",
    "        if word in features:\n",
    "            features[word] = word_counts[word]\n",
    "    return features\n",
    "\n",
    "def feature_extractor_balls(sentence):\n",
    "    features = {'deliveries': 0,\n",
    "                'balls': 0,\n",
    "                'overs': 0,\n",
    "                'over': 0,\n",
    "                'economy': 0,\n",
    "                'economical': 0,\n",
    "                'economic' : 0,\n",
    "                'economy rate': 0,\n",
    "                'expensive': 0,\n",
    "                'rate': 0,\n",
    "                'dot': 0,\n",
    "                'dots': 0,\n",
    "                'dotballs': 0,\n",
    "                'dot-balls': 0,\n",
    "                    \n",
    "                   }\n",
    "    tokenized_sentence = nltk.word_tokenize(sentence)\n",
    "    word_counts = nltk.Counter(tokenized_sentence)\n",
    "    for word in word_counts:\n",
    "        if word in features:\n",
    "            features[word] = word_counts[word]\n",
    "    return features\n",
    "\n",
    "def feature_extractor_runs(sentence):\n",
    "    features = {'sixes': 0,\n",
    "                'six':0,\n",
    "                '6s': 0,\n",
    "                '4s': 0,\n",
    "                'fours':0,\n",
    "                'four':0,\n",
    "                'concede':0,\n",
    "                'conceded':0,\n",
    "                'runs':0,\n",
    "                'boundaries':0,\n",
    "                'boundary':0,\n",
    "                'score':0,\n",
    "                'giver': 0,\n",
    "                'given': 0,\n",
    "                'give': 0,\n",
    "                'gave':0,\n",
    "                'wide':0,\n",
    "                'wides': 0,\n",
    "                'wide delivery':0,\n",
    "                'wide deliveries':0,\n",
    "                'wide ball':0,\n",
    "                'wide balls': 0,\n",
    "                'wide-ball':0,\n",
    "                'wide-balls':0,\n",
    "                'noball': 0,\n",
    "                'noballs': 0,\n",
    "                'extra': 0,\n",
    "                'extras': 0,\n",
    "                'dot': 0,\n",
    "                'dots': 0,\n",
    "                'dotballs': 0,\n",
    "                'dot-balls': 0\n",
    "                   }\n",
    "    tokenized_sentence = nltk.word_tokenize(sentence)\n",
    "    word_counts = nltk.Counter(tokenized_sentence)\n",
    "    for word in word_counts:\n",
    "        if word in features:\n",
    "            features[word] = word_counts[word]\n",
    "    return features"
   ]
  },
  {
   "cell_type": "code",
   "execution_count": 84,
   "metadata": {},
   "outputs": [],
   "source": [
    "train_sentences = [# bowler and wickets related\n",
    "                    (\"how many wickets did sc ganguly take in match 1?\", \"bowler_wickets\"),\n",
    "                    (\"ganguly's wickets in match 1?\",\"bowler_wickets\"),\n",
    "                    (\"dravid's wickets in match 15?\",\"bowler_wickets\"),\n",
    "                    (\"fernando's wickets in 1st match?\",\"bowler_wickets\"),\n",
    "                    (\"Dravid's wickets in 2nd match of IPL?\",\"bowler_wickets\"),\n",
    "                    (\"bowler who took highest number of wickets in match 2?\", \"bowler_wickets\"),\n",
    "                    (\"the player who has taken most numbe of wickets in match 4?\", \"bowler_wickets\"),\n",
    "                    (\"highest wicket taker in overall match 3?\", \"bowler_wickets\"),\n",
    "                    (\"which bowler took more number of wickets in match 10?\", \"bowler_wickets\"),\n",
    "                    (\"more number of wickets in match 12 are taken by?\", \"bowler_wickets\"),\n",
    "                    (\"leading wicket taker of match 18?\", \"bowler_wickets\"),\n",
    "                    (\"who secured more number of wickets in match 33?\", \"bowler_wickets\"),\n",
    "                    (\"which player took more number of wickets in match 54?\", \"bowler_wickets\"),\n",
    "                    (\"how many wickets did SC Ganguly take in match match 1?\", \"bowler_wickets\"),\n",
    "                    (\"who secured more number of wickets in overall IPL?\", \"bowler_wickets\"),\n",
    "                    (\"which bowler has most number of dismissals in match 19?\",\"bowler_wickets\"),\n",
    "                    (\"highest wicket taker in IPL?\",\"bowler_wickets\"),\n",
    "                    (\"how many wickets did sm pollock take in ipl?\",\"bowler_wickets\"),\n",
    "                    (\"CRD Fernando's wickets in match 31?\",\"bowler_wickets\"),\n",
    "                    (\"crd fernando's wickets in ipl?\",\"bowler_wickets\"),\n",
    "                    (\"how many wickets has ganguly taken in ipl ?\",\"bowler_wickets\"),\n",
    "                    (\"how many wickets had ganguly taken in ipl?\",\"bowler_wickets\"),\n",
    "                    # bowler and balls related\n",
    "                    (\"how many balls did SR Tendulkar bowl in match 1?\",\"bowler_balls\" ),\n",
    "                    (\"which bowler bowled the least number of balls in match 10?\",\"bowler_balls\"),\n",
    "                    (\"who bowled the least number of deliveries in IPL?\",\"bowler_balls\"),\n",
    "                    (\"who bowled the most number of balls in IPL?\", \"bowler_balls\"),\n",
    "                    (\"who bowled the least number of balls in IPL?\", \"bowler_balls\"),\n",
    "                    (\"second highest count of number of balls bowled in a match\",\"bowler_balls\"),\n",
    "                    (\"how many overs did SC Ganguly bowl in match1?\",\"bowler_balls\"),\n",
    "                    (\"who bowled the most number of overs ib IPL?\", \"bowler_balls\"),\n",
    "                    (\"who bowled the least number of overs ib IPL?\", \"bowler_balls\"),\n",
    "                    (\"what were the number of overs bolwed by Dravid in final?\",\"bowler_balls\"),\n",
    "                    (\"third lowest count of number of overs bolwed in IPL\",\"bowler_balls\"),\n",
    "                    (\"bowler with best economy rate?\", \"bowler_balls\"),\n",
    "                    (\"who is the player with lowest economy rate?\",\"bowler_balls\"),\n",
    "                    (\"the most economical bowler in match 10?\",\"bowler_balls\"),\n",
    "                    (\"who is the bowler having lowest economy rate in match 18?\",\"bowler_balls\"),\n",
    "                    (\"who is the bowler with high number of dot balls?\",\"bowler_balls\"),\n",
    "                    (\"most of dots are bowled by which player in match 15?\",\"bowler_balls\"),\n",
    "                    (\"who bowled most number of dot deliveries?\",\"bowler_balls\"),\n",
    "                    (\"who is the most expensive bowler?\", \"bowler_balls\"),\n",
    "                    # bowler and runs related\n",
    "                    (\"how many runs did sr tendulkar concede in ipl?\",\"bolwer_runs\"),\n",
    "                    (\"how many sixes did SC Ganguly give in IPL?\",\"bowler_runs\"),\n",
    "                    (\"who conceded most number of runs in IPL ?\",\"bowler_runs\"),\n",
    "                    (\"who conceded most nuber of fours in match 10?\",\"bowler_runs\"),\n",
    "                    (\"bowler who conceded most numer of sixes in match 12?\",\"bowler_runs\"),\n",
    "                    (\"which bowler conceded lowest boundaries in match 38?\",\"bowler_runs\"),\n",
    "                    (\"who has given less number of sixes in match 2?\",\"bowler_runs\"),\n",
    "                    (\"how many runs given by SC Ganguly in match 1?\",\"bowler_runs\"),\n",
    "                    (\"how many boundaries conceded by BC Lee?\",\"bowler_runs\"),\n",
    "                    (\"which bowler conceded maximum number of runs?\",\"bowler_runs\"),\n",
    "                    (\"who got hit with most number of sixes?\",\"bowler_runs\"),\n",
    "                    (\"what is the number of runs given by RA Jadeja?\",\"bowler_runs\"),\n",
    "                    (\"who has given most number of runs in final?\",\"bowler_runs\"),\n",
    "                    (\"bowler who gave less number of runs in semi-final?\",\"bowler_runs\"),\n",
    "                    (\"highest run giver in match 8?\", \"bowler_runs\"),\n",
    "                    (\"most runs are given by which bowler in match 3?\",\"bowler_runs\")\n",
    "             ]\n",
    "\n",
    "train_sentences_rank = [\n",
    "                    (\"who is the bowler with lowest economy rate?\",\"low\"),#\n",
    "                    (\"least expensive bowler?\",\"low\"),#\n",
    "                    (\"which bowler gave lowest number of fours?\",\"low\"),\n",
    "                    (\"who bowled low number of noballs\",\"low\"),\n",
    "                    (\"who bowled lowest number of extras\",\"low\"),    \n",
    "                    (\"who is the lowest economic bowler\",\"low\"),#\n",
    "                    (\"Who is the bowler with lowest economy?\",\"low\"),#\n",
    "                    (\"which bowler conceded lowest boundaries in match 38?\",\"low\"),\n",
    "                    (\"bowler who gave less number of runs in semi-final?\",\"low\"),\n",
    "                    (\"who bowled the least number of overs ib IPL?\", \"low\"),\n",
    "                    (\"third lowest count of number of overs bolwed in IPL\",\"low\"),\n",
    "                    (\"who is the player with lowest economy rate?\",\"low\"),#\n",
    "                    (\"who is the bowler having lowest economy rate in match 18?\",\"low\"),\n",
    "                    (\"who has given less number of sixes in match 2?\",\"low\"),\n",
    "                    (\"who is the bowler who gave less four in his innings?\",\"low\"),\n",
    "                    (\"which bowler bowled the least number of balls in match 10?\",\"low\"),\n",
    "                    (\"who bowled the least number of deliveries in IPL?\",\"low\"),\n",
    "                    (\"who bowled the least number of balls in IPL?\", \"low\"),\n",
    "                    (\"bowler with best economy rate?\", \"high\"),#\n",
    "                    (\"second highest count of number of balls bowled in a match\",\"high\"),\n",
    "                    (\"how many overs did SC Ganguly bowl in match1?\",\"high\"),#\n",
    "                    (\"who bowled the most number of overs ib IPL?\", \"high\"),\n",
    "                    (\"who is the most economic bowler\",\"high\"),#\n",
    "                    (\"who is the bowler with high number of dot balls?\",\"high\"),\n",
    "                    (\"who is the bowler with high number of dot-balls?\",\"high\"),\n",
    "                    (\"most of dots are bowled by which player in match 15?\",\"high\"),\n",
    "                    (\"who bowled most number of dot deliveries?\",\"high\"),\n",
    "                    (\"who is the most expensive bowler?\", \"high\"), \n",
    "                    (\"how many wide balls did SC Ganguly bowl\",\"high\"),\n",
    "                    (\"highest wides are bowled by?\",\"high\"),\n",
    "                    (\"who bowled most number of wide-deliveries\",\"high\"),\n",
    "                    (\"who bowled most number of wide-delivery\",\"high\"),\n",
    "                    (\"the bowler with more number of extra deliveries\", \"high\"),\n",
    "                    (\"who conceded most number of runs in IPL ?\",\"high\"),\n",
    "                    (\"who conceded most nuber of fours in match 10?\",\"high\"),\n",
    "                    (\"bowler who conceded most numer of sixes in match 12?\",\"high\"),\n",
    "                    (\"which bowler conceded maximum number of runs?\",\"high\"),\n",
    "                    (\"who got hit with most number of sixes?\",\"high\"),\n",
    "                    (\"who has given most number of runs in final?\",\"high\"),\n",
    "                    (\"highest run giver in match 8?\", \"high\"),\n",
    "                    (\"who bowled most number of no-balls\",\"high\"),\n",
    "                    (\"who bowled most number of extras\",\"high\"),\n",
    "                    (\"most runs are given by which bowler in match 3?\",\"high\"),\n",
    "                    (\"highest boundary giver?\",\"high\"),\n",
    "                    (\"who gave highest number of 4s?\",\"high\"),\n",
    "                    (\"highet number of six are given by which bowler?\",\"high\"),\n",
    "                    (\"most number of boundaries are conceded by which bowler?\",\"high\"),\n",
    "                    (\"highest number of 4s are given by ?\",\"high\"),\n",
    "                    (\"the most economical bowler in match 10?\",\"high\"),\n",
    "                    (\"highest number of 6s are given by ?\",\"high\"),\n",
    "                    (\"highest number of boundaries are given by ?\",\"high\"),\n",
    "                    (\"who bowled the most number of balls in IPL?\", \"high\"),\n",
    "    \n",
    "]\n",
    "\n",
    "train_sentences_balls =[\n",
    "                    (\"how many balls did SR Tendulkar bowl in match 1?\",\"balls\" ),\n",
    "                    (\"which bowler bowled the least number of balls in match 10?\",\"balls\"),\n",
    "                    (\"who bowled the least number of deliveries in IPL?\",\"balls\"),\n",
    "                    (\"who bowled the most number of balls in IPL?\", \"balls\"),\n",
    "                    (\"who bowled the least number of balls in IPL?\", \"balls\"),\n",
    "                    (\"second highest count of number of balls bowled in a match\",\"balls\"),\n",
    "                    (\"how many overs did SC Ganguly bowl in match1?\",\"overs\"),\n",
    "                    (\"who bowled the most number of overs ib IPL?\", \"overs\"),\n",
    "                    (\"who bowled the least number of overs ib IPL?\", \"overs\"),\n",
    "                    (\"what were the number of overs bolwed by Dravid in final?\",\"overs\"),\n",
    "                    (\"third lowest count of number of overs bolwed in IPL\",\"overs\"),\n",
    "                    (\"bowler with best economy rate?\", \"economy_rate\"),\n",
    "                    (\"who is the player with lowest economy rate?\",\"economy_rate\"),\n",
    "                    (\"the most economical bowler in match 10?\",\"economy_rate\"),\n",
    "                    (\"who is the bowler having lowest economy rate in match 18?\",\"economy_rate\"),\n",
    "                    (\"who is the most economic bowler\",\"economic_rate\"),\n",
    "                    (\"who is the lowest economic bowler\",\"economy_rate\"),\n",
    "                    (\"Who is the bowler with lowest economy?\",\"economy_rate\"),\n",
    "                    (\"who is the bowler with high number of dot balls?\",\"dot_balls\"),\n",
    "                    (\"who is the bowler with high number of dot-balls?\",\"dot_balls\"),\n",
    "                    (\"most of dots are bowled by which player in match 15?\",\"dot_balls\"),\n",
    "                    (\"who bowled most number of dot deliveries?\",\"dot_balls\"),\n",
    "                    (\"who is the most expensive bowler?\", \"economy_rate\"),\n",
    "                    \n",
    "                ]\n",
    "\n",
    "train_sentences_runs =[\n",
    "                    (\"how many wide balls did SC Ganguly bowl\",\"wide_balls\"),\n",
    "                    (\"highest wides are bowled by?\",\"wide_balls\"),\n",
    "                    (\"who bowled most number of wide-deliveries\",\"wide_balls\"),\n",
    "                    (\"who bowled most number of wide-delivery\",\"wide_balls\"),\n",
    "                    (\"who bowled low number of noballs\",\"no_balls\"),\n",
    "                    (\"who bowled most number of no-balls\",\"no_balls\"),\n",
    "                    (\"who bowled most number of extras\",\"extras\"),\n",
    "                    (\"who bowled lowest number of extras\",\"extras\"),\n",
    "                    (\"the bowler with more number of extra deliveries\", \"extras\"),\n",
    "                    (\"how many runs did sr tendulkar concede in ipl?\",\"runs\"),\n",
    "                    (\"how many sixes did SC Ganguly give in IPL?\",\"sixes\"),\n",
    "                    (\"who conceded most number of runs in IPL ?\",\"runs\"),\n",
    "                    (\"who conceded most nuber of fours in match 10?\",\"fours\"),\n",
    "                    (\"bowler who conceded most numer of sixes in match 12?\",\"sixes\"),\n",
    "                    (\"which bowler conceded lowest boundaries in match 38?\",\"boundaries\"),\n",
    "                    (\"who has given less number of sixes in match 2?\",\"sixes\"),\n",
    "                    (\"how many runs given by SC Ganguly in match 1?\",\"runs\"),\n",
    "                    (\"how many boundaries conceded by BC Lee?\",\"boundaries\"),\n",
    "                    (\"which bowler conceded maximum number of runs?\",\"runs\"),\n",
    "                    (\"who got hit with most number of sixes?\",\"sixes\"),\n",
    "                    (\"what is the number of runs given by RA Jadeja?\",\"runs\"),\n",
    "                    (\"who has given most number of runs in final?\",\"runs\"),\n",
    "                    (\"bowler who gave less number of runs in semi-final?\",\"runs\"),\n",
    "                    (\"highest run giver in match 8?\", \"runs\"),\n",
    "                    (\"most runs are given by which bowler in match 3?\",\"runs\"),\n",
    "                    (\"highest boundary giver?\",\"boundaries\"),\n",
    "                    (\"who gave highest number of 4s?\",\"fours\"),\n",
    "                    (\"which bowler gave lowest number of fours?\",\"fours\"),\n",
    "                    (\"who is the bowler who gave less four in his innings?\",\"fours\"),\n",
    "                    (\"who gave more number of 4s in match 6?\", \"fours\"),\n",
    "                    (\"who gave more number of 6s in match 4?\", \"sixes\"),\n",
    "                    (\"highet number of six are given by which bowler?\",\"sixes\"),\n",
    "                    (\"most number of boundaries are conceded by which bowler?\",\"boundaries\"),\n",
    "                    (\"highest number of 4s are given by ?\",\"fours\"),\n",
    "                    (\"highest number of 6s are given by ?\",\"sixes\"),\n",
    "                    (\"highest number of boundaries are given by ?\",\"boundaries\"),\n",
    "                ]"
   ]
  },
  {
   "cell_type": "code",
   "execution_count": 85,
   "metadata": {
    "collapsed": true
   },
   "outputs": [],
   "source": [
    "candidate_questions = list(list(zip(*train_sentences))[0])"
   ]
  },
  {
   "cell_type": "code",
   "execution_count": 86,
   "metadata": {},
   "outputs": [],
   "source": [
    "for question in candidate_questions:\n",
    "    tagged_question = []\n",
    "    for tagged_word in nltk.pos_tag(nltk.word_tokenize(question)):\n",
    "        tagged_question.append(nltk.tuple2str(tagged_word))\n",
    "#     print(' '.join(tagged_question))"
   ]
  },
  {
   "cell_type": "code",
   "execution_count": 87,
   "metadata": {
    "collapsed": true
   },
   "outputs": [],
   "source": [
    "corrected_train = \"\"\"how/WRB many/JJ wickets/NNS did/VBD sc/NNP ganguly/NNP take/VB in/IN match/NN 1/CD ?/.\n",
    "bowler/NN who/WP took/VBD highest/JJS number/NN of/IN wickets/NNS in/IN match/NN 2/CD ?/.\n",
    "the/DT player/NN who/WP has/VBZ taken/VBN most/JJS numbe/JJ of/IN wickets/NNS in/IN match/NN 4/CD ?/.\n",
    "highest/JJS wicket/NN taker/NN in/IN overall/JJ match/NN 3/CD ?/.\n",
    "tanveer/NNP 's/POS wickets/NNS in/IN ipl/NN ?/.\n",
    "ganguly/NNP 's/POS wickets/NNS in/IN IPL/NN ?/.\n",
    "wickets/NNS of/IN ganguly/NNP in/IN IPL/NN ?/.\n",
    "wickets/NNS of/IN sc/NNP ganguly/NNP in/IN IPL/NN ?/.\n",
    "wickets/NNS of/IN Ganguly/NNP in/IN IPL/NN ?/.\n",
    "wickets/NNS of/IN Sc/NNP ganguly/NNP in/IN IPL/NN ?/.\n",
    "wickets/NNS of/IN kolkata/NNP knight/NNP riders/NNP in/IN IPL/NN ?/.\n",
    "wickets/NNS of/IN KKR/NNP in/IN IPL/NN ?/.\n",
    "wickets/NNS of/IN royal/NNP challengers/NNP in/IN IPL/NN ?/.\n",
    "dravid/NNP 's/POS wickets/NNS in/IN match/NN 15/CD ?/.\n",
    "ds/NNP kulkarni/NNP 's/POS wickets/NNS in/IN ipl/NN ?/.\n",
    "DR/NNP Smith/NNP 's/POS wickets/NNS in/IN ipl/NN ?/.\n",
    "dw/NNP steyn/NNP 's/POS wickets/NNS in/IN ipl/NN ?/.\n",
    "Kumar/NNP 's/POS wickets/NNS in/IN ipl/NN ?/.\n",
    "how/WRB many/JJ wickets/NNS has/VBZ ganguly/NNP taken/VBN in/IN ipl/NN ?/.\n",
    "how/WRB many/JJ wickets/NNS has/VBZ Royal/NNP Challengers/NNP Bangalore/NNP taken/VBN in/IN ipl/NN ?/.\n",
    "how/WRB many/JJ wickets/NNS has/VBZ royal/NNP challengers/NNP bangalore/NNP taken/VBN in/IN ipl/NN ?/.\n",
    "how/WRB many/JJ wickets/NNS had/VBD Royal/NNP Challengers/NNP Bangalore/NNP taken/VBN in/IN ipl/NN ?/.\n",
    "how/WRB many/JJ wickets/NNS had/VBD royal/NNP challengers/NNP bangalore/NNP taken/VBN in/IN ipl/NN ?/.\n",
    "how/WRB many/JJ wickets/NNS has/VBZ Kolkata/NNP Knight/NNP Riders/NNP taken/VBN in/IN ipl/NN ?/.\n",
    "how/WRB many/JJ wickets/NNS has/VBZ kolkata/NNP knight/NNP riders/NNP taken/VBN in/IN ipl/NN ?/.\n",
    "how/WRB many/JJ wickets/NNS had/VBD Kolkata/NNP Knight/NNP Riders/NNP taken/VBN in/IN ipl/NN ?/.\n",
    "how/WRB many/JJ wickets/NNS had/VBD kolkata/NNP knight/NNP riders/NNP taken/VBN in/IN ipl/NN ?/.\n",
    "how/WRB many/JJ wickets/NNS did/VBD Royal/NNP Challengers/NNP Bangalore/NNP take/VB in/IN ipl/NN ?/.\n",
    "how/WRB many/JJ wickets/NNS did/VBD royal/NNP challengers/NNP bangalore/NNP take/VB in/IN ipl/NN ?/.\n",
    "\n",
    "how/WRB many/JJ wickets/NNS did/VBD Kolkata/NNP Knight/NNP Riders/NNP take/VB in/IN ipl/NN ?/.\n",
    "how/WRB many/JJ wickets/NNS did/VBD kolkata/NNP knight/NNP riders/NNP take/VB in/IN ipl/NN ?/.\n",
    "how/WRB many/JJ wickets/NNS has/VBZ SC/NNP Ganguly/NNP taken/VBN in/IN ipl/NN ?/.\n",
    "how/WRB many/JJ wickets/NNS has/VBZ Ganguly/NNP taken/VBN in/IN ipl/NN ?/.\n",
    "how/WRB many/JJ wickets/NNS has/VBZ sc/NNP ganguly/NNP taken/VBN in/IN ipl/NN ?/.\n",
    "how/WRB many/JJ wickets/NNS had/VBD dravid/NNP taken/VBN in/IN ipl/NN ?/.\n",
    "which/WDT bowler/NN took/VBD more/JJR number/NN of/IN wickets/NNS in/IN match/NN 10/CD ?/.\n",
    "more/RBR number/NN of/IN wickets/NNS in/IN match/NN 12/CD are/VBP taken/VBN by/IN ?/.\n",
    "leading/VBG wicket/NN taker/NN of/IN match/NN 18/CD ?/.\n",
    "who/WP secured/VBD more/JJR number/NN of/IN wickets/NNS in/IN match/NN 33/CD ?/.\n",
    "which/WDT player/NN took/VBD more/JJR number/NN of/IN wickets/NNS in/IN match/NN 54/CD ?/.\n",
    "how/WRB many/JJ wickets/NNS did/VBD SC/NNP Ganguly/NNP take/VB in/IN match/NN match/NN 1/CD ?/.\n",
    "who/WP secured/VBD more/JJR number/NN of/IN wickets/NNS in/IN overall/JJ IPL/NNP ?/.\n",
    "which/WDT bowler/NN has/VBZ most/RBS number/NN of/IN dismissals/NNS in/IN match/NN 19/CD ?/.\n",
    "highest/JJS wicket/NN taker/NN in/IN IPL/NNP ?/.\n",
    "how/WRB many/JJ wickets/NNS did/VBD sm/NNP pollock/NNP take/NN in/IN ipl/NNP ?/.\n",
    "CRD/NNP Fernando/NNP 's/POS wickets/NNS in/IN match/NN 31/CD ?/.\n",
    "crd/NNP fernando/NNP 's/POS wickets/NNS in/IN ipl/NN ?/.\n",
    "fernando/NNP 's/POS wickets/NNS in/IN ipl/NN ?/.\n",
    "ganguly/NNP 's/POS wickets/NNS in/IN match/NN 1/CD ?/.\n",
    "how/WRB many/JJ balls/NNS did/VBD SR/NNP Tendulkar/NNP bowl/NN in/IN match/NN 1/CD ?/.\n",
    "which/WDT bowler/NN bowled/VBD the/DT least/JJS number/NN of/IN balls/NNS in/IN match/NN 10/CD ?/.\n",
    "who/WP bowled/VBD the/DT least/JJS number/NN of/IN deliveries/NNS in/IN IPL/NNP ?/.\n",
    "who/WP bowled/VBD the/DT most/RBS number/NN of/IN balls/NNS in/IN IPL/NNP ?/.\n",
    "who/WP bowled/VBD the/DT least/JJS number/NN of/IN balls/NNS in/IN IPL/NNP ?/.\n",
    "second/JJ highest/JJS count/NN of/IN number/NN of/IN balls/NNS bowled/VBN in/IN a/DT match/NN\n",
    "how/WRB many/JJ overs/NNS did/VBD SC/NNP Ganguly/NNP bowl/NN in/IN match1/NN ?/.\n",
    "who/WP bowled/VBD the/DT most/RBS number/NN of/IN overs/NNS ib/VBP IPL/NNP ?/.\n",
    "who/WP bowled/VBD the/DT least/JJS number/NN of/IN overs/NNS ib/VBP IPL/NNP ?/.\n",
    "what/WDT were/VBD the/DT number/NN of/IN overs/NNS bolwed/VBN by/IN Dravid/NNP in/IN final/JJ ?/.\n",
    "third/JJ lowest/JJS count/NN of/IN number/NN of/IN overs/NNS bolwed/VBN in/IN IPL/NNP\n",
    "bowler/NN with/IN best/JJ economy/NN rate/NN ?/.\n",
    "who/WP is/VBZ the/DT player/NN with/IN lowest/JJ economy/NN rate/NN ?/.\n",
    "the/DT most/RBS economical/JJ bowler/NN in/IN match/NN 10/CD ?/.\n",
    "who/WP is/VBZ the/DT bowler/NN having/VBG lowest/JJS economy/NN rate/NN in/IN match/NN 18/CD ?/.\n",
    "who/WP is/VBZ the/DT bowler/NN with/IN high/JJ number/NN of/IN dot/NN balls/NNS ?/.\n",
    "most/JJS of/IN dots/NNS are/VBP bowled/VBN by/IN which/WDT player/NN in/IN match/NN 15/CD ?/.\n",
    "who/WP bowled/VBD most/JJS number/NN of/IN dot/NN deliveries/NNS ?/.\n",
    "who/WP is/VBZ the/DT most/RBS expensive/JJ bowler/NN ?/.\n",
    "how/WRB many/JJ runs/NNS did/VBD sr/NNP tendulkar/NN concede/NN in/IN ipl/NN ?/.\n",
    "how/WRB many/JJ sixes/NNS did/VBD ganguly/NNP give/VB in/IN IPL/NNP ?/.\n",
    "who/WP conceded/VBD most/JJS number/NN of/IN runs/NNS in/IN IPL/NNP ?/.\n",
    "who/WP conceded/VBD most/JJS nuber/NN of/IN fours/NNS in/IN match/NN 10/CD ?/.\n",
    "bowler/NN who/WP conceded/VBD most/RBS numer/NNS of/IN sixes/NNS in/IN match/NN 12/CD ?/.\n",
    "which/WDT bowler/NN conceded/VBD lowest/JJS boundaries/NNS in/IN match/NN 38/CD ?/.\n",
    "who/WP has/VBZ given/VBN less/JJR number/NN of/IN sixes/NNS in/IN match/NN 2/CD ?/.\n",
    "how/WRB many/JJ runs/NNS given/VBN by/IN SC/NNP Ganguly/NNP in/IN match/NN 1/CD ?/.\n",
    "how/WRB many/JJ boundaries/NNS conceded/VBN by/IN BC/NNP Lee/NNP ?/.\n",
    "which/WDT bowler/NN conceded/VBD maximum/JJ number/NN of/IN runs/NNS ?/.\n",
    "who/WP got/VBD hit/VBN with/IN most/JJS number/NN of/IN sixes/NNS ?/.\n",
    "what/WP is/VBZ the/DT number/NN of/IN runs/NNS given/VBN by/IN Ra/NNP Jadeja/NNP ?/.\n",
    "who/WP has/VBZ given/VBN most/JJS number/NN of/IN runs/NNS in/IN final/JJ ?/.\n",
    "bowler/NN who/WP gave/VBD less/JJR number/NN of/IN runs/NNS in/IN semi-final/JJ ?/.\n",
    "highest/JJS run/NN giver/NN in/IN match/NN 8/CD ?/.\n",
    "most/JJS runs/NNS are/VBP given/VBN by/IN which/WDT bowler/NN in/IN match/NN 3/CD ?/.\"\"\""
   ]
  },
  {
   "cell_type": "code",
   "execution_count": 88,
   "metadata": {},
   "outputs": [],
   "source": [
    "tagged_question = []\n",
    "for word in word_tokenize(corrected_train):\n",
    "    tagged_question.append(nltk.str2tuple(word))\n",
    "#print(tagged_question)\n",
    "train_data = []\n",
    "train_data.append(tagged_question)"
   ]
  },
  {
   "cell_type": "code",
   "execution_count": 89,
   "metadata": {
    "collapsed": true
   },
   "outputs": [],
   "source": [
    "from nltk.data import load\n",
    "pos_tag = load('taggers/maxent_treebank_pos_tagger/english.pickle')"
   ]
  },
  {
   "cell_type": "code",
   "execution_count": 90,
   "metadata": {
    "collapsed": true
   },
   "outputs": [],
   "source": [
    "#Importing required modules for brill tagger\n",
    "from nltk import brill_trainer, brill\n",
    "from nltk import BrillTaggerTrainer"
   ]
  },
  {
   "cell_type": "code",
   "execution_count": 91,
   "metadata": {},
   "outputs": [],
   "source": [
    "templates = [brill.Template(brill.Pos([1,1])),\n",
    "    brill.Template(brill.Pos([2,2])),\n",
    "    brill.Template(brill.Pos([1,2])),\n",
    "    brill.Template(brill.Pos([1,3])),\n",
    "    brill.Template(brill.Pos([1,1])),\n",
    "    brill.Template(brill.Pos([2,2])),\n",
    "    brill.Template(brill.Pos([1,2])),\n",
    "    brill.Template(brill.Pos([1,3])),\n",
    "    brill.Template(brill.Word([-1, -1])),\n",
    "    brill.Template(brill.Word([-1, -1]))]"
   ]
  },
  {
   "cell_type": "code",
   "execution_count": 92,
   "metadata": {
    "collapsed": true
   },
   "outputs": [],
   "source": [
    "# from nltk.corpus import brown\n",
    "# training_data = nltk.corpus.brown.tagged_sents()\n",
    "unigram_tagger = nltk.UnigramTagger(train_data)"
   ]
  },
  {
   "cell_type": "code",
   "execution_count": 93,
   "metadata": {},
   "outputs": [],
   "source": [
    "from nltk.tag import SequentialBackoffTagger"
   ]
  },
  {
   "cell_type": "code",
   "execution_count": 94,
   "metadata": {},
   "outputs": [],
   "source": [
    "class POSTagger(SequentialBackoffTagger):\n",
    "    def __init__(self, *args, **kwargs):\n",
    "        SequentialBackoffTagger.__init__(self, *args, **kwargs)\n",
    "    \n",
    "    def choose_tag(self, tokens, index, history):\n",
    "        word = tokens[index]\n",
    "        return nltk.pos_tag([word])[0][1] if word != \"\" else None\n",
    "custom_pos_tagger = POSTagger()"
   ]
  },
  {
   "cell_type": "code",
   "execution_count": 95,
   "metadata": {},
   "outputs": [],
   "source": [
    "trainer_initial_pos = BrillTaggerTrainer(initial_tagger= custom_pos_tagger, templates=templates, trace=3, deterministic=True)"
   ]
  },
  {
   "cell_type": "code",
   "execution_count": 96,
   "metadata": {},
   "outputs": [
    {
     "name": "stdout",
     "output_type": "stream",
     "text": [
      "TBL train (fast) (seqs: 1; tokens: 949; tpls: 10; min score: 2; min acc: None)\n",
      "Finding initial useful rules...\n",
      "    Found 656 useful rules.\n",
      "\n",
      "           B      |\n",
      "   S   F   r   O  |        Score = Fixed - Broken\n",
      "   c   i   o   t  |  R     Fixed = num tags changed incorrect -> correct\n",
      "   o   x   k   h  |  u     Broken = num tags changed correct -> incorrect\n",
      "   r   e   e   e  |  l     Other = num tags changed incorrect -> incorrect\n",
      "   e   d   n   r  |  e\n",
      "------------------+-------------------------------------------------------\n",
      "  82  82   0   0  | .->None if Pos:None@[1]\n",
      "  82  82   0   0  | None-> if Pos:.@[1]\n",
      "  82  82   0   0  | .->None if Word:@[-1]\n",
      "  18  23   5   1  | NN->NNP if Pos:IN@[2]\n",
      "  14  14   0   0  | NN->NNP if Pos:POS@[1,2]\n",
      "  11  12   1   0  | NN->NNP if Pos:NNP@[1,2]\n",
      "  11  11   0   0  | VBN->VBD if Word:who@[-1]\n",
      "   7   7   0   0  | NNS->NNP if Pos:NNP@[1]\n",
      "   5   6   1   0  | RBR->JJR if Pos:NN@[1]\n",
      "   4   4   0   0  | NNS->NNP if Word:knight@[-1]\n",
      "   3   3   0   0  | NN->NNP if Pos:NNP@[1]\n",
      "   3   3   0   0  | NNS->NNP if Pos:NNP@[1]\n",
      "   3   3   0   0  | IN->NNP if Word:Challengers@[-1]\n",
      "   3   3   0   0  | NNS->NNP if Pos:NNP@[1]\n",
      "   3   3   0   0  | NNS->NNP if Word:Knight@[-1]\n",
      "   3   3   0   0  | VBN->VBD if Word:bowler@[-1]\n",
      "   2   2   0   0  | JJS->RBS if Pos:JJ@[1]\n",
      "   2   2   0   0  | JJS->JJ if Pos:None@[1,3]\n",
      "   2   2   0   0  | NN->NNP if Word:by@[-1]\n",
      "   2   2   0   0  | NN->NNP if Word:ib@[-1]\n",
      "   2   2   0   0  | NN->VBP if Pos:NNP@[1]\n",
      "   2   2   0   0  | NNP->NN if Word:highest@[-1]\n"
     ]
    }
   ],
   "source": [
    "brill_tagger = trainer_initial_pos.train(train_data)\n",
    "# training the corrected data"
   ]
  },
  {
   "cell_type": "code",
   "execution_count": 97,
   "metadata": {
    "collapsed": true
   },
   "outputs": [],
   "source": [
    "test_sentences = \"\"\"\n",
    "ganguly's wickets in match 1? how many wickets did ganguly take in 1st match in IPL? Tanveer's total wickets in ipl?\n",
    "\"\"\""
   ]
  },
  {
   "cell_type": "code",
   "execution_count": 98,
   "metadata": {},
   "outputs": [
    {
     "data": {
      "text/plain": [
       "[('ganguly', 'NNP'),\n",
       " (\"'s\", 'POS'),\n",
       " ('wickets', 'NNS'),\n",
       " ('in', 'IN'),\n",
       " ('match', 'NN'),\n",
       " ('1', 'CD'),\n",
       " ('?', '.'),\n",
       " ('how', 'WRB'),\n",
       " ('many', 'JJ'),\n",
       " ('wickets', 'NNS'),\n",
       " ('did', 'VBD'),\n",
       " ('ganguly', 'NNP'),\n",
       " ('take', 'VB'),\n",
       " ('in', 'IN'),\n",
       " ('1st', 'CD'),\n",
       " ('match', 'NN'),\n",
       " ('in', 'IN'),\n",
       " ('IPL', 'NNP'),\n",
       " ('?', '.'),\n",
       " ('Tanveer', 'NNP'),\n",
       " (\"'s\", 'POS'),\n",
       " ('total', 'JJ'),\n",
       " ('wickets', 'NNS'),\n",
       " ('in', 'IN'),\n",
       " ('ipl', 'NN'),\n",
       " ('?', '.')]"
      ]
     },
     "execution_count": 98,
     "metadata": {},
     "output_type": "execute_result"
    }
   ],
   "source": [
    " brill_tagger.tag(word_tokenize(test_sentences))"
   ]
  },
  {
   "cell_type": "code",
   "execution_count": null,
   "metadata": {
    "collapsed": true
   },
   "outputs": [],
   "source": []
  },
  {
   "cell_type": "markdown",
   "metadata": {},
   "source": [
    "tagged_sentences = []\n",
    "for sent in train_sentences:\n",
    "    tagged_sentences.append(nltk.pos_tag(word_tokenize(sent[0])))\n",
    "\n",
    "tagged_sentences[0][4][1]\n",
    "\n",
    "sentences = (sent[0] for sent in train_sentences)\n",
    "\n",
    "sentences_statement = \"\"\n",
    "for sent in sentences:\n",
    "    sentences_statement = sentences_statement + sent\n",
    "\n",
    "sentences_statement\n",
    "\n",
    "tokenizer = RegexpTokenizer(r'\\w+')\n",
    "\n",
    "for sent in sent_tokenize(sentences_statement):\n",
    "    \n",
    "    "
   ]
  },
  {
   "cell_type": "code",
   "execution_count": 99,
   "metadata": {},
   "outputs": [],
   "source": [
    "naive_bayes_classifier = nltk.NaiveBayesClassifier.train([(feature_extractor(sentence), label) for sentence, label in train_sentences])"
   ]
  },
  {
   "cell_type": "code",
   "execution_count": 100,
   "metadata": {
    "collapsed": true
   },
   "outputs": [],
   "source": [
    "match_id = 0\n",
    "team=None\n",
    "bowler=None\n",
    "runs=None\n",
    "wide=None\n",
    "noball=None\n",
    "extras=None\n",
    "fours=None\n",
    "sixes=None\n",
    "boundary=None\n",
    "economy_rate=None\n",
    "balls=None\n",
    "overs=None\n",
    "dot_balls=None\n",
    "rank=1"
   ]
  },
  {
   "cell_type": "code",
   "execution_count": 101,
   "metadata": {},
   "outputs": [],
   "source": [
    "# lemmatizer = WordNetLemmatizer()\n",
    "# words_lem = []\n",
    "# for i in word:\n",
    "#     words_lem.append(lemmatizer.lemmatize(i))\n",
    "# pos_tags = nltk.pos_tag(words_lem)\n",
    "\n",
    "# pos_tags"
   ]
  },
  {
   "cell_type": "markdown",
   "metadata": {},
   "source": [
    "names = [token for token, pos in pos_tags if pos.startswith('NNP')]\n",
    "nouns = [token for token, pos in pos_tags if pos.startswith('NN')]\n",
    "verbs = [token for token, pos in pos_tags if pos.startswith('V')]\n",
    "adjectives = [token for token, pos in pos_tags if pos.startswith('J')]\n",
    "numbers = [token for token, pos in pos_tags if pos.startswith('CD')]\n",
    "\n",
    "print(names)\n",
    "print(nouns)\n",
    "print(verbs)\n",
    "print(adjectives)\n",
    "print(numbers)\n",
    "\n",
    "Nouns = []\n",
    "Verb = []\n",
    "import re\n",
    "reg = [r'NN|NN.',r'VB|VB.',r'RB|RB.',r'W..',r'CD', r'JJ|JJ.']\n",
    "noun_reg = r'NN|NN.'\n",
    "verb_reg = r'VB|VB.'\n",
    "adverb_reg = r'RB|RB.'\n",
    "question_reg = r'W..'\n",
    "number_reg = r'CD'\n",
    "nouns = []\n",
    "verbs = []\n",
    "adverbs = []\n",
    "question = []\n",
    "number = []\n",
    "adjectives = []\n",
    "\n",
    "for i in pos_tags:\n",
    "    \n",
    "    print(re.search(noun_reg, i[0]+i[1]))\n",
    "\n",
    "        "
   ]
  },
  {
   "cell_type": "code",
   "execution_count": 102,
   "metadata": {},
   "outputs": [],
   "source": [
    "# chunkGram = r\"\"\"Chunk:{<NNP.?>*<NNP.?>*}\"\"\"\n",
    "# chunkParser = nltk.RegexpParser(chunkGram)\n",
    "# chunked_noun = chunkParser.parse(pos_tags)"
   ]
  },
  {
   "cell_type": "code",
   "execution_count": null,
   "metadata": {
    "collapsed": true
   },
   "outputs": [],
   "source": []
  },
  {
   "cell_type": "markdown",
   "metadata": {},
   "source": [
    "# Question"
   ]
  },
  {
   "cell_type": "code",
   "execution_count": 104,
   "metadata": {},
   "outputs": [
    {
     "name": "stdout",
     "output_type": "stream",
     "text": [
      "Enter a number in words:ganguly wicket in match 1\n"
     ]
    }
   ],
   "source": [
    "query  = input(\"Enter a number in words:\")\n",
    "tokens = nltk.word_tokenize(query)\n",
    "query_tokens = []"
   ]
  },
  {
   "cell_type": "code",
   "execution_count": 106,
   "metadata": {},
   "outputs": [
    {
     "ename": "ModuleNotFoundError",
     "evalue": "No module named 'inflect'",
     "output_type": "error",
     "traceback": [
      "\u001b[0;31m---------------------------------------------------------------------------\u001b[0m",
      "\u001b[0;31mModuleNotFoundError\u001b[0m                       Traceback (most recent call last)",
      "\u001b[0;32m<ipython-input-106-c7e0ce735430>\u001b[0m in \u001b[0;36m<module>\u001b[0;34m()\u001b[0m\n\u001b[1;32m      1\u001b[0m \u001b[0;32mimport\u001b[0m \u001b[0mnltk\u001b[0m\u001b[0;34m\u001b[0m\u001b[0m\n\u001b[1;32m      2\u001b[0m \u001b[0;32mimport\u001b[0m \u001b[0mre\u001b[0m\u001b[0;34m\u001b[0m\u001b[0m\n\u001b[0;32m----> 3\u001b[0;31m \u001b[0;32mimport\u001b[0m \u001b[0minflect\u001b[0m\u001b[0;34m\u001b[0m\u001b[0m\n\u001b[0m",
      "\u001b[0;31mModuleNotFoundError\u001b[0m: No module named 'inflect'"
     ]
    }
   ],
   "source": [
    "import nltk\n",
    "import re\n",
    "import inflect"
   ]
  },
  {
   "cell_type": "code",
   "execution_count": null,
   "metadata": {
    "collapsed": true
   },
   "outputs": [],
   "source": [
    "p = inflect.engine()\n",
    "word_to_number_mapping = {}\n",
    "for i in range(1, 100):\n",
    "    word_form = p.number_to_words(i)\n",
    "    word_to_number_mapping[word_form] = i"
   ]
  },
  {
   "cell_type": "code",
   "execution_count": null,
   "metadata": {},
   "outputs": [],
   "source": [
    "query_tokens = []\n",
    "for word in tokens:\n",
    "    if(re.match(r'\\d+', word)):\n",
    "        m=re.findall(r'\\d+', word)\n",
    "        query_tokens.append(m[0])\n",
    "    else:\n",
    "        query_tokens.append(word)"
   ]
  },
  {
   "cell_type": "code",
   "execution_count": null,
   "metadata": {
    "collapsed": true
   },
   "outputs": [],
   "source": []
  },
  {
   "cell_type": "code",
   "execution_count": null,
   "metadata": {
    "collapsed": true
   },
   "outputs": [],
   "source": [
    "def proper_string(query):\n",
    "    new1 = []\n",
    "    for word in query:\n",
    "        if p.singular_noun(word)==False:\n",
    "            new1.append(word)\n",
    "        else:\n",
    "            new1.append(p.singular_noun(word))\n",
    "    return new1"
   ]
  },
  {
   "cell_type": "code",
   "execution_count": null,
   "metadata": {
    "collapsed": true
   },
   "outputs": [],
   "source": [
    "new_query = proper_string(query_tokens)"
   ]
  },
  {
   "cell_type": "code",
   "execution_count": null,
   "metadata": {
    "collapsed": true
   },
   "outputs": [],
   "source": [
    "def word2num(words):\n",
    "    num = 0\n",
    "    a = []\n",
    "    b = []\n",
    "    temp = []\n",
    "    final = []\n",
    "    keys_num = []\n",
    "    num_list = {'first':1,'second':2,'third':3,'fourth':4,'fifth':5,'sixth':6,'seventh':7,'eighth':8,'nineth':9,\n",
    "            'tenth':10,'eleventh':11,'twelfth':12,'thirteenth':13,'fourteenth':14,'fifteenth':15,'sixteenth':16,\n",
    "            'seventeenth':17,'eighteenth':18,'nineteenth':19,'twentieth':20,'thirtieth':30,'fortieth':40,\n",
    "            'fiftieth':50,'sixtieth':60,'seventieth':70,'eightieth':80,'ninetieth':90,'hundredth':100}\n",
    "    for word in words:\n",
    "        try:\n",
    "            a.append(word_to_number_mapping[word])\n",
    "            keys_num.append(words.index(word))\n",
    "            \n",
    "        except Exception as exception:\n",
    "            if word not in num_list:\n",
    "                final.append(word)\n",
    "            if word in num_list:\n",
    "                a.append(num_list[word])\n",
    "                keys_num.append(words.index(word))\n",
    "    for i in range(len(words)):\n",
    "        for j in range(len(keys_num)):\n",
    "            if(i == keys_num[j]):\n",
    "                words[i] = a[j]\n",
    "\n",
    "    for j in range(len(words)):\n",
    "        if((type(words[j-1])==int)&(type(words[j])==int)):\n",
    "            words[j-1] = words[j-1]+words[j]\n",
    "            del words[j]\n",
    "        break \n",
    "    \n",
    "   \n",
    "    return words,a ,keys_num        \n",
    "    "
   ]
  },
  {
   "cell_type": "code",
   "execution_count": null,
   "metadata": {
    "collapsed": true
   },
   "outputs": [],
   "source": [
    "words,a,keys_num = word2num(new_query)\n",
    "for i in range(len(words)):\n",
    "    for j in range(len(keys_num)):\n",
    "        if(i == keys_num[j]):\n",
    "            words[i] = a[j]"
   ]
  },
  {
   "cell_type": "code",
   "execution_count": null,
   "metadata": {
    "collapsed": true
   },
   "outputs": [],
   "source": [
    "s = []\n",
    "try:\n",
    "    for j in range(len(words)):\n",
    "        if((type(words[j])==str)&(type(words[j+1])==int)):\n",
    "            s.append(words[j])\n",
    "        if((type(words[j+1])!=int)):\n",
    "            s.append(words[j])\n",
    "        if((type(words[j])==int)&(type(words[j+1])==int)):\n",
    "            words[j] = words[j+1]+words[j]\n",
    "            s.append(words[j])\n",
    "            del words[j+1]\n",
    "            #j = j+1            \n",
    "    \n",
    "    \n",
    "except:\n",
    "    0\n",
    "\n",
    "s.append(words[len(words)-1]) \n"
   ]
  },
  {
   "cell_type": "code",
   "execution_count": null,
   "metadata": {},
   "outputs": [],
   "source": [
    "user_query =\"\"\n",
    "for i in s:\n",
    "    user_query = user_query+\" \"+str(i) + \" \""
   ]
  },
  {
   "cell_type": "code",
   "execution_count": null,
   "metadata": {},
   "outputs": [],
   "source": [
    "user_query"
   ]
  },
  {
   "cell_type": "code",
   "execution_count": null,
   "metadata": {
    "collapsed": true
   },
   "outputs": [],
   "source": []
  },
  {
   "cell_type": "code",
   "execution_count": null,
   "metadata": {},
   "outputs": [],
   "source": [
    "classifier = naive_bayes_classifier.classify(feature_extractor(query))"
   ]
  },
  {
   "cell_type": "code",
   "execution_count": null,
   "metadata": {},
   "outputs": [],
   "source": [
    "classifier"
   ]
  },
  {
   "cell_type": "code",
   "execution_count": null,
   "metadata": {
    "collapsed": true
   },
   "outputs": [],
   "source": [
    "pos_tags_brill = brill_tagger.tag(word_tokenize(user_query))"
   ]
  },
  {
   "cell_type": "code",
   "execution_count": null,
   "metadata": {
    "collapsed": true
   },
   "outputs": [],
   "source": [
    "#stop_words = set(stopwords.words(\"english\"))\n",
    "#word = [w for w in words\n",
    "#        if w.lower() not in stop_words]"
   ]
  },
  {
   "cell_type": "code",
   "execution_count": null,
   "metadata": {},
   "outputs": [],
   "source": [
    "pos_tags_brill"
   ]
  },
  {
   "cell_type": "code",
   "execution_count": null,
   "metadata": {
    "collapsed": true
   },
   "outputs": [],
   "source": [
    "chunkGram = r\"\"\"Chunk:{<NNP.?>*<NNP.?>*}\"\"\"\n",
    "chunkParser = nltk.RegexpParser(chunkGram)"
   ]
  },
  {
   "cell_type": "code",
   "execution_count": null,
   "metadata": {
    "collapsed": true
   },
   "outputs": [],
   "source": [
    "chunked_noun_brill = chunkParser.parse(pos_tags_brill)"
   ]
  },
  {
   "cell_type": "code",
   "execution_count": null,
   "metadata": {
    "collapsed": true
   },
   "outputs": [],
   "source": [
    "# chunked_noun_brill.draw()"
   ]
  },
  {
   "cell_type": "code",
   "execution_count": null,
   "metadata": {},
   "outputs": [],
   "source": [
    "chunked_words = None\n",
    "for node in chunked_noun_brill:\n",
    "    if hasattr(node, \"label\"):\n",
    "        words = [word for word, tag in node.leaves()]\n",
    "        chunked_words = ' '.join(words)\n"
   ]
  },
  {
   "cell_type": "code",
   "execution_count": null,
   "metadata": {},
   "outputs": [],
   "source": [
    "print(chunked_words)"
   ]
  },
  {
   "cell_type": "code",
   "execution_count": null,
   "metadata": {},
   "outputs": [],
   "source": [
    "# for node in chunked_noun:\n",
    "#     if hasattr(node, \"label\"):\n",
    "#         words = [word for word, tag in node.leaves()]\n",
    "#         chunked_words = ' '.join(words)\n",
    "#     else:\n",
    "#         chunked_words=None"
   ]
  },
  {
   "cell_type": "code",
   "execution_count": null,
   "metadata": {},
   "outputs": [],
   "source": [
    "names = [token for token, pos in pos_tags_brill if pos.startswith('NNP')] \n",
    "nouns = [token for token, pos in pos_tags_brill if pos.startswith('NN') and token not in names] \n",
    "verbs = [token for token, pos in pos_tags_brill if pos.startswith('V')]  \n",
    "adjectives = [token for token, pos in pos_tags_brill if pos.startswith('J')] \n",
    "numbers = [token for token, pos in pos_tags_brill if pos.startswith('CD')]"
   ]
  },
  {
   "cell_type": "code",
   "execution_count": null,
   "metadata": {},
   "outputs": [],
   "source": [
    "# print(nouns)\n",
    "# print(verbs)\n",
    "# print(adjectives)"
   ]
  },
  {
   "cell_type": "code",
   "execution_count": null,
   "metadata": {},
   "outputs": [],
   "source": []
  },
  {
   "cell_type": "code",
   "execution_count": null,
   "metadata": {
    "collapsed": true
   },
   "outputs": [],
   "source": []
  },
  {
   "cell_type": "code",
   "execution_count": null,
   "metadata": {
    "collapsed": true
   },
   "outputs": [],
   "source": []
  },
  {
   "cell_type": "code",
   "execution_count": null,
   "metadata": {
    "collapsed": true
   },
   "outputs": [],
   "source": []
  },
  {
   "cell_type": "markdown",
   "metadata": {},
   "source": [
    "### Bowler full name"
   ]
  },
  {
   "cell_type": "code",
   "execution_count": null,
   "metadata": {
    "collapsed": true
   },
   "outputs": [],
   "source": [
    "batsman_list = list(deliveries.batsman.unique())\n",
    "bowler_list = list(deliveries.bowler.unique())\n",
    "fielder_list = list(deliveries.fielder.unique())\n",
    "team_list = list(deliveries.bowling_team.unique())"
   ]
  },
  {
   "cell_type": "code",
   "execution_count": null,
   "metadata": {
    "collapsed": true
   },
   "outputs": [],
   "source": [
    "def function_return_fullName(data):\n",
    "    for w in (batsman_list or bowler_list or fielder_list):\n",
    "        if w.lower() == data.lower():\n",
    "            return w\n",
    "        elif str(w.split()[len(w.split())-1]).lower() == data.lower():\n",
    "            return w"
   ]
  },
  {
   "cell_type": "code",
   "execution_count": null,
   "metadata": {
    "collapsed": true
   },
   "outputs": [],
   "source": []
  },
  {
   "cell_type": "code",
   "execution_count": null,
   "metadata": {
    "collapsed": true
   },
   "outputs": [],
   "source": [
    "teams_abbr = [ ('Kolkata Knight Riders', 'kolkata knight riders', 'kolkata', 'kolkata riders', 'kolkata rider', 'kolkata knights', 'kolkata knight', 'knight riders', 'knight rider', 'riders', 'k k riders', 'k knight riders', 'kkr'), \n",
    "               ('Chennai Super Kings', 'chennai super kings', 'chennai', 'chennai kings', 'chennai super', 'super kings', 'chennai kings', 'csk'),  \n",
    "               ('Rajasthan Royals', 'rajasthan royals', 'rajasthan', 'rajasthan royal', 'rr'),\n",
    "               ('Mumbai Indians', 'mumbai indians', 'mumbai', 'mumbai indian', 'indians', 'indian', 'mi'), \n",
    "               ('Deccan Chargers', 'deccan chargers', 'deccan', 'deccan charger', 'chargers', 'charger', 'dc'), \n",
    "               ('Kings XI Punjab', 'kings xi punjab', 'kings', 'punjab', 'kings XI', 'kings punjab',  'kxip','kp', 'kxp'), \n",
    "               ('Royal Challengers Bangalore', 'royal challengers bangalore', 'bangalore', 'royal challengers', 'royal challenger', 'royal bangalore', 'challengers bangalore', 'challenger bangalore', 'rcb', 'rb'),\n",
    "               ('Delhi Daredevils', 'delhi daredevils', 'delhi', 'daredevils', 'delhi daredevil', 'dd') ]"
   ]
  },
  {
   "cell_type": "code",
   "execution_count": null,
   "metadata": {
    "collapsed": true
   },
   "outputs": [],
   "source": [
    "def funtion_return_fullTeamName(data):\n",
    "    for w in teams_abbr:\n",
    "        if data.lower() in w:\n",
    "            return(w[0])"
   ]
  },
  {
   "cell_type": "code",
   "execution_count": null,
   "metadata": {},
   "outputs": [],
   "source": [
    "# funtion_return_fullTeamName('kkr')"
   ]
  },
  {
   "cell_type": "code",
   "execution_count": null,
   "metadata": {},
   "outputs": [],
   "source": [
    "chunked_words"
   ]
  },
  {
   "cell_type": "code",
   "execution_count": null,
   "metadata": {},
   "outputs": [],
   "source": [
    "bowler_name = function_return_fullName(chunked_words)\n",
    "team_name = funtion_return_fullTeamName(chunked_words)"
   ]
  },
  {
   "cell_type": "code",
   "execution_count": null,
   "metadata": {
    "collapsed": true
   },
   "outputs": [],
   "source": [
    "bowler_name"
   ]
  },
  {
   "cell_type": "code",
   "execution_count": null,
   "metadata": {},
   "outputs": [],
   "source": [
    "team_name"
   ]
  },
  {
   "cell_type": "code",
   "execution_count": null,
   "metadata": {},
   "outputs": [],
   "source": [
    "team_name in team_list"
   ]
  },
  {
   "cell_type": "code",
   "execution_count": null,
   "metadata": {},
   "outputs": [],
   "source": [
    "if (bowler_name in batsman_list or bowler_list or fielder_list):\n",
    "    bowler = bowler_name"
   ]
  },
  {
   "cell_type": "code",
   "execution_count": null,
   "metadata": {
    "collapsed": true
   },
   "outputs": [],
   "source": [
    "if( team_name in team_list):\n",
    "    team = team_name"
   ]
  },
  {
   "cell_type": "code",
   "execution_count": null,
   "metadata": {},
   "outputs": [],
   "source": [
    "bowler"
   ]
  },
  {
   "cell_type": "code",
   "execution_count": null,
   "metadata": {},
   "outputs": [],
   "source": [
    "team"
   ]
  },
  {
   "cell_type": "markdown",
   "metadata": {},
   "source": [
    "### Classifier extraction"
   ]
  },
  {
   "cell_type": "code",
   "execution_count": null,
   "metadata": {
    "collapsed": true
   },
   "outputs": [],
   "source": [
    "naive_bayes_classifier_rank = nltk.NaiveBayesClassifier.train([(feature_extractor_rank(sentence), label) for sentence, label in train_sentences_rank])\n",
    "naive_bayes_classifier_balls = nltk.NaiveBayesClassifier.train([(feature_extractor_balls(sentence), label) for sentence, label in train_sentences_balls])\n",
    "naive_bayes_classifier_runs = nltk.NaiveBayesClassifier.train([(feature_extractor_balls(sentence), label) for sentence, label in train_sentences_runs])"
   ]
  },
  {
   "cell_type": "code",
   "execution_count": null,
   "metadata": {
    "collapsed": true
   },
   "outputs": [],
   "source": [
    "classifier_rank = naive_bayes_classifier_rank.classify(feature_extractor_rank(query))\n",
    "if(classifier_rank=='low'):\n",
    "    rank = 0\n",
    "elif(classifier_rank=='high'):\n",
    "    rank = 1"
   ]
  },
  {
   "cell_type": "code",
   "execution_count": null,
   "metadata": {},
   "outputs": [],
   "source": [
    "print(classifier_rank)"
   ]
  },
  {
   "cell_type": "code",
   "execution_count": null,
   "metadata": {},
   "outputs": [],
   "source": [
    "print (rank)"
   ]
  },
  {
   "cell_type": "code",
   "execution_count": null,
   "metadata": {
    "collapsed": true
   },
   "outputs": [],
   "source": [
    "boundaries_list = ['4s','6s','sixes','fours']\n",
    "for i in pos_tags_brill:\n",
    "    if (i[1]=='CD' and i[0] not in boundaries_list):\n",
    "        match_id=int(i[0])"
   ]
  },
  {
   "cell_type": "code",
   "execution_count": null,
   "metadata": {},
   "outputs": [],
   "source": [
    "if(classifier=='bowler_wickets'):\n",
    "\n",
    "    print(bowler_wickets(match_id= match_id, team= team, bowler= bowler, rank=rank))\n",
    "\n",
    "\n",
    "    \n",
    "    \n",
    "if(classifier=='bowler_balls'):\n",
    "    classifier_balls = naive_bayes_classifier_balls.classify(feature_extractor_balls(query))\n",
    "    \n",
    "    if(classifier_balls == 'economy_rate'):\n",
    "        economy_rate = classifier_balls\n",
    "    elif(classifier_balls == 'balls'):\n",
    "        balls = classifier_balls\n",
    "    elif(classifier_balls == 'overs'):\n",
    "        overs = classifier_balls\n",
    "    elif(classifier_balls == 'dot_balls'):\n",
    "        dot_balls = classifier_balls\n",
    "\n",
    "    print(bowler_balls(match_id=match_id,team=team, bowler=bowler,economy_rate=economy_rate, balls=balls, overs=overs,dot_balls=dot_balls, rank=rank))\n",
    "\n",
    "\n",
    "    \n",
    "    \n",
    "if(classifier=='bowler_runs'):\n",
    "    \n",
    "    classifier_runs = naive_bayes_classifier_balls.classify(feature_extractor_runs(query))\n",
    "    \n",
    "    if(classifier_runs == 'runs'):\n",
    "        runs = classifier_runs\n",
    "    elif(classifier_runs == 'wide_balls'):\n",
    "        wide = classifier_runs\n",
    "    elif(classifier_runs == 'no_balls'):\n",
    "        noball = classifier_runs\n",
    "    elif(classifier_runs == 'extras'):\n",
    "        extras = classifier_runs\n",
    "    elif(classifier_runs == 'fours'):\n",
    "        fours = classifier_runs\n",
    "    elif(classifier_runs == 'sixes'):\n",
    "        sixes = classifier_runs\n",
    "        \n",
    "    print(bowler_runs(match_id=match_id,team=team,bowler=bowler, runs = runs, wide=wide, noball=noball,extras=extras, fours=fours, sixes=sixes, rank=rank))"
   ]
  },
  {
   "cell_type": "code",
   "execution_count": null,
   "metadata": {
    "collapsed": true
   },
   "outputs": [],
   "source": []
  },
  {
   "cell_type": "code",
   "execution_count": null,
   "metadata": {
    "collapsed": true
   },
   "outputs": [],
   "source": []
  },
  {
   "cell_type": "code",
   "execution_count": null,
   "metadata": {
    "collapsed": true
   },
   "outputs": [],
   "source": []
  },
  {
   "cell_type": "code",
   "execution_count": null,
   "metadata": {
    "collapsed": true
   },
   "outputs": [],
   "source": []
  },
  {
   "cell_type": "code",
   "execution_count": null,
   "metadata": {
    "collapsed": true
   },
   "outputs": [],
   "source": []
  },
  {
   "cell_type": "code",
   "execution_count": null,
   "metadata": {
    "collapsed": true
   },
   "outputs": [],
   "source": []
  },
  {
   "cell_type": "code",
   "execution_count": null,
   "metadata": {},
   "outputs": [],
   "source": []
  },
  {
   "cell_type": "code",
   "execution_count": null,
   "metadata": {},
   "outputs": [],
   "source": [
    "if (classifier=='bowler_wickets'):\n",
    "    print(bowler_wickets(match_id= match_id, bowler= bowler, rank=rank))\n",
    "if (classifier=='bowler_runs'):\n",
    "    print(bowler_runs(match_id=match_id,bowler=bowler, runs = runs, wide=wide, noball=noball,extras=extras, fours=fours, sixes=sixes, rank=rank))\n",
    "if(classifier=='bowler_balls'):\n",
    "    print(bowler_balls(match_id=match_id, bowler=bowler,economy_rate=economy_rate, balls=balls, overs=overs,dot_balls=dot_balls, rank=rank))"
   ]
  },
  {
   "cell_type": "markdown",
   "metadata": {},
   "source": [
    "Number\n",
    "\t\n",
    "Tag\n",
    "\t\n",
    "Description\n",
    "1. \tCC \tCoordinating conjunction\n",
    "2. \tCD \tCardinal number\n",
    "3. \tDT \tDeterminer\n",
    "4. \tEX \tExistential there\n",
    "5. \tFW \tForeign word\n",
    "6. \tIN \tPreposition or subordinating conjunction\n",
    "7. \tJJ \tAdjective\n",
    "8. \tJJR \tAdjective, comparative\n",
    "9. \tJJS \tAdjective, superlative\n",
    "10. \tLS \tList item marker\n",
    "11. \tMD \tModal\n",
    "12. \tNN \tNoun, singular or mass\n",
    "13. \tNNS \tNoun, plural\n",
    "14. \tNNP \tProper noun, singular\n",
    "15. \tNNPS \tProper noun, plural\n",
    "16. \tPDT \tPredeterminer\n",
    "17. \tPOS \tPossessive ending\n",
    "18. \tPRP \tPersonal pronoun\n",
    "19. \tPRP$ \tPossessive pronoun\n",
    "20. \tRB \tAdverb\n",
    "21. \tRBR \tAdverb, comparative\n",
    "22. \tRBS \tAdverb, superlative\n",
    "23. \tRP \tParticle\n",
    "24. \tSYM \tSymbol\n",
    "25. \tTO \tto\n",
    "26. \tUH \tInterjection\n",
    "27. \tVB \tVerb, base form\n",
    "28. \tVBD \tVerb, past tense\n",
    "29. \tVBG \tVerb, gerund or present participle\n",
    "30. \tVBN \tVerb, past participle\n",
    "31. \tVBP \tVerb, non-3rd person singular present\n",
    "32. \tVBZ \tVerb, 3rd person singular present\n",
    "33. \tWDT \tWh-determiner\n",
    "34. \tWP \tWh-pronoun\n",
    "35. \tWP$ \tPossessive wh-pronoun\n",
    "36. \tWRB \tWh-adverb "
   ]
  },
  {
   "cell_type": "code",
   "execution_count": null,
   "metadata": {
    "collapsed": true
   },
   "outputs": [],
   "source": [
    "#match number"
   ]
  },
  {
   "cell_type": "code",
   "execution_count": null,
   "metadata": {
    "collapsed": true
   },
   "outputs": [],
   "source": []
  },
  {
   "cell_type": "code",
   "execution_count": null,
   "metadata": {
    "collapsed": true
   },
   "outputs": [],
   "source": []
  },
  {
   "cell_type": "code",
   "execution_count": null,
   "metadata": {
    "collapsed": true
   },
   "outputs": [],
   "source": []
  }
 ],
 "metadata": {
  "kernelspec": {
   "display_name": "Python 3",
   "language": "python",
   "name": "python3"
  },
  "language_info": {
   "codemirror_mode": {
    "name": "ipython",
    "version": 3
   },
   "file_extension": ".py",
   "mimetype": "text/x-python",
   "name": "python",
   "nbconvert_exporter": "python",
   "pygments_lexer": "ipython3",
   "version": "3.5.2"
  }
 },
 "nbformat": 4,
 "nbformat_minor": 2
}
