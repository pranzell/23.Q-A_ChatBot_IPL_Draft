{
 "cells": [
  {
   "cell_type": "markdown",
   "metadata": {
    "deletable": true,
    "editable": true
   },
   "source": [
    "# GOGO IPL CHAT BOT"
   ]
  },
  {
   "cell_type": "code",
   "execution_count": null,
   "metadata": {
    "collapsed": true,
    "deletable": true,
    "editable": true
   },
   "outputs": [],
   "source": []
  },
  {
   "cell_type": "code",
   "execution_count": 1,
   "metadata": {
    "collapsed": true,
    "deletable": true,
    "editable": true
   },
   "outputs": [],
   "source": [
    "import nltk"
   ]
  },
  {
   "cell_type": "code",
   "execution_count": 81,
   "metadata": {
    "collapsed": true,
    "deletable": true,
    "editable": true
   },
   "outputs": [],
   "source": [
    "import pandas as pd\n",
    "from nltk.stem import WordNetLemmatizer"
   ]
  },
  {
   "cell_type": "code",
   "execution_count": 82,
   "metadata": {
    "collapsed": false,
    "deletable": true,
    "editable": true
   },
   "outputs": [],
   "source": [
    "deliveries = pd.read_csv(\"/home/user/Desktop/IPL kaggle/deliveries.csv\")"
   ]
  },
  {
   "cell_type": "code",
   "execution_count": 83,
   "metadata": {
    "collapsed": false,
    "deletable": true,
    "editable": true
   },
   "outputs": [
    {
     "data": {
      "text/plain": [
       "(13489, 21)"
      ]
     },
     "execution_count": 83,
     "metadata": {},
     "output_type": "execute_result"
    }
   ],
   "source": [
    "deliveries.shape"
   ]
  },
  {
   "cell_type": "code",
   "execution_count": 5,
   "metadata": {
    "collapsed": false,
    "deletable": true,
    "editable": true
   },
   "outputs": [],
   "source": [
    "#matches = pd.read_csv(\"matches.csv\")"
   ]
  },
  {
   "cell_type": "code",
   "execution_count": 6,
   "metadata": {
    "collapsed": false,
    "deletable": true,
    "editable": true
   },
   "outputs": [],
   "source": [
    "#matches.shape"
   ]
  },
  {
   "cell_type": "code",
   "execution_count": 7,
   "metadata": {
    "collapsed": false,
    "deletable": true,
    "editable": true
   },
   "outputs": [],
   "source": [
    "#matches.rename(columns={'id':'match_id'}, inplace=True)"
   ]
  },
  {
   "cell_type": "code",
   "execution_count": 8,
   "metadata": {
    "collapsed": false,
    "deletable": true,
    "editable": true
   },
   "outputs": [],
   "source": [
    "#matches.columns"
   ]
  },
  {
   "cell_type": "code",
   "execution_count": 9,
   "metadata": {
    "collapsed": false,
    "deletable": true,
    "editable": true
   },
   "outputs": [],
   "source": [
    "#deliveries.columns"
   ]
  },
  {
   "cell_type": "code",
   "execution_count": 10,
   "metadata": {
    "collapsed": false,
    "deletable": true,
    "editable": true
   },
   "outputs": [],
   "source": [
    "#total_data = pd.merge(deliveries, matches, on='match_id')"
   ]
  },
  {
   "cell_type": "code",
   "execution_count": 11,
   "metadata": {
    "collapsed": false,
    "deletable": true,
    "editable": true
   },
   "outputs": [],
   "source": [
    "#total_data.head()"
   ]
  },
  {
   "cell_type": "markdown",
   "metadata": {
    "deletable": true,
    "editable": true
   },
   "source": [
    "#### Number of wickets by a bowler"
   ]
  },
  {
   "cell_type": "code",
   "execution_count": 12,
   "metadata": {
    "collapsed": false,
    "deletable": true,
    "editable": true
   },
   "outputs": [],
   "source": [
    "def wickets_by_bowler(bowler, match_id):\n",
    "    return deliveries.loc[deliveries['dismissal_kind']!= 'run out'].groupby(['match_id','bowler']).dismissal_kind.agg('count')[match_id][bowler]"
   ]
  },
  {
   "cell_type": "code",
   "execution_count": 13,
   "metadata": {
    "collapsed": false,
    "deletable": true,
    "editable": true
   },
   "outputs": [
    {
     "data": {
      "text/plain": [
       "2"
      ]
     },
     "execution_count": 13,
     "metadata": {},
     "output_type": "execute_result"
    }
   ],
   "source": [
    "wickets_by_bowler('SC Ganguly', 1)"
   ]
  },
  {
   "cell_type": "code",
   "execution_count": 14,
   "metadata": {
    "collapsed": true,
    "deletable": true,
    "editable": true
   },
   "outputs": [],
   "source": [
    "def runs_conceded_by_bowler(bowler, match_id):\n",
    "    return (deliveries.groupby(['match_id','bowler']).total_runs.sum()-deliveries.groupby(['match_id','bowler']).bye_runs.sum()-deliveries.groupby(['match_id','bowler']).legbye_runs.sum())[match_id][bowler]"
   ]
  },
  {
   "cell_type": "code",
   "execution_count": 15,
   "metadata": {
    "collapsed": false,
    "deletable": true,
    "editable": true
   },
   "outputs": [
    {
     "data": {
      "text/plain": [
       "21"
      ]
     },
     "execution_count": 15,
     "metadata": {},
     "output_type": "execute_result"
    }
   ],
   "source": [
    "runs_conceded_by_bowler('SC Ganguly', 1)"
   ]
  },
  {
   "cell_type": "code",
   "execution_count": 16,
   "metadata": {
    "collapsed": true,
    "deletable": true,
    "editable": true
   },
   "outputs": [],
   "source": [
    "def balls_by_bowler(bowler, match_id):\n",
    "    return (deliveries.groupby(['match_id','bowler']).ball.agg('count'))[match_id][bowler]"
   ]
  },
  {
   "cell_type": "code",
   "execution_count": 17,
   "metadata": {
    "collapsed": false,
    "deletable": true,
    "editable": true
   },
   "outputs": [
    {
     "data": {
      "text/plain": [
       "25"
      ]
     },
     "execution_count": 17,
     "metadata": {},
     "output_type": "execute_result"
    }
   ],
   "source": [
    "balls_by_bowler('SC Ganguly',1)"
   ]
  },
  {
   "cell_type": "code",
   "execution_count": 18,
   "metadata": {
    "collapsed": false,
    "deletable": true,
    "editable": true
   },
   "outputs": [],
   "source": [
    "def overs_by_bowler(bowler, match_id):\n",
    "    balls = (deliveries[(deliveries['match_id']==match_id)& (deliveries['bowler']== bowler) & (deliveries['wide_runs'] == 0) & (deliveries['is_super_over'] == 0) & (deliveries['noball_runs']==0)]).ball.count()\n",
    "    overs = float(int(balls/6) + float(balls%6)/10)\n",
    "    return (overs)"
   ]
  },
  {
   "cell_type": "code",
   "execution_count": 19,
   "metadata": {
    "collapsed": false,
    "deletable": true,
    "editable": true
   },
   "outputs": [
    {
     "data": {
      "text/plain": [
       "1.1"
      ]
     },
     "execution_count": 19,
     "metadata": {},
     "output_type": "execute_result"
    }
   ],
   "source": [
    "overs_by_bowler('LR Shukla', 1)"
   ]
  },
  {
   "cell_type": "code",
   "execution_count": 20,
   "metadata": {
    "collapsed": true,
    "deletable": true,
    "editable": true
   },
   "outputs": [],
   "source": [
    "train_sentences = [#### balls bowled train set ####\n",
    "                    (\"How many balls did Sachin bowl in match 1?\",\"balls_bowled\" )\n",
    "                   ,(\"Which bowler bowled the least number of balls in match 10?\",\"balls_bowled\")\n",
    "                   ,(\"Who bowled the least number of deliveries in IPL?\",\"balls_bowled\")\n",
    "                   ,(\"Who bowled the most number of balls in IPL?\", \"balls_bowled\")\n",
    "                   ,(\"Who bowled the least number of balls in IPL?\", \"balls_bowled\")\n",
    "                   ,(\"Second highest count of number of balls bowled in a match\",\"balls_bowled\")\n",
    "                   #### overs bowled train set ####\n",
    "                   ,(\"How many overs did Ganguly bowl in match1?\",\"overs_bolwed\")\n",
    "                   ,(\"Who bowled the most number of overs ib IPL?\", \"overs_bowled\")\n",
    "                   ,(\"Who bowled the least number of overs ib IPL?\", \"overs_bowled\")\n",
    "                   ,(\"What were the number of overs bolwed by Dravid in final?\",\"overs_bowled\")\n",
    "                   ,(\"Third lowest count of number of overs bolwed in IPL\",\"overs_bowled\")\n",
    "                   #### wickets train set ####\n",
    "                   ,(\"bowler who took highest number of wickets in match 2?\", \"wickets\")\n",
    "                   ,(\"the player who has taken most numbe of wickets in match 4?\", \"wickets\")\n",
    "                   ,(\"highest wicket taker in overall match 3?\", \"wickets\")\n",
    "                   ,(\"which bowler took more number of wickets in match 10?\", \"wickets\")\n",
    "                   ,(\"More number of wickets in match 12 are taken by?\", \"wickets\")\n",
    "                   ,(\"Leading wicket taker of match 18?\", \"wickets\")\n",
    "                   ,(\"Who secured more number of wickets in match 33?\", \"wickets\")\n",
    "                   ,(\"Which player took more number of wickets in match 54?\", \"wickets\")\n",
    "                   ,(\"How many wickets did SC Ganguly take in match match 1?\", \"wickets\")\n",
    "                   ,(\"Who secured more number of wickets in overall IPL?\", \"wickets\")\n",
    "                   ,(\"Who is the purple cap holder in IPL?\",\"wickets\")\n",
    "                   ,(\"Which bowler has the second highest number in wickets?\",\"wickets\")\n",
    "                   ,(\"How many wickets did Zaheer Khan take in match 58?\",\"wicktes\")\n",
    "                   ,(\"Which bowler has most number of dismissals in match 19?\",\"wickets\")\n",
    "                   #### runs conceded train set ####\n",
    "                   ,(\"who conceded most number of runs in IPL ?\",\"bowler_runs\")\n",
    "                   ,(\"who conceded most number of fours in match 10?\",\"bowler_runs\")\n",
    "                   ,(\"bowler who conceded most numer of sixes in match 12?\",\"bowler_runs\")\n",
    "                   ,(\"which bowler conceded lowest boundaries in match 38?\",\"bowler_runs\")\n",
    "                   ,(\"who has given less number of sixes in match 2?\",\"bowler_runs\")\n",
    "                   ,(\"how many runs given by SC Ganguly in match 1?\",\"bowler_runs\")\n",
    "                   ,(\"how many boundaries conceded by BC Lee?\",\"bowler_runs\")\n",
    "                   ,(\"which bowler conceded maximum number of runs?\",\"bowler_runs\")\n",
    "                   ,(\"who got hit with most number of sixes?\",\"bowler_runs\")\n",
    "                   ,(\"what is the number of runs given by RA Jadeja?\",\"bowler_runs\") ]"
   ]
  },
  {
   "cell_type": "code",
   "execution_count": 21,
   "metadata": {
    "collapsed": false,
    "deletable": true,
    "editable": true
   },
   "outputs": [],
   "source": [
    "def feature_extractor(sentence):\n",
    "    features = {'balls': 0\n",
    "                ,'overs': 0\n",
    "                ,'bowled': 0\n",
    "                ,'number': 0\n",
    "                ,'count': 0\n",
    "                ,'bowl': 0\n",
    "                ,'bowler': 0\n",
    "                ,'deliveries':0\n",
    "                ,'wickets':0\n",
    "                ,'dismissals':0\n",
    "               }\n",
    "    tokenized_sentence = nltk.word_tokenize(sentence)\n",
    "    word_counts = nltk.Counter(tokenized_sentence)\n",
    "    for word in word_counts:\n",
    "        if word in features:\n",
    "            features[word] = word_counts[word]\n",
    "    return features"
   ]
  },
  {
   "cell_type": "code",
   "execution_count": 22,
   "metadata": {
    "collapsed": false,
    "deletable": true,
    "editable": true
   },
   "outputs": [],
   "source": [
    "naive_bayes_classifier = nltk.NaiveBayesClassifier.train([(feature_extractor(sentence), label) for sentence, label in train_sentences])"
   ]
  },
  {
   "cell_type": "code",
   "execution_count": 23,
   "metadata": {
    "collapsed": true,
    "deletable": true,
    "editable": true
   },
   "outputs": [],
   "source": [
    "feature_set_another_sentence = feature_extractor(\"who conceded the most number of runs in ipl?\")"
   ]
  },
  {
   "cell_type": "code",
   "execution_count": 24,
   "metadata": {
    "collapsed": false,
    "deletable": true,
    "editable": true
   },
   "outputs": [
    {
     "data": {
      "text/plain": [
       "'bowler_runs'"
      ]
     },
     "execution_count": 24,
     "metadata": {},
     "output_type": "execute_result"
    }
   ],
   "source": [
    "naive_bayes_classifier.classify(feature_set_another_sentence)"
   ]
  },
  {
   "cell_type": "code",
   "execution_count": 326,
   "metadata": {
    "collapsed": true
   },
   "outputs": [],
   "source": [
    "sent = \"How many sixes did ABD score in IPL twenty sixth match?\""
   ]
  },
  {
   "cell_type": "code",
   "execution_count": 327,
   "metadata": {
    "collapsed": true
   },
   "outputs": [],
   "source": [
    "tokenized_words = nltk.word_tokenize(sent)\n",
    "tag = nltk.pos_tag(tokenized_words)"
   ]
  },
  {
   "cell_type": "code",
   "execution_count": 328,
   "metadata": {
    "collapsed": false
   },
   "outputs": [],
   "source": [
    "lemmatizer = WordNetLemmatizer()\n",
    "lemmas = []"
   ]
  },
  {
   "cell_type": "code",
   "execution_count": 329,
   "metadata": {
    "collapsed": false
   },
   "outputs": [],
   "source": [
    "for words in tokenized_words:\n",
    "    lemmas.append(lemmatizer.lemmatize(words))"
   ]
  },
  {
   "cell_type": "code",
   "execution_count": 330,
   "metadata": {
    "collapsed": true
   },
   "outputs": [],
   "source": [
    "lemma_tokenized = nltk.pos_tag(lemmas)"
   ]
  },
  {
   "cell_type": "code",
   "execution_count": 331,
   "metadata": {
    "collapsed": false
   },
   "outputs": [
    {
     "data": {
      "text/plain": [
       "[('How', 'WRB'),\n",
       " ('many', 'JJ'),\n",
       " ('sixes', 'NNS'),\n",
       " ('did', 'VBD'),\n",
       " ('ABD', 'NNP'),\n",
       " ('score', 'NN'),\n",
       " ('in', 'IN'),\n",
       " ('IPL', 'NNP'),\n",
       " ('twenty', 'NN'),\n",
       " ('sixth', 'JJ'),\n",
       " ('match', 'NN'),\n",
       " ('?', '.')]"
      ]
     },
     "execution_count": 331,
     "metadata": {},
     "output_type": "execute_result"
    }
   ],
   "source": [
    "tag"
   ]
  },
  {
   "cell_type": "code",
   "execution_count": 332,
   "metadata": {
    "collapsed": false
   },
   "outputs": [
    {
     "data": {
      "text/plain": [
       "[('How', 'WRB'),\n",
       " ('many', 'JJ'),\n",
       " ('six', 'CD'),\n",
       " ('did', 'VBD'),\n",
       " ('ABD', 'NNP'),\n",
       " ('score', 'NN'),\n",
       " ('in', 'IN'),\n",
       " ('IPL', 'NNP'),\n",
       " ('twenty', 'NN'),\n",
       " ('sixth', 'JJ'),\n",
       " ('match', 'NN'),\n",
       " ('?', '.')]"
      ]
     },
     "execution_count": 332,
     "metadata": {},
     "output_type": "execute_result"
    }
   ],
   "source": [
    "lemma_tokenized"
   ]
  },
  {
   "cell_type": "code",
   "execution_count": 25,
   "metadata": {
    "collapsed": true,
    "deletable": true,
    "editable": true
   },
   "outputs": [],
   "source": [
    "def extras_by_bowler(bowler, match_id):\n",
    "        wide = (deliveries[(deliveries['match_id']==match_id)& (deliveries['bowler']== bowler) & (deliveries['is_super_over'] == 0)]).wide_runs.sum()\n",
    "        noball = (deliveries[(deliveries['match_id']==match_id)& (deliveries['bowler']== bowler) & (deliveries['is_super_over'] == 0)]).noball_runs.sum()\n",
    "        byes = (deliveries[(deliveries['match_id']==match_id)& (deliveries['bowler']== bowler) & (deliveries['is_super_over'] == 0)]).bye_runs.sum()\n",
    "        leg_byes = (deliveries[(deliveries['match_id']==match_id)& (deliveries['bowler']== bowler) & (deliveries['is_super_over'] == 0)]).legbye_runs.sum()\n",
    "    \n",
    "        return wide + noball"
   ]
  },
  {
   "cell_type": "code",
   "execution_count": 26,
   "metadata": {
    "collapsed": false,
    "deletable": true,
    "editable": true
   },
   "outputs": [
    {
     "data": {
      "text/plain": [
       "1"
      ]
     },
     "execution_count": 26,
     "metadata": {},
     "output_type": "execute_result"
    }
   ],
   "source": [
    "extras_by_bowler('SC Ganguly',1)"
   ]
  },
  {
   "cell_type": "code",
   "execution_count": 27,
   "metadata": {
    "collapsed": true,
    "deletable": true,
    "editable": true
   },
   "outputs": [],
   "source": [
    "def economy_rate(bowler, match_id):\n",
    "    import math\n",
    "    runs = runs_conceded_by_bowler(bowler, match_id)\n",
    "    overs = overs_by_bowler(bowler, match_id)\n",
    "    frac, whole = math.modf(overs)\n",
    "    total = whole + frac*10/6\n",
    "    return runs/total"
   ]
  },
  {
   "cell_type": "code",
   "execution_count": 28,
   "metadata": {
    "collapsed": false,
    "deletable": true,
    "editable": true
   },
   "outputs": [
    {
     "data": {
      "text/plain": [
       "5.25"
      ]
     },
     "execution_count": 28,
     "metadata": {},
     "output_type": "execute_result"
    }
   ],
   "source": [
    "economy_rate('SC Ganguly', 1)"
   ]
  },
  {
   "cell_type": "code",
   "execution_count": null,
   "metadata": {
    "collapsed": false,
    "deletable": true,
    "editable": true
   },
   "outputs": [],
   "source": []
  },
  {
   "cell_type": "code",
   "execution_count": 29,
   "metadata": {
    "collapsed": false,
    "deletable": true,
    "editable": true
   },
   "outputs": [],
   "source": [
    "def highest_wickets_by_bowler(match_id, rank = 1):\n",
    "    bowlers = deliveries[deliveries['match_id'] == match_id].bowler.unique()\n",
    "    wick_by_bowler = {}\n",
    "    for bowler in bowlers:\n",
    "        wick_by_bowler[bowler] = (wickets_by_bowler(bowler, 1))\n",
    "    data = sorted(wick_by_bowler.items(), key=lambda x:x[1], reverse=True)\n",
    "    if rank > len(data):\n",
    "        rank = len(data)\n",
    "    return data[rank-1]\n",
    "    "
   ]
  },
  {
   "cell_type": "code",
   "execution_count": 30,
   "metadata": {
    "collapsed": false,
    "deletable": true,
    "editable": true
   },
   "outputs": [
    {
     "data": {
      "text/plain": [
       "('AB Agarkar', 3)"
      ]
     },
     "execution_count": 30,
     "metadata": {},
     "output_type": "execute_result"
    }
   ],
   "source": [
    "highest_wickets_by_bowler(1,1)"
   ]
  },
  {
   "cell_type": "code",
   "execution_count": 31,
   "metadata": {
    "collapsed": true,
    "deletable": true,
    "editable": true
   },
   "outputs": [],
   "source": [
    "def highest_economy_rate(match_id, rank = 1):\n",
    "    bowlers = deliveries[deliveries['match_id'] == match_id].bowler.unique()\n",
    "    eco_by_bowler = {}\n",
    "    for bowler in bowlers:\n",
    "        eco_by_bowler[bowler] = round((economy_rate(bowler, match_id)),2)\n",
    "    data = sorted(eco_by_bowler.items(), key=lambda x:x[1])\n",
    "    if rank > len(data):\n",
    "        rank = len(data)\n",
    "    return data[rank-1]\n",
    "\n",
    "\n",
    "#####################################Statements for highest economy\n",
    "# Which bowler has the highest economy rate in IPL?\n",
    "# What is the economy rate of the bowler?\n",
    "# How did the bowler "
   ]
  },
  {
   "cell_type": "code",
   "execution_count": 32,
   "metadata": {
    "collapsed": false,
    "deletable": true,
    "editable": true
   },
   "outputs": [
    {
     "data": {
      "text/plain": [
       "('R Bhatia', 4.25)"
      ]
     },
     "execution_count": 32,
     "metadata": {},
     "output_type": "execute_result"
    }
   ],
   "source": [
    "highest_economy_rate(3,2)"
   ]
  },
  {
   "cell_type": "markdown",
   "metadata": {
    "deletable": true,
    "editable": true
   },
   "source": [
    "#### Highest Number of wickets by bowler"
   ]
  },
  {
   "cell_type": "code",
   "execution_count": 33,
   "metadata": {
    "collapsed": true,
    "deletable": true,
    "editable": true
   },
   "outputs": [],
   "source": [
    "def overall_wickets_by_bowler(rank =1):\n",
    "    bowlers = deliveries.bowler.unique()\n",
    "    wicket = deliveries.loc[deliveries['dismissal_kind']!= 'run out'].groupby('bowler').dismissal_kind.agg('count').sort_values(ascending = False)\n",
    "    if(rank>len(wicket)):\n",
    "        rank = len(wicket)\n",
    "    return wicket.iloc[rank-1:rank] "
   ]
  },
  {
   "cell_type": "code",
   "execution_count": 34,
   "metadata": {
    "collapsed": false,
    "deletable": true,
    "editable": true
   },
   "outputs": [
    {
     "data": {
      "text/plain": [
       "bowler\n",
       "Sohail Tanvir    22\n",
       "Name: dismissal_kind, dtype: int64"
      ]
     },
     "execution_count": 34,
     "metadata": {},
     "output_type": "execute_result"
    }
   ],
   "source": [
    "overall_wickets_by_bowler()"
   ]
  },
  {
   "cell_type": "code",
   "execution_count": 35,
   "metadata": {
    "collapsed": false,
    "deletable": true,
    "editable": true
   },
   "outputs": [],
   "source": [
    "def boundaries_data(value):\n",
    "    if value==6:\n",
    "        data = pd.DataFrame(deliveries.loc[deliveries['batsman_runs']==6].groupby(['match_id','bowling_team','bowler']).batsman_runs.agg('count').reset_index())\n",
    "        data = data.sort(['batsman_runs'], inplace=True, axis=1,ascending=False)\n",
    "        print(data)\n",
    "    if value==4:   \n",
    "        return deliveries.loc[deliveries['batsman_runs']==4].groupby(['match_id','bowling_team','bowler']).batsman_runs.agg('count').iloc[0:1]"
   ]
  },
  {
   "cell_type": "code",
   "execution_count": null,
   "metadata": {
    "collapsed": false,
    "deletable": true,
    "editable": true
   },
   "outputs": [],
   "source": []
  },
  {
   "cell_type": "code",
   "execution_count": null,
   "metadata": {
    "collapsed": false,
    "deletable": true,
    "editable": true
   },
   "outputs": [],
   "source": []
  },
  {
   "cell_type": "code",
   "execution_count": 37,
   "metadata": {
    "collapsed": false,
    "deletable": true,
    "editable": true
   },
   "outputs": [],
   "source": [
    "def boundaries_conceded(match_id,value=4):\n",
    "    if value==4:\n",
    "        score = boundaries_data(4)\n",
    "        score[(score)]\n"
   ]
  },
  {
   "cell_type": "code",
   "execution_count": 139,
   "metadata": {
    "collapsed": false,
    "deletable": true,
    "editable": true
   },
   "outputs": [],
   "source": [
    "num = {'one':1,\n",
    "       'two':2,\n",
    "       'three':3,\n",
    "       'four':4,\n",
    "       'twenty':20}"
   ]
  },
  {
   "cell_type": "code",
   "execution_count": 140,
   "metadata": {
    "collapsed": true,
    "deletable": true,
    "editable": true
   },
   "outputs": [],
   "source": [
    "word = nltk.word_tokenize('twenty four')"
   ]
  },
  {
   "cell_type": "code",
   "execution_count": 141,
   "metadata": {
    "collapsed": false
   },
   "outputs": [
    {
     "data": {
      "text/plain": [
       "['twenty', 'four']"
      ]
     },
     "execution_count": 141,
     "metadata": {},
     "output_type": "execute_result"
    }
   ],
   "source": [
    "word"
   ]
  },
  {
   "cell_type": "code",
   "execution_count": 170,
   "metadata": {
    "collapsed": false
   },
   "outputs": [],
   "source": [
    "import inflect"
   ]
  },
  {
   "cell_type": "code",
   "execution_count": 418,
   "metadata": {
    "collapsed": false
   },
   "outputs": [],
   "source": [
    "p = inflect.engine()\n",
    "word_to_number_mapping = {}\n",
    "for i in range(1, 100):\n",
    "    word_form = p.number_to_words(i)\n",
    "    word_to_number_mapping[word_form] = i"
   ]
  },
  {
   "cell_type": "code",
   "execution_count": 419,
   "metadata": {
    "collapsed": false
   },
   "outputs": [
    {
     "name": "stdout",
     "output_type": "stream",
     "text": [
      "Enter a number in words:sixty six\n"
     ]
    }
   ],
   "source": [
    "query  = input(\"Enter a number in words:\")"
   ]
  },
  {
   "cell_type": "code",
   "execution_count": 423,
   "metadata": {
    "collapsed": false
   },
   "outputs": [],
   "source": [
    "query_words = (nltk.word_tokenize(query))"
   ]
  },
  {
   "cell_type": "code",
   "execution_count": 424,
   "metadata": {
    "collapsed": false
   },
   "outputs": [
    {
     "data": {
      "text/plain": [
       "['sixty', 'six']"
      ]
     },
     "execution_count": 424,
     "metadata": {},
     "output_type": "execute_result"
    }
   ],
   "source": [
    "query_words"
   ]
  },
  {
   "cell_type": "code",
   "execution_count": 428,
   "metadata": {
    "collapsed": false
   },
   "outputs": [
    {
     "ename": "KeyError",
     "evalue": "'How'",
     "output_type": "error",
     "traceback": [
      "\u001b[0;31m---------------------------------------------------------------------------\u001b[0m",
      "\u001b[0;31mKeyError\u001b[0m                                  Traceback (most recent call last)",
      "\u001b[0;32m<ipython-input-428-b84ad937d525>\u001b[0m in \u001b[0;36m<module>\u001b[0;34m()\u001b[0m\n\u001b[0;32m----> 1\u001b[0;31m \u001b[0mword_to_number_mapping\u001b[0m\u001b[0;34m[\u001b[0m\u001b[0;34m'How'\u001b[0m\u001b[0;34m]\u001b[0m\u001b[0;34m\u001b[0m\u001b[0m\n\u001b[0m",
      "\u001b[0;31mKeyError\u001b[0m: 'How'"
     ]
    }
   ],
   "source": [
    "word_to_number_mapping['How']"
   ]
  },
  {
   "cell_type": "code",
   "execution_count": 668,
   "metadata": {
    "collapsed": true
   },
   "outputs": [],
   "source": [
    "query = \"in fifth match how many wickets did ganguly take?\"\n",
    "query_tokens = nltk.word_tokenize(query)"
   ]
  },
  {
   "cell_type": "code",
   "execution_count": 669,
   "metadata": {
    "collapsed": false
   },
   "outputs": [],
   "source": [
    "def proper_string(query):\n",
    "    new1 = []\n",
    "    for word in query:\n",
    "        if p.singular_noun(word)==False:\n",
    "            new1.append(word)\n",
    "        else:\n",
    "            new1.append(p.singular_noun(word))\n",
    "    return new1"
   ]
  },
  {
   "cell_type": "code",
   "execution_count": 670,
   "metadata": {
    "collapsed": false
   },
   "outputs": [],
   "source": [
    "new_query = proper_string(query_tokens)"
   ]
  },
  {
   "cell_type": "code",
   "execution_count": 671,
   "metadata": {
    "collapsed": false
   },
   "outputs": [],
   "source": [
    "def word2num(words):\n",
    "    num = 0\n",
    "    a = []\n",
    "    b = []\n",
    "    temp = []\n",
    "    final = []\n",
    "    keys_num = []\n",
    "    num_list = {'first':1,'second':2,'third':3,'fourth':4,'fifth':5,'sixth':6,'seventh':7,'eighth':8,'nineth':9,\n",
    "            'tenth':10,'eleventh':11,'twelfth':12,'thirteenth':13,'fourteenth':14,'fifteenth':15,'sixteenth':16,\n",
    "            'seventeenth':17,'eighteenth':18,'nineteenth':19,'twentieth':20,'thirtieth':30,'fortieth':40,\n",
    "            'fiftieth':50,'sixtieth':60,'seventieth':70,'eightieth':80,'ninetieth':90,'hundredth':100}\n",
    "    for word in words:\n",
    "        try:\n",
    "            a.append(word_to_number_mapping[word])\n",
    "            keys_num.append(words.index(word))\n",
    "            \n",
    "        except Exception as exception:\n",
    "            if word not in num_list:\n",
    "                final.append(word)\n",
    "            if word in num_list:\n",
    "                a.append(num_list[word])\n",
    "                keys_num.append(words.index(word))\n",
    "    for i in range(len(words)):\n",
    "        for j in range(len(keys_num)):\n",
    "            if(i == keys_num[j]):\n",
    "                words[i] = a[j]\n",
    "\n",
    "    for j in range(len(words)):\n",
    "        if((type(words[j-1])==int)&(type(words[j])==int)):\n",
    "            words[j-1] = words[j-1]+words[j]\n",
    "            del words[j]\n",
    "        break \n",
    "    \n",
    "   \n",
    "    return words,a ,keys_num        \n",
    "    "
   ]
  },
  {
   "cell_type": "code",
   "execution_count": 672,
   "metadata": {
    "collapsed": false
   },
   "outputs": [
    {
     "data": {
      "text/plain": [
       "(['in', 5, 'match', 'how', 'many', 'wicket', 'did', 'ganguly', 'take', '?'],\n",
       " [5],\n",
       " [1])"
      ]
     },
     "execution_count": 672,
     "metadata": {},
     "output_type": "execute_result"
    }
   ],
   "source": [
    "word2num(new_query)\n"
   ]
  },
  {
   "cell_type": "code",
   "execution_count": 673,
   "metadata": {
    "collapsed": false
   },
   "outputs": [
    {
     "name": "stdout",
     "output_type": "stream",
     "text": [
      "['in', 5, 'match', 'how', 'many', 'wicket', 'did', 'ganguly', 'take', '?']\n"
     ]
    }
   ],
   "source": [
    "words,a,keys_num = word2num(new_query)\n",
    "#a = [6,40,8]\n",
    "#keys_num = [2,5,6]\n",
    "for i in range(len(words)):\n",
    "    for j in range(len(keys_num)):\n",
    "        if(i == keys_num[j]):\n",
    "            words[i] = a[j]\n",
    "print(words)  "
   ]
  },
  {
   "cell_type": "code",
   "execution_count": 674,
   "metadata": {
    "collapsed": false
   },
   "outputs": [],
   "source": [
    "s = []\n",
    "try:\n",
    "    for j in range(len(words)):\n",
    "        if((type(words[j])==str)&(type(words[j+1])==int)):\n",
    "            s.append(words[j])\n",
    "        if((type(words[j+1])!=int)):\n",
    "            s.append(words[j])\n",
    "        if((type(words[j])==int)&(type(words[j+1])==int)):\n",
    "            words[j] = words[j+1]+words[j]\n",
    "            s.append(words[j])\n",
    "            del words[j+1]\n",
    "            #j = j+1            \n",
    "    \n",
    "    \n",
    "except:\n",
    "    0\n",
    "\n",
    "s.append(words[len(words)-1]) \n",
    "\n",
    "        "
   ]
  },
  {
   "cell_type": "code",
   "execution_count": 675,
   "metadata": {
    "collapsed": false
   },
   "outputs": [
    {
     "data": {
      "text/plain": [
       "['in', 5, 'match', 'how', 'many', 'wicket', 'did', 'ganguly', 'take', '?']"
      ]
     },
     "execution_count": 675,
     "metadata": {},
     "output_type": "execute_result"
    }
   ],
   "source": [
    "s"
   ]
  },
  {
   "cell_type": "code",
   "execution_count": null,
   "metadata": {
    "collapsed": true
   },
   "outputs": [],
   "source": []
  },
  {
   "cell_type": "code",
   "execution_count": 640,
   "metadata": {
    "collapsed": false
   },
   "outputs": [
    {
     "ename": "AttributeError",
     "evalue": "'NoneType' object has no attribute 'index'",
     "output_type": "error",
     "traceback": [
      "\u001b[0;31m---------------------------------------------------------------------------\u001b[0m",
      "\u001b[0;31mAttributeError\u001b[0m                            Traceback (most recent call last)",
      "\u001b[0;32m<ipython-input-640-784d8b7029a5>\u001b[0m in \u001b[0;36m<module>\u001b[0;34m()\u001b[0m\n\u001b[1;32m      1\u001b[0m \u001b[0mwords_without_num\u001b[0m\u001b[0;34m\u001b[0m\u001b[0m\n\u001b[0;32m----> 2\u001b[0;31m \u001b[0mwords_without_num\u001b[0m\u001b[0;34m.\u001b[0m\u001b[0mindex\u001b[0m\u001b[0;34m(\u001b[0m\u001b[0;34m'many'\u001b[0m\u001b[0;34m)\u001b[0m\u001b[0;34m\u001b[0m\u001b[0m\n\u001b[0m",
      "\u001b[0;31mAttributeError\u001b[0m: 'NoneType' object has no attribute 'index'"
     ]
    }
   ],
   "source": [
    "words_without_num\n",
    "words_without_num.index('many')"
   ]
  },
  {
   "cell_type": "code",
   "execution_count": null,
   "metadata": {
    "collapsed": true
   },
   "outputs": [],
   "source": []
  },
  {
   "cell_type": "code",
   "execution_count": 370,
   "metadata": {
    "collapsed": false
   },
   "outputs": [],
   "source": [
    "num_list = {'first':1,'second':2,'third':3,'fourth':4,'fifth':5,'sixth':6,'seventh':7,'eighth':8,'nineth':9,\n",
    "            'tenth':10,'eleventh':11,'twelfth':12,'thirteenth':13,'fourteenth':14,'fifteenth':15,'sixteenth':16,\n",
    "            'seventeenth':17,'eighteenth':18,'nineteenth':19,'twentieth':20,'thirtieth':30,'fortieth':40,\n",
    "            'fiftieth':50,'sixtieth':60,'seventieth':70,'eightieth':80,'ninetieth':90,'hundredth':100}"
   ]
  },
  {
   "cell_type": "code",
   "execution_count": 376,
   "metadata": {
    "collapsed": false
   },
   "outputs": [
    {
     "data": {
      "text/plain": [
       "1"
      ]
     },
     "execution_count": 376,
     "metadata": {},
     "output_type": "execute_result"
    }
   ],
   "source": [
    "word = 'first'\n",
    "num = num_list[word]\n",
    "num"
   ]
  },
  {
   "cell_type": "markdown",
   "metadata": {},
   "source": []
  },
  {
   "cell_type": "code",
   "execution_count": 242,
   "metadata": {
    "collapsed": false
   },
   "outputs": [
    {
     "name": "stdout",
     "output_type": "stream",
     "text": [
      "40\n"
     ]
    }
   ],
   "source": [
    "print(word_to_number_mapping[\"forty\"])"
   ]
  },
  {
   "cell_type": "code",
   "execution_count": 271,
   "metadata": {
    "collapsed": true
   },
   "outputs": [],
   "source": [
    "word = ['sixes']"
   ]
  },
  {
   "cell_type": "code",
   "execution_count": 336,
   "metadata": {
    "collapsed": false
   },
   "outputs": [
    {
     "data": {
      "text/plain": [
       "False"
      ]
     },
     "execution_count": 336,
     "metadata": {},
     "output_type": "execute_result"
    }
   ],
   "source": [
    "#for words in query:\n",
    "#    if\n",
    "\n",
    "p.singular_noun('six')"
   ]
  },
  {
   "cell_type": "code",
   "execution_count": 253,
   "metadata": {
    "collapsed": false
   },
   "outputs": [],
   "source": [
    "word = p.number_to_words('20th')"
   ]
  },
  {
   "cell_type": "code",
   "execution_count": 305,
   "metadata": {
    "collapsed": false
   },
   "outputs": [],
   "source": [
    "word = 'run'\n",
    "tag = nltk.pos_tag(word_tokenize(word))"
   ]
  },
  {
   "cell_type": "code",
   "execution_count": null,
   "metadata": {
    "collapsed": true
   },
   "outputs": [],
   "source": []
  }
 ],
 "metadata": {
  "kernelspec": {
   "display_name": "Python 3",
   "language": "python",
   "name": "python3"
  },
  "language_info": {
   "codemirror_mode": {
    "name": "ipython",
    "version": 3
   },
   "file_extension": ".py",
   "mimetype": "text/x-python",
   "name": "python",
   "nbconvert_exporter": "python",
   "pygments_lexer": "ipython3",
   "version": "3.5.2"
  }
 },
 "nbformat": 4,
 "nbformat_minor": 2
}
