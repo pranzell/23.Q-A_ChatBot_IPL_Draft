{
 "cells": [
  {
   "cell_type": "markdown",
   "metadata": {},
   "source": [
    "# IPL CHAT BOX - Batting Team - PRANJAL"
   ]
  },
  {
   "cell_type": "markdown",
   "metadata": {},
   "source": [
    "### PROBLEM STATEMENT : \n",
    "\n",
    "##### To develop a Q&A chat bot which responds to user's queries based on NLP statistics."
   ]
  },
  {
   "cell_type": "markdown",
   "metadata": {},
   "source": [
    "#### .\n",
    "\n",
    "\n",
    "\n",
    "#### ."
   ]
  },
  {
   "cell_type": "code",
   "execution_count": 342,
   "metadata": {
    "collapsed": true
   },
   "outputs": [],
   "source": [
    "import numpy as np\n",
    "import pandas as pd\n",
    "import random\n",
    "\n",
    "# --- NLTK PACKAGE ---\n",
    "import nltk\n",
    "\n",
    "# Tokenizers\n",
    "from nltk.tokenize import word_tokenize, sent_tokenize, PunktSentenceTokenizer, RegexpTokenizer\n",
    "\n",
    "# Stemming and Lemmatizing\n",
    "from nltk.stem import PorterStemmer, WordNetLemmatizer\n",
    "\n",
    "# Stopwords\n",
    "from nltk.corpus import stopwords, state_union\n",
    "\n",
    "# Lesk Module\n",
    "from nltk.wsd import lesk\n",
    "\n",
    "# Tagger\n",
    "from nltk.tag import UnigramTagger, BigramTagger, BrillTagger"
   ]
  },
  {
   "cell_type": "code",
   "execution_count": 2,
   "metadata": {
    "collapsed": true
   },
   "outputs": [],
   "source": [
    "matches = pd.read_csv('matches.csv')\n",
    "deliveries = pd.read_csv('deliveries.csv')"
   ]
  },
  {
   "cell_type": "code",
   "execution_count": 3,
   "metadata": {
    "scrolled": false
   },
   "outputs": [
    {
     "data": {
      "text/html": [
       "<div>\n",
       "<table border=\"1\" class=\"dataframe\">\n",
       "  <thead>\n",
       "    <tr style=\"text-align: right;\">\n",
       "      <th></th>\n",
       "      <th>id</th>\n",
       "      <th>season</th>\n",
       "      <th>city</th>\n",
       "      <th>date</th>\n",
       "      <th>team1</th>\n",
       "      <th>team2</th>\n",
       "      <th>toss_winner</th>\n",
       "      <th>toss_decision</th>\n",
       "      <th>result</th>\n",
       "      <th>dl_applied</th>\n",
       "      <th>winner</th>\n",
       "      <th>win_by_runs</th>\n",
       "      <th>win_by_wickets</th>\n",
       "      <th>player_of_match</th>\n",
       "      <th>venue</th>\n",
       "      <th>umpire1</th>\n",
       "      <th>umpire2</th>\n",
       "    </tr>\n",
       "  </thead>\n",
       "  <tbody>\n",
       "    <tr>\n",
       "      <th>0</th>\n",
       "      <td>1</td>\n",
       "      <td>2008</td>\n",
       "      <td>Bangalore</td>\n",
       "      <td>2008-04-18</td>\n",
       "      <td>Kolkata Knight Riders</td>\n",
       "      <td>Royal Challengers Bangalore</td>\n",
       "      <td>Royal Challengers Bangalore</td>\n",
       "      <td>field</td>\n",
       "      <td>normal</td>\n",
       "      <td>0</td>\n",
       "      <td>Kolkata Knight Riders</td>\n",
       "      <td>140</td>\n",
       "      <td>0</td>\n",
       "      <td>BB McCullum</td>\n",
       "      <td>M Chinnaswamy Stadium</td>\n",
       "      <td>Asad Rauf</td>\n",
       "      <td>RE Koertzen</td>\n",
       "    </tr>\n",
       "    <tr>\n",
       "      <th>1</th>\n",
       "      <td>2</td>\n",
       "      <td>2008</td>\n",
       "      <td>Chandigarh</td>\n",
       "      <td>2008-04-19</td>\n",
       "      <td>Chennai Super Kings</td>\n",
       "      <td>Kings XI Punjab</td>\n",
       "      <td>Chennai Super Kings</td>\n",
       "      <td>bat</td>\n",
       "      <td>normal</td>\n",
       "      <td>0</td>\n",
       "      <td>Chennai Super Kings</td>\n",
       "      <td>33</td>\n",
       "      <td>0</td>\n",
       "      <td>MEK Hussey</td>\n",
       "      <td>Punjab Cricket Association Stadium, Mohali</td>\n",
       "      <td>MR Benson</td>\n",
       "      <td>SL Shastri</td>\n",
       "    </tr>\n",
       "    <tr>\n",
       "      <th>2</th>\n",
       "      <td>3</td>\n",
       "      <td>2008</td>\n",
       "      <td>Delhi</td>\n",
       "      <td>2008-04-19</td>\n",
       "      <td>Rajasthan Royals</td>\n",
       "      <td>Delhi Daredevils</td>\n",
       "      <td>Rajasthan Royals</td>\n",
       "      <td>bat</td>\n",
       "      <td>normal</td>\n",
       "      <td>0</td>\n",
       "      <td>Delhi Daredevils</td>\n",
       "      <td>0</td>\n",
       "      <td>9</td>\n",
       "      <td>MF Maharoof</td>\n",
       "      <td>Feroz Shah Kotla</td>\n",
       "      <td>Aleem Dar</td>\n",
       "      <td>GA Pratapkumar</td>\n",
       "    </tr>\n",
       "    <tr>\n",
       "      <th>3</th>\n",
       "      <td>4</td>\n",
       "      <td>2008</td>\n",
       "      <td>Mumbai</td>\n",
       "      <td>2008-04-20</td>\n",
       "      <td>Mumbai Indians</td>\n",
       "      <td>Royal Challengers Bangalore</td>\n",
       "      <td>Mumbai Indians</td>\n",
       "      <td>bat</td>\n",
       "      <td>normal</td>\n",
       "      <td>0</td>\n",
       "      <td>Royal Challengers Bangalore</td>\n",
       "      <td>0</td>\n",
       "      <td>5</td>\n",
       "      <td>MV Boucher</td>\n",
       "      <td>Wankhede Stadium</td>\n",
       "      <td>SJ Davis</td>\n",
       "      <td>DJ Harper</td>\n",
       "    </tr>\n",
       "    <tr>\n",
       "      <th>4</th>\n",
       "      <td>5</td>\n",
       "      <td>2008</td>\n",
       "      <td>Kolkata</td>\n",
       "      <td>2008-04-20</td>\n",
       "      <td>Deccan Chargers</td>\n",
       "      <td>Kolkata Knight Riders</td>\n",
       "      <td>Deccan Chargers</td>\n",
       "      <td>bat</td>\n",
       "      <td>normal</td>\n",
       "      <td>0</td>\n",
       "      <td>Kolkata Knight Riders</td>\n",
       "      <td>0</td>\n",
       "      <td>5</td>\n",
       "      <td>DJ Hussey</td>\n",
       "      <td>Eden Gardens</td>\n",
       "      <td>BF Bowden</td>\n",
       "      <td>K Hariharan</td>\n",
       "    </tr>\n",
       "  </tbody>\n",
       "</table>\n",
       "</div>"
      ],
      "text/plain": [
       "   id  season        city        date                  team1  \\\n",
       "0   1    2008   Bangalore  2008-04-18  Kolkata Knight Riders   \n",
       "1   2    2008  Chandigarh  2008-04-19    Chennai Super Kings   \n",
       "2   3    2008       Delhi  2008-04-19       Rajasthan Royals   \n",
       "3   4    2008      Mumbai  2008-04-20         Mumbai Indians   \n",
       "4   5    2008     Kolkata  2008-04-20        Deccan Chargers   \n",
       "\n",
       "                         team2                  toss_winner toss_decision  \\\n",
       "0  Royal Challengers Bangalore  Royal Challengers Bangalore         field   \n",
       "1              Kings XI Punjab          Chennai Super Kings           bat   \n",
       "2             Delhi Daredevils             Rajasthan Royals           bat   \n",
       "3  Royal Challengers Bangalore               Mumbai Indians           bat   \n",
       "4        Kolkata Knight Riders              Deccan Chargers           bat   \n",
       "\n",
       "   result  dl_applied                       winner  win_by_runs  \\\n",
       "0  normal           0        Kolkata Knight Riders          140   \n",
       "1  normal           0          Chennai Super Kings           33   \n",
       "2  normal           0             Delhi Daredevils            0   \n",
       "3  normal           0  Royal Challengers Bangalore            0   \n",
       "4  normal           0        Kolkata Knight Riders            0   \n",
       "\n",
       "   win_by_wickets player_of_match                                       venue  \\\n",
       "0               0     BB McCullum                       M Chinnaswamy Stadium   \n",
       "1               0      MEK Hussey  Punjab Cricket Association Stadium, Mohali   \n",
       "2               9     MF Maharoof                            Feroz Shah Kotla   \n",
       "3               5      MV Boucher                            Wankhede Stadium   \n",
       "4               5       DJ Hussey                                Eden Gardens   \n",
       "\n",
       "     umpire1         umpire2  \n",
       "0  Asad Rauf     RE Koertzen  \n",
       "1  MR Benson      SL Shastri  \n",
       "2  Aleem Dar  GA Pratapkumar  \n",
       "3   SJ Davis       DJ Harper  \n",
       "4  BF Bowden     K Hariharan  "
      ]
     },
     "execution_count": 3,
     "metadata": {},
     "output_type": "execute_result"
    }
   ],
   "source": [
    "matches.head()"
   ]
  },
  {
   "cell_type": "code",
   "execution_count": 4,
   "metadata": {
    "collapsed": true
   },
   "outputs": [
    {
     "data": {
      "text/html": [
       "<div>\n",
       "<table border=\"1\" class=\"dataframe\">\n",
       "  <thead>\n",
       "    <tr style=\"text-align: right;\">\n",
       "      <th></th>\n",
       "      <th>match_id</th>\n",
       "      <th>inning</th>\n",
       "      <th>batting_team</th>\n",
       "      <th>bowling_team</th>\n",
       "      <th>over</th>\n",
       "      <th>ball</th>\n",
       "      <th>batsman</th>\n",
       "      <th>non_striker</th>\n",
       "      <th>bowler</th>\n",
       "      <th>is_super_over</th>\n",
       "      <th>...</th>\n",
       "      <th>bye_runs</th>\n",
       "      <th>legbye_runs</th>\n",
       "      <th>noball_runs</th>\n",
       "      <th>penalty_runs</th>\n",
       "      <th>batsman_runs</th>\n",
       "      <th>extra_runs</th>\n",
       "      <th>total_runs</th>\n",
       "      <th>player_dismissed</th>\n",
       "      <th>dismissal_kind</th>\n",
       "      <th>fielder</th>\n",
       "    </tr>\n",
       "  </thead>\n",
       "  <tbody>\n",
       "    <tr>\n",
       "      <th>0</th>\n",
       "      <td>1</td>\n",
       "      <td>1</td>\n",
       "      <td>Kolkata Knight Riders</td>\n",
       "      <td>Royal Challengers Bangalore</td>\n",
       "      <td>1</td>\n",
       "      <td>1</td>\n",
       "      <td>SC Ganguly</td>\n",
       "      <td>BB McCullum</td>\n",
       "      <td>P Kumar</td>\n",
       "      <td>0</td>\n",
       "      <td>...</td>\n",
       "      <td>0</td>\n",
       "      <td>1</td>\n",
       "      <td>0</td>\n",
       "      <td>0</td>\n",
       "      <td>0</td>\n",
       "      <td>1</td>\n",
       "      <td>1</td>\n",
       "      <td>NaN</td>\n",
       "      <td>NaN</td>\n",
       "      <td>NaN</td>\n",
       "    </tr>\n",
       "    <tr>\n",
       "      <th>1</th>\n",
       "      <td>1</td>\n",
       "      <td>1</td>\n",
       "      <td>Kolkata Knight Riders</td>\n",
       "      <td>Royal Challengers Bangalore</td>\n",
       "      <td>1</td>\n",
       "      <td>2</td>\n",
       "      <td>BB McCullum</td>\n",
       "      <td>SC Ganguly</td>\n",
       "      <td>P Kumar</td>\n",
       "      <td>0</td>\n",
       "      <td>...</td>\n",
       "      <td>0</td>\n",
       "      <td>0</td>\n",
       "      <td>0</td>\n",
       "      <td>0</td>\n",
       "      <td>0</td>\n",
       "      <td>0</td>\n",
       "      <td>0</td>\n",
       "      <td>NaN</td>\n",
       "      <td>NaN</td>\n",
       "      <td>NaN</td>\n",
       "    </tr>\n",
       "    <tr>\n",
       "      <th>2</th>\n",
       "      <td>1</td>\n",
       "      <td>1</td>\n",
       "      <td>Kolkata Knight Riders</td>\n",
       "      <td>Royal Challengers Bangalore</td>\n",
       "      <td>1</td>\n",
       "      <td>3</td>\n",
       "      <td>BB McCullum</td>\n",
       "      <td>SC Ganguly</td>\n",
       "      <td>P Kumar</td>\n",
       "      <td>0</td>\n",
       "      <td>...</td>\n",
       "      <td>0</td>\n",
       "      <td>0</td>\n",
       "      <td>0</td>\n",
       "      <td>0</td>\n",
       "      <td>0</td>\n",
       "      <td>1</td>\n",
       "      <td>1</td>\n",
       "      <td>NaN</td>\n",
       "      <td>NaN</td>\n",
       "      <td>NaN</td>\n",
       "    </tr>\n",
       "    <tr>\n",
       "      <th>3</th>\n",
       "      <td>1</td>\n",
       "      <td>1</td>\n",
       "      <td>Kolkata Knight Riders</td>\n",
       "      <td>Royal Challengers Bangalore</td>\n",
       "      <td>1</td>\n",
       "      <td>4</td>\n",
       "      <td>BB McCullum</td>\n",
       "      <td>SC Ganguly</td>\n",
       "      <td>P Kumar</td>\n",
       "      <td>0</td>\n",
       "      <td>...</td>\n",
       "      <td>0</td>\n",
       "      <td>0</td>\n",
       "      <td>0</td>\n",
       "      <td>0</td>\n",
       "      <td>0</td>\n",
       "      <td>0</td>\n",
       "      <td>0</td>\n",
       "      <td>NaN</td>\n",
       "      <td>NaN</td>\n",
       "      <td>NaN</td>\n",
       "    </tr>\n",
       "    <tr>\n",
       "      <th>4</th>\n",
       "      <td>1</td>\n",
       "      <td>1</td>\n",
       "      <td>Kolkata Knight Riders</td>\n",
       "      <td>Royal Challengers Bangalore</td>\n",
       "      <td>1</td>\n",
       "      <td>5</td>\n",
       "      <td>BB McCullum</td>\n",
       "      <td>SC Ganguly</td>\n",
       "      <td>P Kumar</td>\n",
       "      <td>0</td>\n",
       "      <td>...</td>\n",
       "      <td>0</td>\n",
       "      <td>0</td>\n",
       "      <td>0</td>\n",
       "      <td>0</td>\n",
       "      <td>0</td>\n",
       "      <td>0</td>\n",
       "      <td>0</td>\n",
       "      <td>NaN</td>\n",
       "      <td>NaN</td>\n",
       "      <td>NaN</td>\n",
       "    </tr>\n",
       "    <tr>\n",
       "      <th>5</th>\n",
       "      <td>1</td>\n",
       "      <td>1</td>\n",
       "      <td>Kolkata Knight Riders</td>\n",
       "      <td>Royal Challengers Bangalore</td>\n",
       "      <td>1</td>\n",
       "      <td>6</td>\n",
       "      <td>BB McCullum</td>\n",
       "      <td>SC Ganguly</td>\n",
       "      <td>P Kumar</td>\n",
       "      <td>0</td>\n",
       "      <td>...</td>\n",
       "      <td>0</td>\n",
       "      <td>0</td>\n",
       "      <td>0</td>\n",
       "      <td>0</td>\n",
       "      <td>0</td>\n",
       "      <td>0</td>\n",
       "      <td>0</td>\n",
       "      <td>NaN</td>\n",
       "      <td>NaN</td>\n",
       "      <td>NaN</td>\n",
       "    </tr>\n",
       "    <tr>\n",
       "      <th>6</th>\n",
       "      <td>1</td>\n",
       "      <td>1</td>\n",
       "      <td>Kolkata Knight Riders</td>\n",
       "      <td>Royal Challengers Bangalore</td>\n",
       "      <td>1</td>\n",
       "      <td>7</td>\n",
       "      <td>BB McCullum</td>\n",
       "      <td>SC Ganguly</td>\n",
       "      <td>P Kumar</td>\n",
       "      <td>0</td>\n",
       "      <td>...</td>\n",
       "      <td>0</td>\n",
       "      <td>1</td>\n",
       "      <td>0</td>\n",
       "      <td>0</td>\n",
       "      <td>0</td>\n",
       "      <td>1</td>\n",
       "      <td>1</td>\n",
       "      <td>NaN</td>\n",
       "      <td>NaN</td>\n",
       "      <td>NaN</td>\n",
       "    </tr>\n",
       "    <tr>\n",
       "      <th>7</th>\n",
       "      <td>1</td>\n",
       "      <td>1</td>\n",
       "      <td>Kolkata Knight Riders</td>\n",
       "      <td>Royal Challengers Bangalore</td>\n",
       "      <td>2</td>\n",
       "      <td>1</td>\n",
       "      <td>BB McCullum</td>\n",
       "      <td>SC Ganguly</td>\n",
       "      <td>Z Khan</td>\n",
       "      <td>0</td>\n",
       "      <td>...</td>\n",
       "      <td>0</td>\n",
       "      <td>0</td>\n",
       "      <td>0</td>\n",
       "      <td>0</td>\n",
       "      <td>0</td>\n",
       "      <td>0</td>\n",
       "      <td>0</td>\n",
       "      <td>NaN</td>\n",
       "      <td>NaN</td>\n",
       "      <td>NaN</td>\n",
       "    </tr>\n",
       "    <tr>\n",
       "      <th>8</th>\n",
       "      <td>1</td>\n",
       "      <td>1</td>\n",
       "      <td>Kolkata Knight Riders</td>\n",
       "      <td>Royal Challengers Bangalore</td>\n",
       "      <td>2</td>\n",
       "      <td>2</td>\n",
       "      <td>BB McCullum</td>\n",
       "      <td>SC Ganguly</td>\n",
       "      <td>Z Khan</td>\n",
       "      <td>0</td>\n",
       "      <td>...</td>\n",
       "      <td>0</td>\n",
       "      <td>0</td>\n",
       "      <td>0</td>\n",
       "      <td>0</td>\n",
       "      <td>4</td>\n",
       "      <td>0</td>\n",
       "      <td>4</td>\n",
       "      <td>NaN</td>\n",
       "      <td>NaN</td>\n",
       "      <td>NaN</td>\n",
       "    </tr>\n",
       "    <tr>\n",
       "      <th>9</th>\n",
       "      <td>1</td>\n",
       "      <td>1</td>\n",
       "      <td>Kolkata Knight Riders</td>\n",
       "      <td>Royal Challengers Bangalore</td>\n",
       "      <td>2</td>\n",
       "      <td>3</td>\n",
       "      <td>BB McCullum</td>\n",
       "      <td>SC Ganguly</td>\n",
       "      <td>Z Khan</td>\n",
       "      <td>0</td>\n",
       "      <td>...</td>\n",
       "      <td>0</td>\n",
       "      <td>0</td>\n",
       "      <td>0</td>\n",
       "      <td>0</td>\n",
       "      <td>4</td>\n",
       "      <td>0</td>\n",
       "      <td>4</td>\n",
       "      <td>NaN</td>\n",
       "      <td>NaN</td>\n",
       "      <td>NaN</td>\n",
       "    </tr>\n",
       "    <tr>\n",
       "      <th>10</th>\n",
       "      <td>1</td>\n",
       "      <td>1</td>\n",
       "      <td>Kolkata Knight Riders</td>\n",
       "      <td>Royal Challengers Bangalore</td>\n",
       "      <td>2</td>\n",
       "      <td>4</td>\n",
       "      <td>BB McCullum</td>\n",
       "      <td>SC Ganguly</td>\n",
       "      <td>Z Khan</td>\n",
       "      <td>0</td>\n",
       "      <td>...</td>\n",
       "      <td>0</td>\n",
       "      <td>0</td>\n",
       "      <td>0</td>\n",
       "      <td>0</td>\n",
       "      <td>6</td>\n",
       "      <td>0</td>\n",
       "      <td>6</td>\n",
       "      <td>NaN</td>\n",
       "      <td>NaN</td>\n",
       "      <td>NaN</td>\n",
       "    </tr>\n",
       "    <tr>\n",
       "      <th>11</th>\n",
       "      <td>1</td>\n",
       "      <td>1</td>\n",
       "      <td>Kolkata Knight Riders</td>\n",
       "      <td>Royal Challengers Bangalore</td>\n",
       "      <td>2</td>\n",
       "      <td>5</td>\n",
       "      <td>BB McCullum</td>\n",
       "      <td>SC Ganguly</td>\n",
       "      <td>Z Khan</td>\n",
       "      <td>0</td>\n",
       "      <td>...</td>\n",
       "      <td>0</td>\n",
       "      <td>0</td>\n",
       "      <td>0</td>\n",
       "      <td>0</td>\n",
       "      <td>4</td>\n",
       "      <td>0</td>\n",
       "      <td>4</td>\n",
       "      <td>NaN</td>\n",
       "      <td>NaN</td>\n",
       "      <td>NaN</td>\n",
       "    </tr>\n",
       "    <tr>\n",
       "      <th>12</th>\n",
       "      <td>1</td>\n",
       "      <td>1</td>\n",
       "      <td>Kolkata Knight Riders</td>\n",
       "      <td>Royal Challengers Bangalore</td>\n",
       "      <td>2</td>\n",
       "      <td>6</td>\n",
       "      <td>BB McCullum</td>\n",
       "      <td>SC Ganguly</td>\n",
       "      <td>Z Khan</td>\n",
       "      <td>0</td>\n",
       "      <td>...</td>\n",
       "      <td>0</td>\n",
       "      <td>0</td>\n",
       "      <td>0</td>\n",
       "      <td>0</td>\n",
       "      <td>0</td>\n",
       "      <td>0</td>\n",
       "      <td>0</td>\n",
       "      <td>NaN</td>\n",
       "      <td>NaN</td>\n",
       "      <td>NaN</td>\n",
       "    </tr>\n",
       "    <tr>\n",
       "      <th>13</th>\n",
       "      <td>1</td>\n",
       "      <td>1</td>\n",
       "      <td>Kolkata Knight Riders</td>\n",
       "      <td>Royal Challengers Bangalore</td>\n",
       "      <td>3</td>\n",
       "      <td>1</td>\n",
       "      <td>SC Ganguly</td>\n",
       "      <td>BB McCullum</td>\n",
       "      <td>P Kumar</td>\n",
       "      <td>0</td>\n",
       "      <td>...</td>\n",
       "      <td>0</td>\n",
       "      <td>0</td>\n",
       "      <td>0</td>\n",
       "      <td>0</td>\n",
       "      <td>0</td>\n",
       "      <td>0</td>\n",
       "      <td>0</td>\n",
       "      <td>NaN</td>\n",
       "      <td>NaN</td>\n",
       "      <td>NaN</td>\n",
       "    </tr>\n",
       "    <tr>\n",
       "      <th>14</th>\n",
       "      <td>1</td>\n",
       "      <td>1</td>\n",
       "      <td>Kolkata Knight Riders</td>\n",
       "      <td>Royal Challengers Bangalore</td>\n",
       "      <td>3</td>\n",
       "      <td>2</td>\n",
       "      <td>SC Ganguly</td>\n",
       "      <td>BB McCullum</td>\n",
       "      <td>P Kumar</td>\n",
       "      <td>0</td>\n",
       "      <td>...</td>\n",
       "      <td>0</td>\n",
       "      <td>0</td>\n",
       "      <td>0</td>\n",
       "      <td>0</td>\n",
       "      <td>0</td>\n",
       "      <td>0</td>\n",
       "      <td>0</td>\n",
       "      <td>NaN</td>\n",
       "      <td>NaN</td>\n",
       "      <td>NaN</td>\n",
       "    </tr>\n",
       "    <tr>\n",
       "      <th>15</th>\n",
       "      <td>1</td>\n",
       "      <td>1</td>\n",
       "      <td>Kolkata Knight Riders</td>\n",
       "      <td>Royal Challengers Bangalore</td>\n",
       "      <td>3</td>\n",
       "      <td>3</td>\n",
       "      <td>SC Ganguly</td>\n",
       "      <td>BB McCullum</td>\n",
       "      <td>P Kumar</td>\n",
       "      <td>0</td>\n",
       "      <td>...</td>\n",
       "      <td>0</td>\n",
       "      <td>1</td>\n",
       "      <td>0</td>\n",
       "      <td>0</td>\n",
       "      <td>0</td>\n",
       "      <td>1</td>\n",
       "      <td>1</td>\n",
       "      <td>NaN</td>\n",
       "      <td>NaN</td>\n",
       "      <td>NaN</td>\n",
       "    </tr>\n",
       "    <tr>\n",
       "      <th>16</th>\n",
       "      <td>1</td>\n",
       "      <td>1</td>\n",
       "      <td>Kolkata Knight Riders</td>\n",
       "      <td>Royal Challengers Bangalore</td>\n",
       "      <td>3</td>\n",
       "      <td>4</td>\n",
       "      <td>BB McCullum</td>\n",
       "      <td>SC Ganguly</td>\n",
       "      <td>P Kumar</td>\n",
       "      <td>0</td>\n",
       "      <td>...</td>\n",
       "      <td>0</td>\n",
       "      <td>0</td>\n",
       "      <td>0</td>\n",
       "      <td>0</td>\n",
       "      <td>4</td>\n",
       "      <td>0</td>\n",
       "      <td>4</td>\n",
       "      <td>NaN</td>\n",
       "      <td>NaN</td>\n",
       "      <td>NaN</td>\n",
       "    </tr>\n",
       "    <tr>\n",
       "      <th>17</th>\n",
       "      <td>1</td>\n",
       "      <td>1</td>\n",
       "      <td>Kolkata Knight Riders</td>\n",
       "      <td>Royal Challengers Bangalore</td>\n",
       "      <td>3</td>\n",
       "      <td>5</td>\n",
       "      <td>BB McCullum</td>\n",
       "      <td>SC Ganguly</td>\n",
       "      <td>P Kumar</td>\n",
       "      <td>0</td>\n",
       "      <td>...</td>\n",
       "      <td>0</td>\n",
       "      <td>0</td>\n",
       "      <td>0</td>\n",
       "      <td>0</td>\n",
       "      <td>1</td>\n",
       "      <td>0</td>\n",
       "      <td>1</td>\n",
       "      <td>NaN</td>\n",
       "      <td>NaN</td>\n",
       "      <td>NaN</td>\n",
       "    </tr>\n",
       "    <tr>\n",
       "      <th>18</th>\n",
       "      <td>1</td>\n",
       "      <td>1</td>\n",
       "      <td>Kolkata Knight Riders</td>\n",
       "      <td>Royal Challengers Bangalore</td>\n",
       "      <td>3</td>\n",
       "      <td>6</td>\n",
       "      <td>SC Ganguly</td>\n",
       "      <td>BB McCullum</td>\n",
       "      <td>P Kumar</td>\n",
       "      <td>0</td>\n",
       "      <td>...</td>\n",
       "      <td>0</td>\n",
       "      <td>0</td>\n",
       "      <td>0</td>\n",
       "      <td>0</td>\n",
       "      <td>0</td>\n",
       "      <td>0</td>\n",
       "      <td>0</td>\n",
       "      <td>NaN</td>\n",
       "      <td>NaN</td>\n",
       "      <td>NaN</td>\n",
       "    </tr>\n",
       "    <tr>\n",
       "      <th>19</th>\n",
       "      <td>1</td>\n",
       "      <td>1</td>\n",
       "      <td>Kolkata Knight Riders</td>\n",
       "      <td>Royal Challengers Bangalore</td>\n",
       "      <td>4</td>\n",
       "      <td>1</td>\n",
       "      <td>BB McCullum</td>\n",
       "      <td>SC Ganguly</td>\n",
       "      <td>AA Noffke</td>\n",
       "      <td>0</td>\n",
       "      <td>...</td>\n",
       "      <td>0</td>\n",
       "      <td>0</td>\n",
       "      <td>0</td>\n",
       "      <td>0</td>\n",
       "      <td>0</td>\n",
       "      <td>5</td>\n",
       "      <td>5</td>\n",
       "      <td>NaN</td>\n",
       "      <td>NaN</td>\n",
       "      <td>NaN</td>\n",
       "    </tr>\n",
       "  </tbody>\n",
       "</table>\n",
       "<p>20 rows × 21 columns</p>\n",
       "</div>"
      ],
      "text/plain": [
       "    match_id  inning           batting_team                 bowling_team  \\\n",
       "0          1       1  Kolkata Knight Riders  Royal Challengers Bangalore   \n",
       "1          1       1  Kolkata Knight Riders  Royal Challengers Bangalore   \n",
       "2          1       1  Kolkata Knight Riders  Royal Challengers Bangalore   \n",
       "3          1       1  Kolkata Knight Riders  Royal Challengers Bangalore   \n",
       "4          1       1  Kolkata Knight Riders  Royal Challengers Bangalore   \n",
       "5          1       1  Kolkata Knight Riders  Royal Challengers Bangalore   \n",
       "6          1       1  Kolkata Knight Riders  Royal Challengers Bangalore   \n",
       "7          1       1  Kolkata Knight Riders  Royal Challengers Bangalore   \n",
       "8          1       1  Kolkata Knight Riders  Royal Challengers Bangalore   \n",
       "9          1       1  Kolkata Knight Riders  Royal Challengers Bangalore   \n",
       "10         1       1  Kolkata Knight Riders  Royal Challengers Bangalore   \n",
       "11         1       1  Kolkata Knight Riders  Royal Challengers Bangalore   \n",
       "12         1       1  Kolkata Knight Riders  Royal Challengers Bangalore   \n",
       "13         1       1  Kolkata Knight Riders  Royal Challengers Bangalore   \n",
       "14         1       1  Kolkata Knight Riders  Royal Challengers Bangalore   \n",
       "15         1       1  Kolkata Knight Riders  Royal Challengers Bangalore   \n",
       "16         1       1  Kolkata Knight Riders  Royal Challengers Bangalore   \n",
       "17         1       1  Kolkata Knight Riders  Royal Challengers Bangalore   \n",
       "18         1       1  Kolkata Knight Riders  Royal Challengers Bangalore   \n",
       "19         1       1  Kolkata Knight Riders  Royal Challengers Bangalore   \n",
       "\n",
       "    over  ball      batsman  non_striker     bowler  is_super_over   ...    \\\n",
       "0      1     1   SC Ganguly  BB McCullum    P Kumar              0   ...     \n",
       "1      1     2  BB McCullum   SC Ganguly    P Kumar              0   ...     \n",
       "2      1     3  BB McCullum   SC Ganguly    P Kumar              0   ...     \n",
       "3      1     4  BB McCullum   SC Ganguly    P Kumar              0   ...     \n",
       "4      1     5  BB McCullum   SC Ganguly    P Kumar              0   ...     \n",
       "5      1     6  BB McCullum   SC Ganguly    P Kumar              0   ...     \n",
       "6      1     7  BB McCullum   SC Ganguly    P Kumar              0   ...     \n",
       "7      2     1  BB McCullum   SC Ganguly     Z Khan              0   ...     \n",
       "8      2     2  BB McCullum   SC Ganguly     Z Khan              0   ...     \n",
       "9      2     3  BB McCullum   SC Ganguly     Z Khan              0   ...     \n",
       "10     2     4  BB McCullum   SC Ganguly     Z Khan              0   ...     \n",
       "11     2     5  BB McCullum   SC Ganguly     Z Khan              0   ...     \n",
       "12     2     6  BB McCullum   SC Ganguly     Z Khan              0   ...     \n",
       "13     3     1   SC Ganguly  BB McCullum    P Kumar              0   ...     \n",
       "14     3     2   SC Ganguly  BB McCullum    P Kumar              0   ...     \n",
       "15     3     3   SC Ganguly  BB McCullum    P Kumar              0   ...     \n",
       "16     3     4  BB McCullum   SC Ganguly    P Kumar              0   ...     \n",
       "17     3     5  BB McCullum   SC Ganguly    P Kumar              0   ...     \n",
       "18     3     6   SC Ganguly  BB McCullum    P Kumar              0   ...     \n",
       "19     4     1  BB McCullum   SC Ganguly  AA Noffke              0   ...     \n",
       "\n",
       "    bye_runs  legbye_runs  noball_runs  penalty_runs  batsman_runs  \\\n",
       "0          0            1            0             0             0   \n",
       "1          0            0            0             0             0   \n",
       "2          0            0            0             0             0   \n",
       "3          0            0            0             0             0   \n",
       "4          0            0            0             0             0   \n",
       "5          0            0            0             0             0   \n",
       "6          0            1            0             0             0   \n",
       "7          0            0            0             0             0   \n",
       "8          0            0            0             0             4   \n",
       "9          0            0            0             0             4   \n",
       "10         0            0            0             0             6   \n",
       "11         0            0            0             0             4   \n",
       "12         0            0            0             0             0   \n",
       "13         0            0            0             0             0   \n",
       "14         0            0            0             0             0   \n",
       "15         0            1            0             0             0   \n",
       "16         0            0            0             0             4   \n",
       "17         0            0            0             0             1   \n",
       "18         0            0            0             0             0   \n",
       "19         0            0            0             0             0   \n",
       "\n",
       "    extra_runs  total_runs  player_dismissed dismissal_kind fielder  \n",
       "0            1           1               NaN            NaN     NaN  \n",
       "1            0           0               NaN            NaN     NaN  \n",
       "2            1           1               NaN            NaN     NaN  \n",
       "3            0           0               NaN            NaN     NaN  \n",
       "4            0           0               NaN            NaN     NaN  \n",
       "5            0           0               NaN            NaN     NaN  \n",
       "6            1           1               NaN            NaN     NaN  \n",
       "7            0           0               NaN            NaN     NaN  \n",
       "8            0           4               NaN            NaN     NaN  \n",
       "9            0           4               NaN            NaN     NaN  \n",
       "10           0           6               NaN            NaN     NaN  \n",
       "11           0           4               NaN            NaN     NaN  \n",
       "12           0           0               NaN            NaN     NaN  \n",
       "13           0           0               NaN            NaN     NaN  \n",
       "14           0           0               NaN            NaN     NaN  \n",
       "15           1           1               NaN            NaN     NaN  \n",
       "16           0           4               NaN            NaN     NaN  \n",
       "17           0           1               NaN            NaN     NaN  \n",
       "18           0           0               NaN            NaN     NaN  \n",
       "19           5           5               NaN            NaN     NaN  \n",
       "\n",
       "[20 rows x 21 columns]"
      ]
     },
     "execution_count": 4,
     "metadata": {},
     "output_type": "execute_result"
    }
   ],
   "source": [
    "deliveries.head(20)"
   ]
  },
  {
   "cell_type": "code",
   "execution_count": 416,
   "metadata": {
    "collapsed": true
   },
   "outputs": [],
   "source": [
    "team_list = matches.team1.unique()\n",
    "batsman_list = list(deliveries.batsman.unique())\n",
    "bowler_list = list(deliveries.bowler.unique())\n",
    "fielder_list = list(deliveries.fielder.unique())"
   ]
  },
  {
   "cell_type": "markdown",
   "metadata": {},
   "source": [
    "# FUNCTIONS"
   ]
  },
  {
   "cell_type": "markdown",
   "metadata": {},
   "source": [
    "### BATSMAN STATS"
   ]
  },
  {
   "cell_type": "markdown",
   "metadata": {},
   "source": [
    "#### 1. Total Runs scored in Match X by team Y"
   ]
  },
  {
   "cell_type": "code",
   "execution_count": 470,
   "metadata": {
    "collapsed": true
   },
   "outputs": [],
   "source": [
    "def total_runs_team_match(team, match_id):\n",
    "    x = deliveries.groupby(['match_id','batting_team'])['total_runs'].sum()\n",
    "    total_runs_match = x[match_id][team]\n",
    "    #return team, total_runs_match, match_id  \n",
    "    d = {'team':team, 'runs':total_runs_match, 'match':match_id}\n",
    "    return d"
   ]
  },
  {
   "cell_type": "code",
   "execution_count": 471,
   "metadata": {},
   "outputs": [
    {
     "data": {
      "text/plain": [
       "{'match': 1, 'runs': 82, 'team': 'Royal Challengers Bangalore'}"
      ]
     },
     "execution_count": 471,
     "metadata": {},
     "output_type": "execute_result"
    }
   ],
   "source": [
    "total_runs_team_match('Royal Challengers Bangalore', 1)"
   ]
  },
  {
   "cell_type": "markdown",
   "metadata": {},
   "source": [
    "#### 2. Runs scored by Batsman B1 in Match X"
   ]
  },
  {
   "cell_type": "code",
   "execution_count": 232,
   "metadata": {
    "collapsed": true
   },
   "outputs": [],
   "source": [
    "def runs_batsman_match(batsman_name, match_id):\n",
    "    x = deliveries.groupby(['match_id', 'batsman'])['batsman_runs'].sum()\n",
    "    runs = x[match_id][batsman_name]\n",
    "    return batsman_name, runs, match_id"
   ]
  },
  {
   "cell_type": "code",
   "execution_count": 478,
   "metadata": {},
   "outputs": [
    {
     "data": {
      "text/plain": [
       "('SC Ganguly', 10, 1)"
      ]
     },
     "execution_count": 478,
     "metadata": {},
     "output_type": "execute_result"
    }
   ],
   "source": [
    "runs_batsman_match('SC Ganguly', 1)"
   ]
  },
  {
   "cell_type": "markdown",
   "metadata": {},
   "source": [
    "#### 3. Max scorer in match X in Team Y"
   ]
  },
  {
   "cell_type": "code",
   "execution_count": 455,
   "metadata": {
    "collapsed": true
   },
   "outputs": [],
   "source": [
    "def max_score_batsman_match_inTeam(match_id, team):\n",
    "    x = deliveries.groupby(['match_id','batting_team', 'batsman'])['batsman_runs'].sum()\n",
    "    name = x[match_id][team].idxmax()\n",
    "    runs = x[match_id][team].max()\n",
    "    return name, team, runs, match_id  "
   ]
  },
  {
   "cell_type": "code",
   "execution_count": 456,
   "metadata": {},
   "outputs": [
    {
     "data": {
      "text/plain": [
       "('P Kumar', 'Royal Challengers Bangalore', 18, 1)"
      ]
     },
     "execution_count": 456,
     "metadata": {},
     "output_type": "execute_result"
    }
   ],
   "source": [
    "max_score_batsman_match_inTeam(1, 'Royal Challengers Bangalore')"
   ]
  },
  {
   "cell_type": "markdown",
   "metadata": {},
   "source": [
    "#### 4. Max scorer in match X"
   ]
  },
  {
   "cell_type": "code",
   "execution_count": 461,
   "metadata": {
    "collapsed": true
   },
   "outputs": [],
   "source": [
    "def max_score_batsman_match(match_id):\n",
    "    x = deliveries.groupby(['match_id', 'batsman'])['batsman_runs'].sum()\n",
    "    name = x[match_id].idxmax()\n",
    "    runs = x[match_id].max()\n",
    "    return name, runs, match_id  "
   ]
  },
  {
   "cell_type": "code",
   "execution_count": 462,
   "metadata": {},
   "outputs": [
    {
     "data": {
      "text/plain": [
       "('RV Uthappa', 48, 4)"
      ]
     },
     "execution_count": 462,
     "metadata": {},
     "output_type": "execute_result"
    }
   ],
   "source": [
    "max_score_batsman_match(4)"
   ]
  },
  {
   "cell_type": "markdown",
   "metadata": {},
   "source": [
    "#### Lowest Scorer in Match X"
   ]
  },
  {
   "cell_type": "code",
   "execution_count": 13,
   "metadata": {
    "collapsed": true
   },
   "outputs": [],
   "source": [
    "def min_score_batsman_match(match_id):\n",
    "    x = deliveries.groupby(['match_id', 'batsman'])['batsman_runs'].sum()\n",
    "    name = x[match_id].idxmin()\n",
    "    runs = x[match_id].min()\n",
    "    return [name, runs]  \n"
   ]
  },
  {
   "cell_type": "code",
   "execution_count": 14,
   "metadata": {},
   "outputs": [
    {
     "data": {
      "text/plain": [
       "['B Akhil', 0]"
      ]
     },
     "execution_count": 14,
     "metadata": {},
     "output_type": "execute_result"
    }
   ],
   "source": [
    "min_score_batsman_match(1)"
   ]
  },
  {
   "cell_type": "markdown",
   "metadata": {},
   "source": [
    "#### Min scorer in match X in Team Y"
   ]
  },
  {
   "cell_type": "code",
   "execution_count": 15,
   "metadata": {
    "collapsed": true
   },
   "outputs": [],
   "source": [
    "def min_score_batsman_match_inTeam(match_id, team):\n",
    "    x = deliveries.groupby(['match_id','batting_team', 'batsman'])['batsman_runs'].sum()\n",
    "    name = x[match_id][team].idxmin()\n",
    "    runs = x[match_id][team].min()\n",
    "    return [name, runs]  "
   ]
  },
  {
   "cell_type": "code",
   "execution_count": 16,
   "metadata": {},
   "outputs": [
    {
     "data": {
      "text/plain": [
       "['Mohammad Hafeez', 5]"
      ]
     },
     "execution_count": 16,
     "metadata": {},
     "output_type": "execute_result"
    }
   ],
   "source": [
    "min_score_batsman_match_inTeam(1, 'Kolkata Knight Riders')"
   ]
  },
  {
   "cell_type": "markdown",
   "metadata": {},
   "source": [
    "#### Number of Balls played by Batsman B1 in match Y"
   ]
  },
  {
   "cell_type": "code",
   "execution_count": 17,
   "metadata": {
    "collapsed": true
   },
   "outputs": [],
   "source": [
    "def balls_faced_batsman_match(batsman, match_id):\n",
    "    x = deliveries[(deliveries['batsman'] == batsman) & (deliveries['match_id'] == match_id) & (deliveries['wide_runs'] == 0)]\n",
    "    return x.shape[0]"
   ]
  },
  {
   "cell_type": "code",
   "execution_count": 18,
   "metadata": {},
   "outputs": [
    {
     "data": {
      "text/plain": [
       "12"
      ]
     },
     "execution_count": 18,
     "metadata": {},
     "output_type": "execute_result"
    }
   ],
   "source": [
    "balls_faced_batsman_match('SC Ganguly', 1)"
   ]
  },
  {
   "cell_type": "markdown",
   "metadata": {},
   "source": [
    "#### Strike Rate of Batsman B1 in Match X"
   ]
  },
  {
   "cell_type": "code",
   "execution_count": 19,
   "metadata": {
    "collapsed": true
   },
   "outputs": [],
   "source": [
    "def strikeRate_batsman_match(batsman, match_id):\n",
    "    runs = runs_batsman_match(batsman, match_id)\n",
    "    balls = balls_faced_batsman_match(batsman, match_id)\n",
    "    \n",
    "    strike_rate = runs/balls * 100\n",
    "    return strike_rate"
   ]
  },
  {
   "cell_type": "code",
   "execution_count": 20,
   "metadata": {},
   "outputs": [
    {
     "data": {
      "text/plain": [
       "216.43835616438358"
      ]
     },
     "execution_count": 20,
     "metadata": {},
     "output_type": "execute_result"
    }
   ],
   "source": [
    "strikeRate_batsman_match('BB McCullum', 1)"
   ]
  },
  {
   "cell_type": "markdown",
   "metadata": {},
   "source": [
    "#### Total Number of Dot Balls played by Batsman B1 in Match X"
   ]
  },
  {
   "cell_type": "code",
   "execution_count": 21,
   "metadata": {
    "collapsed": true
   },
   "outputs": [],
   "source": [
    "def dot_balls_batsman_match(batsman, match_id):\n",
    "    x = deliveries[(deliveries['batsman'] == batsman) & (deliveries['match_id'] == match_id) & (deliveries['total_runs'] == 0)]\n",
    "    dot_balls = x.shape[0]\n",
    "    return dot_balls"
   ]
  },
  {
   "cell_type": "code",
   "execution_count": 22,
   "metadata": {},
   "outputs": [
    {
     "data": {
      "text/plain": [
       "6"
      ]
     },
     "execution_count": 22,
     "metadata": {},
     "output_type": "execute_result"
    }
   ],
   "source": [
    "dot_balls_batsman_match('SC Ganguly', 1)"
   ]
  },
  {
   "cell_type": "markdown",
   "metadata": {},
   "source": [
    "#### Total Number of 4's played by Batsman B1 in Match X"
   ]
  },
  {
   "cell_type": "code",
   "execution_count": 23,
   "metadata": {
    "collapsed": true
   },
   "outputs": [],
   "source": [
    "def b_4_batsman_match(batsman, match_id):\n",
    "    x = deliveries[(deliveries['batsman'] == batsman) & (deliveries['match_id'] == match_id) & (deliveries['total_runs'] == 4)]\n",
    "    b_4 = x.shape[0]\n",
    "    return b_4"
   ]
  },
  {
   "cell_type": "code",
   "execution_count": 24,
   "metadata": {},
   "outputs": [
    {
     "data": {
      "text/plain": [
       "2"
      ]
     },
     "execution_count": 24,
     "metadata": {},
     "output_type": "execute_result"
    }
   ],
   "source": [
    "b_4_batsman_match('SC Ganguly', 1)"
   ]
  },
  {
   "cell_type": "markdown",
   "metadata": {},
   "source": [
    "#### Total Number of 6's played by Batsman B1 in Match X"
   ]
  },
  {
   "cell_type": "code",
   "execution_count": 25,
   "metadata": {
    "collapsed": true
   },
   "outputs": [],
   "source": [
    "def b_6_batsman_match(batsman, match_id):\n",
    "    x = deliveries[(deliveries['batsman'] == batsman) & (deliveries['match_id'] == match_id) & (deliveries['total_runs'] == 6)]\n",
    "    b_6 = x.shape[0]\n",
    "    return b_6"
   ]
  },
  {
   "cell_type": "code",
   "execution_count": 26,
   "metadata": {},
   "outputs": [
    {
     "data": {
      "text/plain": [
       "0"
      ]
     },
     "execution_count": 26,
     "metadata": {},
     "output_type": "execute_result"
    }
   ],
   "source": [
    "b_6_batsman_match('SC Ganguly', 1)"
   ]
  },
  {
   "cell_type": "markdown",
   "metadata": {},
   "source": [
    "#### i^th Highest Scorer"
   ]
  },
  {
   "cell_type": "code",
   "execution_count": 27,
   "metadata": {
    "collapsed": true
   },
   "outputs": [],
   "source": [
    "def highest_scorer(i):\n",
    "    #player_runs = deliveries.groupby('batsman')['batsman_runs'].sum().sort_values(ascending =False)\n",
    "    player_name = deliveries.groupby('batsman')['batsman_runs'].sum().sort_values(ascending =False).iloc[i:i+1]\n",
    "    return  player_name"
   ]
  },
  {
   "cell_type": "code",
   "execution_count": 28,
   "metadata": {},
   "outputs": [
    {
     "data": {
      "text/plain": [
       "batsman\n",
       "ST Jayasuriya    514\n",
       "Name: batsman_runs, dtype: int64"
      ]
     },
     "execution_count": 28,
     "metadata": {},
     "output_type": "execute_result"
    }
   ],
   "source": [
    "highest_scorer(2)"
   ]
  },
  {
   "cell_type": "markdown",
   "metadata": {},
   "source": [
    "#### Total Number of fours in Match X by team Y"
   ]
  },
  {
   "cell_type": "code",
   "execution_count": 29,
   "metadata": {
    "collapsed": true
   },
   "outputs": [],
   "source": [
    "def team_fours(match_id, batting_team):\n",
    "    team_fours = deliveries[deliveries.batsman_runs == 4]\n",
    "    team_fours_count = team_fours.groupby(['match_id','batting_team']).count()['inning']\n",
    "    return team_fours_count[match_id][batting_team]"
   ]
  },
  {
   "cell_type": "code",
   "execution_count": 30,
   "metadata": {},
   "outputs": [
    {
     "data": {
      "text/plain": [
       "15"
      ]
     },
     "execution_count": 30,
     "metadata": {},
     "output_type": "execute_result"
    }
   ],
   "source": [
    "team_fours(1,'Kolkata Knight Riders')"
   ]
  },
  {
   "cell_type": "markdown",
   "metadata": {},
   "source": [
    "#### Total Number of sixes in Match X by team Y"
   ]
  },
  {
   "cell_type": "code",
   "execution_count": 31,
   "metadata": {
    "collapsed": true
   },
   "outputs": [],
   "source": [
    "def team_sixes(match_id, batting_team):\n",
    "    team_sixes = deliveries[deliveries.batsman_runs == 6]\n",
    "    team_sixes_count = team_sixes.groupby(['match_id','batting_team']).count()['inning']\n",
    "    return team_sixes_count[match_id][batting_team]"
   ]
  },
  {
   "cell_type": "code",
   "execution_count": 32,
   "metadata": {},
   "outputs": [
    {
     "data": {
      "text/plain": [
       "14"
      ]
     },
     "execution_count": 32,
     "metadata": {},
     "output_type": "execute_result"
    }
   ],
   "source": [
    "team_sixes(1,'Kolkata Knight Riders')"
   ]
  },
  {
   "cell_type": "markdown",
   "metadata": {},
   "source": [
    "### RUNS - ALL MATCH STATS"
   ]
  },
  {
   "cell_type": "markdown",
   "metadata": {},
   "source": [
    "#### Total Runs scored in Entire IPL by Batsman B1"
   ]
  },
  {
   "cell_type": "code",
   "execution_count": 33,
   "metadata": {
    "collapsed": true
   },
   "outputs": [],
   "source": [
    "def total_runs_batsman_IPL(batsman):\n",
    "    x = deliveries.groupby(['batsman'])['batsman_runs'].sum()\n",
    "    runs_batsman = x[batsman]\n",
    "    return runs_batsman"
   ]
  },
  {
   "cell_type": "code",
   "execution_count": 34,
   "metadata": {},
   "outputs": [
    {
     "data": {
      "text/plain": [
       "188"
      ]
     },
     "execution_count": 34,
     "metadata": {},
     "output_type": "execute_result"
    }
   ],
   "source": [
    "total_runs_batsman_IPL('BB McCullum')"
   ]
  },
  {
   "cell_type": "markdown",
   "metadata": {},
   "source": [
    "#### Total Runs scored in Entire IPL season 01 by team X"
   ]
  },
  {
   "cell_type": "code",
   "execution_count": 35,
   "metadata": {
    "collapsed": true
   },
   "outputs": [],
   "source": [
    "def total_runs_team_IPL(team):\n",
    "    x = deliveries.groupby(['batting_team'])['total_runs'].sum()\n",
    "    total_runs_IPL = x[team]\n",
    "    return total_runs_IPL"
   ]
  },
  {
   "cell_type": "code",
   "execution_count": 36,
   "metadata": {},
   "outputs": [
    {
     "data": {
      "text/plain": [
       "2520"
      ]
     },
     "execution_count": 36,
     "metadata": {},
     "output_type": "execute_result"
    }
   ],
   "source": [
    "total_runs_team_IPL('Chennai Super Kings')"
   ]
  },
  {
   "cell_type": "markdown",
   "metadata": {},
   "source": [
    "#### Orange CAP"
   ]
  },
  {
   "cell_type": "code",
   "execution_count": 37,
   "metadata": {
    "collapsed": true
   },
   "outputs": [],
   "source": [
    "def orange_cap():\n",
    "    x = deliveries.groupby(['batsman'])['batsman_runs'].sum()\n",
    "    max_scorer = [x.idxmax(), x.max()]\n",
    "    return max_scorer"
   ]
  },
  {
   "cell_type": "code",
   "execution_count": 38,
   "metadata": {},
   "outputs": [
    {
     "name": "stdout",
     "output_type": "stream",
     "text": [
      "SE Marsh --> 616\n"
     ]
    }
   ],
   "source": [
    "orange_cap_name = orange_cap()[0]\n",
    "orange_cap_total_runs = orange_cap()[1]\n",
    "\n",
    "print(orange_cap_name, \"-->\", orange_cap_total_runs)"
   ]
  },
  {
   "cell_type": "markdown",
   "metadata": {},
   "source": [
    "#### Highest Runs scored in an innings by a Batsman"
   ]
  },
  {
   "cell_type": "code",
   "execution_count": 39,
   "metadata": {
    "collapsed": true
   },
   "outputs": [],
   "source": [
    "def highest_runs_batsman_innings():\n",
    "    x = deliveries.groupby(['match_id', 'batsman'])['batsman_runs'].sum().sort_values(ascending=False)\n",
    "    batsman_and_match = [ x.idxmax(), x.max()]\n",
    "    \n",
    "    return batsman_and_match"
   ]
  },
  {
   "cell_type": "code",
   "execution_count": 40,
   "metadata": {
    "scrolled": true
   },
   "outputs": [
    {
     "name": "stdout",
     "output_type": "stream",
     "text": [
      "BB McCullum  IN MATCH =  1  ---> 158\n"
     ]
    }
   ],
   "source": [
    "highest_runs_batsman_innings_NAME = highest_runs_batsman_innings()[0][1]\n",
    "highest_runs_batsman_innings_MATCH = highest_runs_batsman_innings()[0][0]\n",
    "highest_runs_batsman_innings_RUNS = highest_runs_batsman_innings()[1]\n",
    "\n",
    "print(highest_runs_batsman_innings_NAME, \" IN MATCH = \", highest_runs_batsman_innings_MATCH, \" --->\", highest_runs_batsman_innings_RUNS)"
   ]
  },
  {
   "cell_type": "markdown",
   "metadata": {},
   "source": [
    "#### Highest Strike Rate of Batsman Overall"
   ]
  },
  {
   "cell_type": "code",
   "execution_count": 41,
   "metadata": {
    "collapsed": true
   },
   "outputs": [],
   "source": [
    "def total_runs_scored_IPL():\n",
    "    runs_count = deliveries.groupby('batsman')['batsman_runs'].sum()\n",
    "    return runs_count\n",
    "\n",
    "def total_ball_faced_IPL():\n",
    "    balls = deliveries[(deliveries.wide_runs == 0)].groupby('batsman')['inning']\n",
    "    balls_count = balls.count()\n",
    "    return balls_count\n",
    "\n",
    "def total_strike_rate_IPL(i):\n",
    "    strike_rate = (total_runs_scored_IPL()/total_ball_faced_IPL())*100\n",
    "    return strike_rate.sort_values(ascending = False).iloc[i:i+1]"
   ]
  },
  {
   "cell_type": "code",
   "execution_count": 42,
   "metadata": {},
   "outputs": [
    {
     "data": {
      "text/plain": [
       "batsman\n",
       "Umar Gul    205.263158\n",
       "dtype: float64"
      ]
     },
     "execution_count": 42,
     "metadata": {},
     "output_type": "execute_result"
    }
   ],
   "source": [
    "total_strike_rate_IPL(0)"
   ]
  },
  {
   "cell_type": "markdown",
   "metadata": {},
   "source": [
    "#### Most ball played by a player in IPL"
   ]
  },
  {
   "cell_type": "code",
   "execution_count": 43,
   "metadata": {},
   "outputs": [
    {
     "data": {
      "text/plain": [
       "batsman\n",
       "SE Marsh    441\n",
       "Name: inning, dtype: int64"
      ]
     },
     "execution_count": 43,
     "metadata": {},
     "output_type": "execute_result"
    }
   ],
   "source": [
    "total_ball_faced_IPL().sort_values(ascending = False).iloc[0:1]"
   ]
  },
  {
   "cell_type": "markdown",
   "metadata": {},
   "source": [
    "#### Total 4's by player X in IPL"
   ]
  },
  {
   "cell_type": "code",
   "execution_count": 44,
   "metadata": {
    "collapsed": true
   },
   "outputs": [],
   "source": [
    "def overall_fours_count(batsman):\n",
    "    fours = deliveries[deliveries.batsman_runs == 4]\n",
    "    fours_count = fours.groupby('batsman').count()['inning']\n",
    "    return fours_count[batsman]"
   ]
  },
  {
   "cell_type": "code",
   "execution_count": 45,
   "metadata": {},
   "outputs": [
    {
     "data": {
      "text/plain": [
       "13"
      ]
     },
     "execution_count": 45,
     "metadata": {},
     "output_type": "execute_result"
    }
   ],
   "source": [
    "overall_fours_count('BB McCullum')"
   ]
  },
  {
   "cell_type": "markdown",
   "metadata": {},
   "source": [
    "#### Total 6's by player X in IPL"
   ]
  },
  {
   "cell_type": "code",
   "execution_count": 46,
   "metadata": {
    "collapsed": true
   },
   "outputs": [],
   "source": [
    "def overall_sixes_count(batsman):\n",
    "    sixes = deliveries[deliveries.batsman_runs == 6]\n",
    "    sixes_count = sixes.groupby('batsman').count()['inning']\n",
    "    return sixes_count[batsman]"
   ]
  },
  {
   "cell_type": "code",
   "execution_count": 47,
   "metadata": {},
   "outputs": [
    {
     "data": {
      "text/plain": [
       "15"
      ]
     },
     "execution_count": 47,
     "metadata": {},
     "output_type": "execute_result"
    }
   ],
   "source": [
    "overall_sixes_count('BB McCullum')"
   ]
  },
  {
   "cell_type": "markdown",
   "metadata": {},
   "source": [
    "#### Maximum 4's by a batsman in IPL"
   ]
  },
  {
   "cell_type": "code",
   "execution_count": 48,
   "metadata": {
    "collapsed": true
   },
   "outputs": [],
   "source": [
    "def most_fours_count(i):\n",
    "    fours = deliveries[deliveries.batsman_runs == 4]\n",
    "    fours_count = fours.groupby('batsman').count()['inning']\n",
    "    return fours_count.sort_values(ascending = False).iloc[i:i+1]"
   ]
  },
  {
   "cell_type": "code",
   "execution_count": 49,
   "metadata": {},
   "outputs": [
    {
     "name": "stdout",
     "output_type": "stream",
     "text": [
      "G Gambhir 68\n"
     ]
    }
   ],
   "source": [
    "for index_val, series_val in most_fours_count(0).iteritems():\n",
    "        print(index_val, series_val)"
   ]
  },
  {
   "cell_type": "markdown",
   "metadata": {},
   "source": [
    "#### Maximum 6's by a batsman in IPL"
   ]
  },
  {
   "cell_type": "code",
   "execution_count": 50,
   "metadata": {
    "collapsed": true
   },
   "outputs": [],
   "source": [
    "def most_sixes_count():\n",
    "    sixes = deliveries[deliveries.batsman_runs == 6]\n",
    "    sixes_count = sixes.groupby('batsman').count()['inning'].sort_values(ascending = False).iloc[0:1]\n",
    "    return sixes_count"
   ]
  },
  {
   "cell_type": "code",
   "execution_count": 51,
   "metadata": {},
   "outputs": [
    {
     "name": "stdout",
     "output_type": "stream",
     "text": [
      "ST Jayasuriya 31\n"
     ]
    }
   ],
   "source": [
    "for index_val, series_val in most_sixes_count().iteritems():\n",
    "        print(index_val, series_val)"
   ]
  },
  {
   "cell_type": "markdown",
   "metadata": {},
   "source": [
    "## CLASSIFICATION"
   ]
  },
  {
   "cell_type": "markdown",
   "metadata": {},
   "source": [
    "##### Train sentences"
   ]
  },
  {
   "cell_type": "code",
   "execution_count": 393,
   "metadata": {},
   "outputs": [],
   "source": [
    "train_sentences = [ \n",
    "                    \n",
    "                    # B = Batsman;  R = Runs;  M = Match;  T = Team;\n",
    "    \n",
    "    \n",
    "                    \n",
    "                    # F1 - Question: (Runs R1 scored by Team T1 in Match M1, 'Classifier = runs': T,R,M)\n",
    "    \n",
    "                    ('How much did RCB Score in Match 1?','runs'),\n",
    "                    ('RCB Score in match 1?','runs'),\n",
    "                    ('RCB runs in match 1','runs'),\n",
    "                    ('total score of DD in 3rd match','runs'),\n",
    "                    ('totals runs of Deccan in 8th match','runs'),\n",
    "                    ('final score of DD in 3rd match','runs'),\n",
    "                    \n",
    "    \n",
    "                    # F2 - Question: (Runs R1 scored by Batsman B1 in Match M1, 'Classifier = runs': B,R,M)\n",
    "                    \n",
    "                    ('Total runs scored by SC Ganguly in match 5?' ,'runs'),\n",
    "                    ('SC Ganguly score in match 1?','runs'),\n",
    "                    ('how many runs did Ganguly score in match 2?','runs'),\n",
    "                    (\"Sachin's score in 4th match?\", 'runs'),\n",
    "                    ('McCullum scored how much in match 3?','runs'),\n",
    "                    (\"Dravid's runs in match 2?\",'runs'),\n",
    "                    (\"Dravid's score in match 5?\",'runs'),\n",
    "    \n",
    "                       \n",
    "                    # F3 - Question: (Maximum Runs R1 scored by Batsman B1 in Match M1, 'Classifier = max_runs': R,M)\n",
    "                    \n",
    "                    ('Rahul maximum score in match 3','max_runs'),\n",
    "                    (\"who was the leading run scorer in match 9\", 'max_runs'),\n",
    "                    ('highest score by a batsman in match 3','max_runs'),\n",
    "                    ('maximum scorer of match 2','max_runs'),\n",
    "                    (\"who was the top scorer in match 6\", 'max_runs'),                   \n",
    "                    (\"who was the leading run scorer in match 9\", 'max_runs'),\n",
    "                    ('highest score in match 3','max_runs'),\n",
    "                    (\"who scored maximum runs in match 6\", 'max_runs'),\n",
    "                    \n",
    "    \n",
    "    \n",
    "                    \n",
    "                    # Question: (Maximum Runs R1 scored by Batsman B1/Match M1, 'Classifier = max_runs')\n",
    "    \n",
    "                    (\"who scored the maximum run match 3 by DD\",'max_runs'),\n",
    "                    (\"top scorer for DD in match 3\",'max_runs'),\n",
    "                    (\"top score in DD match 4?\",'max_runs'),\n",
    "                    (\"highest scorer for DD in match 4\",'max_runs'),\n",
    "\n",
    "    \n",
    "                    (\"who scored the maximum run match 3 by DD\",'max_runs'),\n",
    "                    (\"top scorer for DD in match 3\",'max_runs'),\n",
    "                   \n",
    "                    # Question: (Minimum Runs scored by Batsman B1/Match M1, 'Classifier = min_runs')\n",
    "    \n",
    "                    ('minimum score in match 3', 'min_runs'),\n",
    "                    ('lowest score in match 3','min_runs'),\n",
    "                    ('minimum scorer of match 2','min_runs'),\n",
    "                    (\"who scored the minimum run match 3 by DD\",'min_runs'),\n",
    "                    (\"least scorer for DD in match 3\",'min_runs'),\n",
    "                    (\"lowest score in DD match 4?\",'min_runs'),\n",
    "                    (\"low scorer for DD in match 4\",'min_runs'),\n",
    "                    ('minimum score in match 3', 'min_runs'),\n",
    "                    ('lowest score in match 3','min_runs'),\n",
    "                    ('minimumscorer of match 2','min_runs'),\n",
    "                    ('who scored less runs in match 3?','min_runs'),\n",
    "                    ('who was the least run scorer in match 3?','min_runs'),\n",
    "                    (\"who scored the minimum run match 3 by DD\",'min_runs'),\n",
    "                    (\"least scorer for DD in match 3\",'min_runs'),\n",
    "                    (\"lowest score in DD match 4?\",'min_runs'),\n",
    "                    (\"low scorer for DD in match 4\",'min_runs'),\n",
    "    \n",
    "                    (\"who scored the minimum run match 3 by DD\",'max_runs'),\n",
    "                    (\"who scored maximum runs in match 6\", 'max_runs'),\n",
    "                   \n",
    "                     # Question: (Total Runs scored by Team T1/Batsman B1/Match M1, 'Classifier = total_runs')\n",
    "    \n",
    "                    (\"total runs scored by sachin?\",'total_runs'),\n",
    "                    (\"aggregate runs by Abhay?\",'total_runs'),\n",
    "                    (\"how many runs has sachin made in ipl1?\",'total_runs'),\n",
    "                    (\"Total runs made by sachin?\",'total_runs'),\n",
    "                    (\"What is the total runs made by RCB?\",'total_runs'),\n",
    "                    (\"what is the runs made by RCB in ipl 9?\",'total_runs'),\n",
    "                    (\"What is the sum total runs made by RCB\",'total_runs'),\n",
    "                    (\"total runs scored by sachin?\",'total_runs'),\n",
    "                    (\"aggregate runs by Abhay?\",'total_runs'),\n",
    "                    (\"how many runs has sachin made in ipl1?\",'total_runs'),\n",
    "                    (\"Total runs made by sachin?\",'total_runs'),\n",
    "                    (\"What is the total runs made by RCB?\",'total_runs'),\n",
    "                    (\"what is the runs made by RCB in ipl 9?\",'total_runs'),\n",
    "                    (\"What is the sum total runs made by RCB\",'total_runs'),\n",
    "                   \n",
    "    \n",
    "                    # Question: (Highest Run(s) scored by Team T1/Batsman B1/Match M1, 'Classifier = highest_scorer')\n",
    "    \n",
    "                    (\"who was 3rd highest scorer in match 3?\",'ith_highest_scorer'),\n",
    "                    (\"who was 3rd top scorer in match 4?\",'ith_highest_scorer'),\n",
    "                    (\"who was 2nd maximum run scorer in match 6?\",'ith_highest_scorer'), \n",
    "                   \n",
    "    \n",
    "                    # Question: (Dot balls faced by Team T1/Batsman B1/Match M1, 'Classifier = dot_balls')\n",
    "    \n",
    "                    (\"rahul faced how many dot balls in match 1\",'dot_balls'),\n",
    "                    (\"rahul faced how many dots in match 1\",'dot_balls'),\n",
    "                   \n",
    "    \n",
    "                    # Question: (4's scored by Team T1/Batsman B1/Match M1, 'Classifier = fours')\n",
    "    \n",
    "                    (\"how many fours did Kohli score in match 2?\",'fours'),\n",
    "                    (\"4s hit by Sachin in match 1?\",'fours'),\n",
    "                    (\"Fours hit by Abhay in match 5?\",'fours'),\n",
    "                    (\"how many boundaries are scored by rcb in match 6\",'fours'),\n",
    "                    (\"how many 4s are scored by rcb in match 3\",'fours'),\n",
    "                    (\"how many fours are scored by rcb in match 6\",'fours'),\n",
    "                    (\"how many boundaries are hit by rcb in match 6\",'fours'),\n",
    "                    (\"how many 4s are hit by rcb in match 6\",'fours'),\n",
    "                    (\"how many fours are hit by rcb in match 6\",'fours'),\n",
    "                    (\"what are total boundaries of rcb in match 6\",'fours'),\n",
    "                    (\"what are total fours of rcb in match 6\",'fours'),\n",
    "                    (\"what are total 4s of rcb in match 5\",'fours'),\n",
    "                    (\"how many fours are hit by kohli in this season?\",'fours'),\n",
    "                    (\"how many 4s are hit by kohli in this season?\",'fours'),\n",
    "                    (\"how many boundaries are hit by kohli in this season?\",'fours'),\n",
    "                    (\"how many fours are scored by kohli in this season?\",'fours'),\n",
    "                    (\"how many 4s are scored by kohli in this season?\",'fours'),\n",
    "                    (\"how many boundaries are hit by kohli in this season?\",'fours'),\n",
    "                    (\"how many boundaries are hit by kohli in this entire ipl?\",'fours'),\n",
    "                    (\"how many 4s are hit by kohli in this entire ipl?\",'fours'),\n",
    "                    (\"how many fours are hit by kohli in this entire ipl?\",'fours'),\n",
    "                    (\"how many boundaries are hit by kohli in this whole ipl?\",'fours'),\n",
    "                    (\"how many 4s are hit by kohli in this whole ipl?\",'fours'),\n",
    "                    (\"how many fours are hit by kohli in this whole ipl?\",'fours'),\n",
    "                    (\"who scored most fours in entire ipl?\",'fours'),\n",
    "                    (\"who hit most fours in entire ipl?\",'fours'),\n",
    "                    (\"who scored most 4s in entire ipl?\",'fours'),\n",
    "                    (\"who hit most 4s in entire ipl?\",'fours'), \n",
    "                    (\"who scored most boundaries in entire ipl?\",'fours'),\n",
    "                    (\"who hit most boundaries in entire ipl?\",'fours'), \n",
    "                    (\"who scored most fours in whole ipl?\",'fours'),\n",
    "                    (\"who hit most fours in whole ipl?\",'fours'),\n",
    "                    (\"who scored most 4s in whole ipl?\",'fours'),\n",
    "                    (\"who hit most 4s in whole ipl?\",'fours'), \n",
    "                    (\"who scored most boundaries in whole ipl?\",'fours'),\n",
    "                    (\"who hit most boundaries in whole ipl?\",'fours'), \n",
    "                    (\"who scored most fours in this season?\",'fours'),\n",
    "                    (\"who hit most fours in this season?\",'fours'),\n",
    "                    (\"who scored most 4s in this season?\",'fours'),\n",
    "                    (\"who hit most 4s in this season?\",'fours'), \n",
    "                    (\"who scored most boundaries in this season?\",'fours'),\n",
    "                    (\"who hit most boundaries in this season?\",'fours'),\n",
    "                   \n",
    "    \n",
    "                    # Question: (6's scored by Team T1/Batsman B1/Match M1, 'Classifier = sixes')\n",
    "    \n",
    "                    (\"how many 6s are scored by rcb in match 6\",'sixes'),\n",
    "                    (\"how many sixes are scored by rcb in match 6\",'sixes'),\n",
    "                    (\"how many 6s are hit by rcb in match 6\",'sixes'),\n",
    "                    (\"how many sixes are hit by rcb in match 6\",'sixes'),\n",
    "                    (\"what are total sixes of rcb in match 6\",'sixes'),\n",
    "                    (\"what are total 6s of rcb in match 5\",'sixes'), \n",
    "                    (\"how many sixes are hit by kohli in this season?\",'sixes'),\n",
    "                    (\"how many 6s are hit by kohli in this season?\",'sixes'),\n",
    "                    (\"how many sixes are scored by kohli in this season?\",'sixes'),\n",
    "                    (\"how many 6s are scored by kohli in this season?\",'sixes'),\n",
    "                    (\"how many 6s are hit by kohli in this entire ipl?\",'sixes'),\n",
    "                    (\"how many sixes are hit by kohli in this entire ipl?\",'sixes'),\n",
    "                    (\"how many 6s are hit by kohli in this whole ipl?\",'sixes'),\n",
    "                    (\"how many sixes are hit by kohli in this whole ipl?\",'sixes'),  \n",
    "                    (\"who scored most sixes in entire ipl?\",'sixes'),\n",
    "                    (\"who hit most sixes in entire ipl?\",'sixes'),\n",
    "                    (\"who scored most 6s in entire ipl?\",'sixes'),\n",
    "                    (\"who hit most 6s in entire ipl?\",'sixes'), \n",
    "                    (\"who scored most sixes in whole ipl?\",'sixes'),\n",
    "                    (\"who hit most sixes in whole ipl?\",'sixes'),\n",
    "                    (\"who scored most 6s in whole ipl?\",'sixes'),\n",
    "                    (\"who hit most 6s in whole ipl?\",'sixes'), \n",
    "                    (\"who scored most sixes in this season?\",'sixes'),\n",
    "                    (\"who hit most sixes in this season?\",'sixes'),\n",
    "                    (\"who scored most 6s in this season?\",'sixes'),\n",
    "                    (\"who hit most 6s in this season?\",'sixes'),\n",
    "                    (\"how many sixes did Kohli score in match 2?\",'sixes'),\n",
    "                    (\"6s hit by Sachin in match 1?\",'sixes'),\n",
    "                    (\"Sixes hit by Abhay in match 5?\",'sixes'),\n",
    "                    (\"how many sixes did Kohli hit in match 2?\",'sixes')\n",
    "                  ]"
   ]
  },
  {
   "cell_type": "markdown",
   "metadata": {},
   "source": [
    "##### Feature Extraction"
   ]
  },
  {
   "cell_type": "code",
   "execution_count": 394,
   "metadata": {
    "collapsed": true
   },
   "outputs": [],
   "source": [
    "def feature_extractor(words):\n",
    "    \n",
    "    features = {'highest': 0\n",
    "                ,'scored': 0\n",
    "                ,'runs': 0\n",
    "                ,'scorer': 0\n",
    "                ,'score':0\n",
    "                ,'match':0\n",
    "                ,'wickets': 0\n",
    "                ,'boundary': 0\n",
    "                ,'fours':0\n",
    "                ,'4s':0\n",
    "                ,'six':0\n",
    "                ,'sixes':0\n",
    "                ,'6s':0\n",
    "                ,'hit':0\n",
    "                ,'four':0\n",
    "                ,'aggregate':0\n",
    "                ,'total':0\n",
    "                ,'team':0\n",
    "                ,'lead':0\n",
    "                ,'leading':0\n",
    "                ,'maximum':0\n",
    "                ,'max':0\n",
    "                ,'minimum':0\n",
    "                ,'min':0\n",
    "                ,'least':0\n",
    "                ,'less':0\n",
    "                ,'1st':0,'2nd':0,'3rd':0,'4th':0,'5th':0,'6th':0,'7th':0,'8th':0,'9th':0,'10th':0    \n",
    "                ,'dot':0\n",
    "                ,'dots':0\n",
    "                ,'faced':0 \n",
    "                ,'entire':0\n",
    "                ,'whole':0\n",
    "                ,'season':0\n",
    "               }\n",
    "    \n",
    "    word_counts = nltk.Counter(words)\n",
    "    \n",
    "    for word in word_counts:\n",
    "        if word in features:\n",
    "            features[word] = word_counts[word]\n",
    "    return features"
   ]
  },
  {
   "cell_type": "markdown",
   "metadata": {},
   "source": [
    "#### TRAINING - Naive Bayes Classifier"
   ]
  },
  {
   "cell_type": "code",
   "execution_count": 395,
   "metadata": {
    "collapsed": true
   },
   "outputs": [],
   "source": [
    "naive_bayes_classifier = nltk.NaiveBayesClassifier.train([(feature_extractor(nltk.word_tokenize(sentence)), label) for sentence, label in train_sentences])"
   ]
  },
  {
   "cell_type": "markdown",
   "metadata": {},
   "source": [
    "----\n",
    "\n",
    "# TEST QUESTION"
   ]
  },
  {
   "cell_type": "code",
   "execution_count": 424,
   "metadata": {
    "collapsed": true
   },
   "outputs": [],
   "source": [
    "question = 'Who scored the maximum runs from Delhi Daredevils in match 3 ?'"
   ]
  },
  {
   "cell_type": "markdown",
   "metadata": {},
   "source": [
    "____"
   ]
  },
  {
   "cell_type": "markdown",
   "metadata": {},
   "source": [
    "##### Lemmatized Words"
   ]
  },
  {
   "cell_type": "code",
   "execution_count": 425,
   "metadata": {
    "collapsed": true
   },
   "outputs": [],
   "source": [
    "pattern = RegexpTokenizer(r'\\w+')\n",
    "words = pattern.tokenize(question)\n",
    "\n",
    "stop_words = set(stopwords.words('english'))\n",
    "lm = WordNetLemmatizer()\n",
    "\n",
    "lem_words = []\n",
    "\n",
    "for w in words:\n",
    "    if w not in stop_words:\n",
    "        lem_words.append(lm.lemmatize(w))"
   ]
  },
  {
   "cell_type": "markdown",
   "metadata": {},
   "source": [
    "##### Classifer"
   ]
  },
  {
   "cell_type": "code",
   "execution_count": 426,
   "metadata": {},
   "outputs": [],
   "source": [
    "classifier = naive_bayes_classifier.classify(feature_extractor(lem_words))"
   ]
  },
  {
   "cell_type": "markdown",
   "metadata": {},
   "source": [
    "##### Tagging and Chunking"
   ]
  },
  {
   "cell_type": "code",
   "execution_count": 427,
   "metadata": {
    "collapsed": true
   },
   "outputs": [],
   "source": [
    "tag = nltk.pos_tag(lem_words)\n",
    "\n",
    "chunkGram = r\"\"\"Chunk:{<NNP.?>*<NNP.?>*}\"\"\"\n",
    "chunkParser = nltk.RegexpParser(chunkGram)\n",
    "chunked = chunkParser.parse(tag)"
   ]
  },
  {
   "cell_type": "markdown",
   "metadata": {},
   "source": [
    "##### Joining Leaves"
   ]
  },
  {
   "cell_type": "code",
   "execution_count": 428,
   "metadata": {},
   "outputs": [
    {
     "data": {
      "text/plain": [
       "'Delhi Daredevils'"
      ]
     },
     "execution_count": 428,
     "metadata": {},
     "output_type": "execute_result"
    }
   ],
   "source": [
    "for node in chunked:\n",
    "    if hasattr(node, \"label\"):\n",
    "        words = [word for word, tag in node.leaves()]\n",
    "        chunked_words = ' '.join(words)\n",
    "\n",
    "chunked_words"
   ]
  },
  {
   "cell_type": "markdown",
   "metadata": {},
   "source": [
    "---------------------------------"
   ]
  },
  {
   "cell_type": "markdown",
   "metadata": {},
   "source": [
    "===="
   ]
  },
  {
   "cell_type": "markdown",
   "metadata": {},
   "source": [
    "## Answer Formulation"
   ]
  },
  {
   "cell_type": "code",
   "execution_count": 473,
   "metadata": {
    "collapsed": true
   },
   "outputs": [],
   "source": [
    "ans = { 'total_runs_team_match' : [ '{team} score {runs} in match {match}'\n",
    "                                  \n",
    "                                   ]}"
   ]
  },
  {
   "cell_type": "code",
   "execution_count": 422,
   "metadata": {},
   "outputs": [],
   "source": [
    "answers = { \n",
    "            'runs_batsman_match' : ['{batsman} scored {runs} runs in match {match}',\n",
    "                                    'In match {match} {batsman} scored {runs} runs',\n",
    "                                    '{runs} runs were scored by {batsman} in match {match}'\n",
    "                                    ],\n",
    "    \n",
    "            'total_runs_team_match' : ['{batsman} scored {runs} runs in match {match}',\n",
    "                                       'In match {match} {batsman} scored {runs} runs',\n",
    "                                       '{runs} runs were scored by {batsman} in match {match}',\n",
    "                                       'Match {match} saw {batsman} scoring {runs} runs',\n",
    "                                       'A total of {runs} was scored by {batsman} in match {match}'\n",
    "                                    ],\n",
    "            'max_score_batsman_match_inTeam' : ['{batsman} of {team} scored {runs} runs in match {match}',\n",
    "                                                'In match {team} {batsman} of {team} scored {runs} runs',\n",
    "                                                '{runs} runs were scored by {batsman} of {team} in match {match}',\n",
    "                                                ],\n",
    "            'max_score_batsman_match' : ['{batsman} of {team} scored {runs} runs in match {match}',\n",
    "                                         'In match {match} {batsmam} of {team} scored {runs} runs',\n",
    "                                         'c runs were scored by {batsman} of {team} in match {match}',\n",
    "                                        ]\n",
    "}"
   ]
  },
  {
   "cell_type": "code",
   "execution_count": 423,
   "metadata": {},
   "outputs": [
    {
     "data": {
      "text/plain": [
       "['a scored b runs in match c',\n",
       " 'In match c a scored b runs',\n",
       " 'b runs were scored by a in match c',\n",
       " 'Match c saw a scoring b runs',\n",
       " 'A total of b was scored by a in match c']"
      ]
     },
     "execution_count": 423,
     "metadata": {},
     "output_type": "execute_result"
    }
   ],
   "source": [
    "answers['total_runs_team_match' ]"
   ]
  },
  {
   "cell_type": "code",
   "execution_count": 442,
   "metadata": {},
   "outputs": [
    {
     "data": {
      "text/plain": [
       "'c runs were scored by a of b in match d'"
      ]
     },
     "execution_count": 442,
     "metadata": {},
     "output_type": "execute_result"
    }
   ],
   "source": [
    "reply = random.choice(answers['max_score_batsman_match_inTeam'])\n",
    "reply            \n",
    "#result = setting_values(max_score_batsman_match_inTeam(team_name, int(match_id), reply, 4))\n",
    "#print(' '.join(str(w) for w in result))"
   ]
  },
  {
   "cell_type": "markdown",
   "metadata": {},
   "source": [
    "-----------"
   ]
  },
  {
   "cell_type": "markdown",
   "metadata": {},
   "source": [
    "#### Results"
   ]
  },
  {
   "cell_type": "code",
   "execution_count": 452,
   "metadata": {},
   "outputs": [],
   "source": [
    "def setting_values(values, reply, arg_count):\n",
    "    if arg_count == 4:\n",
    "        a = values[0]\n",
    "        b = values[1]\n",
    "        c = values[2]\n",
    "        d = values[3]\n",
    "    \n",
    "        words = reply.split()\n",
    "    \n",
    "        for i in range(len(words)):\n",
    "            if words[i] == 'a':\n",
    "                words[i] = a\n",
    "            elif words[i] == 'b':\n",
    "                words[i] = b\n",
    "            elif words[i] == 'c':\n",
    "                words[i] = c\n",
    "            elif words[i] == 'd':\n",
    "                words[i] = d\n",
    "       \n",
    "        return(words)\n",
    "        \n",
    "    elif arg_count == 3:\n",
    "        a = values[0]\n",
    "        b = values[1]\n",
    "        c = values[2]\n",
    "    \n",
    "        words = reply.split()\n",
    "    \n",
    "        for i in range(len(words)):\n",
    "            if words[i] == 'a':\n",
    "                words[i] = a\n",
    "            elif words[i] == 'b':\n",
    "                words[i] = b\n",
    "            elif words[i] == 'c':\n",
    "                words[i] = c\n",
    "    \n",
    "        return(words)\n",
    "        \n",
    "    elif arg_count == 2:\n",
    "       \n",
    "        a = values[0]\n",
    "        b = values[1]\n",
    "        \n",
    "    elif arg_count == 1:\n",
    "        a = values[0]"
   ]
  },
  {
   "cell_type": "markdown",
   "metadata": {},
   "source": [
    "-------------------"
   ]
  },
  {
   "cell_type": "code",
   "execution_count": 447,
   "metadata": {},
   "outputs": [
    {
     "data": {
      "text/plain": [
       "'Delhi Daredevils'"
      ]
     },
     "execution_count": 447,
     "metadata": {},
     "output_type": "execute_result"
    }
   ],
   "source": [
    "chunked_words"
   ]
  },
  {
   "cell_type": "code",
   "execution_count": 472,
   "metadata": {},
   "outputs": [
    {
     "data": {
      "text/plain": [
       "{'match': 3, 'runs': 132, 'team': 'Delhi Daredevils'}"
      ]
     },
     "execution_count": 472,
     "metadata": {},
     "output_type": "execute_result"
    }
   ],
   "source": [
    "total_runs_team_match(team_name,int(match_id))"
   ]
  },
  {
   "cell_type": "code",
   "execution_count": 477,
   "metadata": {},
   "outputs": [
    {
     "name": "stdout",
     "output_type": "stream",
     "text": [
      "58 runs were scored by G Gambhir of Delhi Daredevils in match 3\n"
     ]
    }
   ],
   "source": [
    "if classifier == 'runs':\n",
    "    try:\n",
    "        # Function 1.0 - Team - Runs - Match\n",
    "        if chunked_words in team_list:\n",
    "            team_name = chunked_words\n",
    "            for i in range(len(chunked)): \n",
    "                if chunked[i][1] == 'CD':\n",
    "                    match_id = chunked[i][0]\n",
    "            result = total_runs_team_match(team_name,int(match_id))\n",
    "            reply = random.choice(ans['total_runs_team_match'])\n",
    "            reply.format(**result)\n",
    "            \n",
    "        else:\n",
    "        # Function 2.0 - Batsman - Runs - Match\n",
    "            for i in range(len(chunked)): \n",
    "                person_name = chunked_words\n",
    "                if chunked[i][1] == 'CD':\n",
    "                    match_id = chunked[i][0]\n",
    "                    \n",
    "            reply = random.choice(answers['runs_batsman_match'])\n",
    "            result = setting_values(runs_batsman_match(person_name,int(match_id)), reply, 3)\n",
    "            print(' '.join(str(w) for w in result))\n",
    "    except:\n",
    "        print(\"ERROR IN F1/2\")\n",
    "\n",
    "        \n",
    "        \n",
    "elif classifier == 'max_runs':\n",
    "    try:\n",
    "        # Function 3.0 - Team Batsman - Runs - Match\n",
    "        if chunked_words in team_list:\n",
    "            team_name = chunked_words\n",
    "            for i in range(len(chunked)): \n",
    "                if chunked[i][1] == 'CD':\n",
    "                    match_id = chunked[i][0]\n",
    "                    \n",
    "            reply = random.choice(answers['max_score_batsman_match_inTeam'])\n",
    "            result = setting_values(max_score_batsman_match_inTeam(int(match_id), team_name), reply, 4)\n",
    "            print(' '.join(str(w) for w in result))\n",
    "            \n",
    "        else:\n",
    "        # Function 4.0 - Batsman -Runs - match\n",
    "            for i in range(len(chunked)): \n",
    "                if chunked[i][1] == 'CD':\n",
    "                    match_id = chunked[i][0]\n",
    "            \n",
    "            reply = random.choice(answers['max_score_batsman_match'])\n",
    "            result = setting_values(max_score_batsman_match(int(match_id)), reply, 4)\n",
    "            print(' '.join(str(w) for w in result))\n",
    "            \n",
    "            #print(max_score_batsman_match(int(match_id)))\n",
    "    except:\n",
    "        print(\"ERROR IN F3/4\")\n",
    "\n",
    "        \n",
    "        \n",
    "        \n",
    "elif classifier =='min_runs':\n",
    "    try:\n",
    "        if chunked_words in team_list:\n",
    "            team_name = chunked_words\n",
    "            for i in range(len(chunked)): \n",
    "                if chunked[i][1] == 'CD':\n",
    "                    match_id = chunked[i][0]\n",
    "            print(min_score_batsman_match_inTeam(int(match_id), team_name))\n",
    "        else:\n",
    "            for i in range(len(chunked)): \n",
    "                if chunked[i][1] == 'CD':\n",
    "                    match_id = chunked[i][0]\n",
    "            print(min_score_batsman_match(int(match_id)))\n",
    "    except:\n",
    "        print(\"min_runs\")\n",
    "\n",
    "\n",
    "\n",
    "        \n",
    "elif classifier == 'total_runs':\n",
    "    try:\n",
    "        if chunked_words in team_list:\n",
    "            team_name = chunked_words\n",
    "            print(total_runs_team_IPL(team_name))\n",
    "        else :\n",
    "            for i in range(len(chunked)): \n",
    "                person_name = chunked_words\n",
    "            print(total_runs_batsman_IPL(person_name))\n",
    "    except:\n",
    "        print(\"total_runs\")\n",
    "\n",
    "\n",
    "\n",
    "        \n",
    "elif classifier == 'fours':\n",
    "    try:\n",
    "        if chunked_words in team_list:\n",
    "            team_name = chunked_words\n",
    "            for i in range(len(chunked)): \n",
    "                if chunked[i][1] == 'CD':\n",
    "                    match_id = chunked[i][0]\n",
    "            print(team_fours(int(match_id), team_name))\n",
    "        else:\n",
    "            for i in range(len(chunked)): \n",
    "                if chunked[i][1] == 'CD':\n",
    "                    match_id = chunked[i][0]\n",
    "            print(b_4_batsman_match(person_name ,int(match_id)))\n",
    "    except:\n",
    "        print(\"fours\")\n",
    "\n",
    "        \n",
    "        \n",
    "        \n",
    "        \n",
    "elif classifier == 'sixes':\n",
    "    try: \n",
    "        if chunked_words in team_list:\n",
    "            team_name = chunked_words\n",
    "            for i in range(len(chunked)): \n",
    "                if chunked[i][1] == 'CD':\n",
    "                    match_id = chunked[i][0]\n",
    "            print(team_sixes(int(match_id), team_name))\n",
    "        else:\n",
    "            for i in range(len(chunked)): \n",
    "                person_name = chunked_words\n",
    "                if chunked[i][1] == 'CD':\n",
    "                    match_id = chunked[i][0]\n",
    "            print(b_6_batsman_match(person_name ,int(match_id)))\n",
    "    except:\n",
    "        print(\"sixes\")"
   ]
  },
  {
   "cell_type": "code",
   "execution_count": null,
   "metadata": {
    "collapsed": true
   },
   "outputs": [],
   "source": []
  },
  {
   "cell_type": "markdown",
   "metadata": {},
   "source": [
    "#### Returns full Player name"
   ]
  },
  {
   "cell_type": "code",
   "execution_count": 224,
   "metadata": {
    "collapsed": true
   },
   "outputs": [],
   "source": [
    "def function_return_fullName(data):\n",
    "    for w in (batsman_list or bowler_list or fielder_list):\n",
    "        if w.lower() == data.lower():\n",
    "            return w\n",
    "        elif str(w.split()[len(w.split())-1]).lower() == data.lower():\n",
    "            return w"
   ]
  },
  {
   "cell_type": "code",
   "execution_count": 225,
   "metadata": {},
   "outputs": [
    {
     "data": {
      "text/plain": [
       "'BB McCullum'"
      ]
     },
     "execution_count": 225,
     "metadata": {},
     "output_type": "execute_result"
    }
   ],
   "source": [
    "function_return_fullName('McCullum')"
   ]
  },
  {
   "cell_type": "markdown",
   "metadata": {},
   "source": [
    "#### Returns full Team Name"
   ]
  },
  {
   "cell_type": "code",
   "execution_count": 221,
   "metadata": {
    "collapsed": true
   },
   "outputs": [],
   "source": [
    "teams_abbr = [ ('Kolkata Knight Riders', 'kolkata knight riders', 'kolkata', 'kolkata riders', 'kolkata rider', 'kolkata knights', 'kolkata knight', 'knight riders', 'knight rider', 'riders', 'k k riders', 'k knight riders', 'kkr'), \n",
    "               ('Chennai Super Kings', 'chennai super kings', 'chennai', 'chennai kings', 'chennai super', 'super kings', 'chennai kings', 'csk'),  \n",
    "               ('Rajasthan Royals', 'rajasthan royals', 'rajasthan', 'rajasthan royal', 'rr'),\n",
    "               ('Mumbai Indians', 'mumbai indians', 'mumbai', 'mumbai indian', 'indians', 'indian', 'mi'), \n",
    "               ('Deccan Chargers', 'deccan chargers', 'deccan', 'deccan charger', 'chargers', 'charger', 'dc'), \n",
    "               ('Kings XI Punjab', 'kings xi punjab', 'kings', 'punjab', 'kings XI', 'kings punjab',  'kxip','kp', 'kxp'), \n",
    "               ('Royal Challengers Bangalore', 'royal challengers bangalore', 'bangalore', 'royal challengers', 'royal challenger', 'royal bangalore', 'challengers bangalore', 'challenger bangalore', 'rcb', 'rb'),\n",
    "               ('Delhi Daredevils', 'delhi daredevils', 'delhi', 'daredevils', 'delhi daredevil', 'dd') ]"
   ]
  },
  {
   "cell_type": "code",
   "execution_count": 222,
   "metadata": {
    "collapsed": true
   },
   "outputs": [],
   "source": [
    "def funtion_return_fullTeamName(data):\n",
    "    for w in teams_abbr:\n",
    "        if data.lower() in w:\n",
    "            return(w[0])"
   ]
  },
  {
   "cell_type": "code",
   "execution_count": 223,
   "metadata": {
    "scrolled": true
   },
   "outputs": [
    {
     "data": {
      "text/plain": [
       "'Royal Challengers Bangalore'"
      ]
     },
     "execution_count": 223,
     "metadata": {},
     "output_type": "execute_result"
    }
   ],
   "source": [
    "funtion_return_fullTeamName('Royal Challengers Bangalore')"
   ]
  },
  {
   "cell_type": "code",
   "execution_count": 466,
   "metadata": {
    "collapsed": true
   },
   "outputs": [],
   "source": [
    "person = { \"name\" : \"Pranjal\", \"age\": 24}"
   ]
  },
  {
   "cell_type": "code",
   "execution_count": 467,
   "metadata": {},
   "outputs": [
    {
     "data": {
      "text/plain": [
       "'Pranjal is 24'"
      ]
     },
     "execution_count": 467,
     "metadata": {},
     "output_type": "execute_result"
    }
   ],
   "source": [
    "\"{name} is {age}\".format(**person)"
   ]
  },
  {
   "cell_type": "code",
   "execution_count": null,
   "metadata": {
    "collapsed": true
   },
   "outputs": [],
   "source": []
  },
  {
   "cell_type": "code",
   "execution_count": null,
   "metadata": {
    "collapsed": true
   },
   "outputs": [],
   "source": []
  },
  {
   "cell_type": "code",
   "execution_count": null,
   "metadata": {
    "collapsed": true
   },
   "outputs": [],
   "source": [
    "\n",
    "            reply = "
   ]
  }
 ],
 "metadata": {
  "kernelspec": {
   "display_name": "Python 3",
   "language": "python",
   "name": "python3"
  },
  "language_info": {
   "codemirror_mode": {
    "name": "ipython",
    "version": 3
   },
   "file_extension": ".py",
   "mimetype": "text/x-python",
   "name": "python",
   "nbconvert_exporter": "python",
   "pygments_lexer": "ipython3",
   "version": "3.6.0"
  }
 },
 "nbformat": 4,
 "nbformat_minor": 2
}
