{
 "cells": [
  {
   "cell_type": "code",
   "execution_count": 1,
   "metadata": {
    "collapsed": true
   },
   "outputs": [],
   "source": [
    "import numpy as np\n",
    "import pandas as pd\n",
    "import nltk\n",
    "from nltk.tokenize import word_tokenize, sent_tokenize, PunktSentenceTokenizer, RegexpTokenizer\n",
    "from nltk.stem import PorterStemmer, WordNetLemmatizer\n",
    "from nltk.corpus import stopwords, state_union\n",
    "from nltk.wsd import lesk\n",
    "from nltk.tag import UnigramTagger, BigramTagger, BrillTagger\n",
    "from nltk.chunk import ne_chunk"
   ]
  },
  {
   "cell_type": "code",
   "execution_count": 2,
   "metadata": {
    "collapsed": true
   },
   "outputs": [],
   "source": [
    "matches = pd.read_csv('/home/user/Downloads/IPLChatbot/matches.csv')\n",
    "deliveries = pd.read_csv('/home/user/Downloads/IPLChatbot/deliveries.csv')"
   ]
  },
  {
   "cell_type": "markdown",
   "metadata": {},
   "source": [
    "## Runs"
   ]
  },
  {
   "cell_type": "code",
   "execution_count": 3,
   "metadata": {
    "collapsed": true
   },
   "outputs": [],
   "source": [
    "##  Runs scored by Batsman B1 in Match X\n",
    "def runs_batsman_match(batsman_name, match_id):\n",
    "    x = deliveries.groupby(['match_id', 'batsman'])['batsman_runs'].sum()\n",
    "    runs = x[match_id][batsman_name]\n",
    "    return runs "
   ]
  },
  {
   "cell_type": "code",
   "execution_count": 4,
   "metadata": {
    "collapsed": true
   },
   "outputs": [],
   "source": [
    "## Total Runs scored in Match X by team Y\n",
    "def total_runs_team_match(team, match_id):\n",
    "    x = deliveries.groupby(['match_id','batting_team'])['total_runs'].sum()\n",
    "    total_runs_match = x[match_id][team]\n",
    "    return total_runs_match  "
   ]
  },
  {
   "cell_type": "code",
   "execution_count": 5,
   "metadata": {
    "collapsed": true
   },
   "outputs": [],
   "source": [
    "## Max scorer in match X\n",
    "def max_score_batsman_match(match_id):\n",
    "    x = deliveries.groupby(['match_id', 'batsman'])['batsman_runs'].sum()\n",
    "    name = x[match_id].idxmax()\n",
    "    runs = x[match_id].max()\n",
    "    return [name, runs]  "
   ]
  },
  {
   "cell_type": "code",
   "execution_count": 6,
   "metadata": {
    "collapsed": true
   },
   "outputs": [],
   "source": [
    "## Min scorer in match X\n",
    "def min_score_batsman_match(match_id):\n",
    "    x = deliveries.groupby(['match_id', 'batsman'])['batsman_runs'].sum()\n",
    "    name = x[match_id].idxmin()\n",
    "    runs = x[match_id].min()\n",
    "    return [name, runs]  "
   ]
  },
  {
   "cell_type": "code",
   "execution_count": 7,
   "metadata": {
    "collapsed": true
   },
   "outputs": [],
   "source": [
    "## Maxscorer in match X in Team Y\n",
    "def max_score_batsman_match_inTeam(match_id, team):\n",
    "    x = deliveries.groupby(['match_id','batting_team', 'batsman'])['batsman_runs'].sum()\n",
    "    name = x[match_id][team].idxmax()\n",
    "    runs = x[match_id][team].max()\n",
    "    return [name, runs]  "
   ]
  },
  {
   "cell_type": "code",
   "execution_count": 8,
   "metadata": {
    "collapsed": true
   },
   "outputs": [],
   "source": [
    "## Min scorer in match X in Team Y\n",
    "def min_score_batsman_match_inTeam(match_id, team):\n",
    "    x = deliveries.groupby(['match_id','batting_team', 'batsman'])['batsman_runs'].sum()\n",
    "    name = x[match_id][team].idxmin()\n",
    "    runs = x[match_id][team].min()\n",
    "    return [name, runs]  "
   ]
  },
  {
   "cell_type": "code",
   "execution_count": 9,
   "metadata": {
    "collapsed": true
   },
   "outputs": [],
   "source": [
    "## ith highest scorer \n",
    "def highest_scorer(i):\n",
    "    #player_runs = deliveries.groupby('batsman')['batsman_runs'].sum().sort_values(ascending =False)\n",
    "    player_name = deliveries.groupby('batsman')['batsman_runs'].sum().sort_values(ascending =False).iloc[i:i+1]\n",
    "    return  player_name"
   ]
  },
  {
   "cell_type": "code",
   "execution_count": 10,
   "metadata": {
    "collapsed": true
   },
   "outputs": [],
   "source": [
    "## batsman total run\n",
    "def total_runs_batsman_IPL(batsman):\n",
    "    x = deliveries.groupby(['batsman'])['batsman_runs'].sum()\n",
    "    runs_batsman = x[batsman]\n",
    "    return runs_batsman"
   ]
  },
  {
   "cell_type": "code",
   "execution_count": 11,
   "metadata": {
    "collapsed": true
   },
   "outputs": [],
   "source": [
    "#Total runsmade by a team\n",
    "def total_runs_team_IPL(team):\n",
    "    x = deliveries.groupby(['batting_team'])['total_runs'].sum()\n",
    "    total_runs_IPL = x[team]\n",
    "    return total_runs_IPL"
   ]
  },
  {
   "cell_type": "markdown",
   "metadata": {},
   "source": [
    "## Boundary"
   ]
  },
  {
   "cell_type": "code",
   "execution_count": 12,
   "metadata": {
    "collapsed": true
   },
   "outputs": [],
   "source": [
    "def dot_balls_batsman_match(batsman, match_id):\n",
    "    x = deliveries[(deliveries['batsman'] == batsman) & (deliveries['match_id'] == match_id) & (deliveries['total_runs'] == 0)]\n",
    "    dot_balls = x.shape[0]\n",
    "    return dot_balls"
   ]
  },
  {
   "cell_type": "code",
   "execution_count": 13,
   "metadata": {
    "collapsed": true
   },
   "outputs": [],
   "source": [
    "#boundaries hit by a particular batman in particular match\n",
    "def b_4_batsman_match(batsman, match_id):\n",
    "    x = deliveries[(deliveries['batsman'] == batsman) & (deliveries['match_id'] == match_id) & (deliveries['total_runs'] == 4)]\n",
    "    b_4 = x.shape[0]\n",
    "    return b_4"
   ]
  },
  {
   "cell_type": "code",
   "execution_count": 14,
   "metadata": {
    "collapsed": true
   },
   "outputs": [],
   "source": [
    "\n",
    "#Sixes hit by batsman inparticular match\n",
    "def b_6_batsman_match(batsman, match_id):\n",
    "    x = deliveries[(deliveries['batsman'] == batsman) & (deliveries['match_id'] == match_id) & (deliveries['total_runs'] == 6)]\n",
    "    b_6 = x.shape[0]\n",
    "    return b_6"
   ]
  },
  {
   "cell_type": "code",
   "execution_count": 15,
   "metadata": {
    "collapsed": true
   },
   "outputs": [],
   "source": [
    "def team_fours(match_id, batting_team):\n",
    "    team_fours = deliveries[deliveries.batsman_runs == 4]\n",
    "    team_fours_count = team_fours.groupby(['match_id','batting_team']).count()['inning']\n",
    "    return team_fours_count[match_id][batting_team]\n",
    "\n",
    "def team_sixes(match_id, batting_team):\n",
    "    team_sixes = deliveries[deliveries.batsman_runs == 6]\n",
    "    team_sixes_count = team_sixes.groupby(['match_id','batting_team']).count()['inning']\n",
    "    return team_sixes_count[match_id][batting_team]\n",
    "\n",
    "\n",
    "def overall_fours_count(batsman):\n",
    "    fours = deliveries[deliveries.batsman_runs == 4]\n",
    "    fours_count = fours.groupby('batsman').count()['inning']\n",
    "    return fours_count[batsman]\n",
    "\n",
    "\n",
    "def overall_sixes_count(batsman):\n",
    "    sixes = deliveries[deliveries.batsman_runs == 6]\n",
    "    sixes_count = sixes.groupby('batsman').count()['inning']\n",
    "    return sixes_count[batsman]\n",
    "\n",
    "\n",
    "def most_fours_count(i):\n",
    "    fours = deliveries[deliveries.batsman_runs == 4]\n",
    "    fours_count = fours.groupby('batsman').count()['inning']\n",
    "    return fours_count.sort_values(ascending = False).iloc[i:i+1]\n",
    "\n",
    "\n",
    "def most_sixes_count():\n",
    "    sixes = deliveries[deliveries.batsman_runs == 6]\n",
    "    sixes_count = sixes.groupby('batsman').count()['inning'].sort_values(ascending = False).iloc[0:1]\n",
    "    return sixes_count\n"
   ]
  },
  {
   "cell_type": "markdown",
   "metadata": {},
   "source": [
    "## Strike Rate"
   ]
  },
  {
   "cell_type": "code",
   "execution_count": 16,
   "metadata": {
    "collapsed": true
   },
   "outputs": [],
   "source": [
    "def balls_faced_batsman_match(batsman, match_id):\n",
    "    x = deliveries[(deliveries['batsman'] == batsman) & (deliveries['match_id'] == match_id) & (deliveries['wide_runs'] == 0)]\n",
    "    return x.shape[0]\n",
    "def strikeRate_batsman_match(batsman, match_id):\n",
    "    runs = runs_batsman_match(batsman, match_id)\n",
    "    balls = balls_faced_batsman_match(batsman, match_id)\n",
    "    \n",
    "    strike_rate = runs/balls * 100\n",
    "    return strike_rate\n",
    "\n",
    "def total_runs_scored_IPL():\n",
    "    runs_count = deliveries.groupby('batsman')['batsman_runs'].sum()\n",
    "    return runs_count\n",
    "\n",
    "def total_ball_faced_IPL():\n",
    "    balls = deliveries[(deliveries.wide_runs == 0)].groupby('batsman')['inning']\n",
    "    balls_count = balls.count()\n",
    "    return balls_count\n",
    "\n",
    "def total_strike_rate_IPL(i):\n",
    "    strike_rate = (total_runs_scored_IPL()/total_ball_faced_IPL())*100\n",
    "    return strike_rate.sort_values(ascending = False).iloc[i:i+1]\n"
   ]
  },
  {
   "cell_type": "code",
   "execution_count": null,
   "metadata": {
    "collapsed": true
   },
   "outputs": [],
   "source": []
  },
  {
   "cell_type": "code",
   "execution_count": 89,
   "metadata": {
    "collapsed": false
   },
   "outputs": [],
   "source": [
    "corrected_train = \"\"\"Total/JJ runs/NNS scored/VBN by/IN sc/NNp ganguly/NNP in/IN match/NN 5/CD ?/.\n",
    "sc/NNP ganguly/NNP 's/POS score/NN in/IN match/NN 1/CD ?/.\n",
    "how/WRB many/JJ runs/NNS did/VBD ganguly/NNP score/NN in/IN match/NN 2/CD ?/.\n",
    "sachin/NNp 's/POS score/NN in/IN 4th/CD match/NN ?/.\n",
    "McCullum/NNP scored/VBD how/WRB much/JJ in/IN match/NN 3/CD ?/.\n",
    "Dravid/NNP 's/POS runs/NNS in/IN match/NN 2/CD ?/.\n",
    "Dravid/NNP 's/POS score/NN in/IN match/NN 5/CD ?/.\n",
    "How/WRB much/JJ did/VBD Royal/NNP Challenger/NNP Bangalore/NNP score/NN in/IN match/NN 1/CD ?/.\n",
    "RCB/NNP score/NN in/IN match/NN 1/CD ?/.\n",
    "RCB/NNP runs/VBZ in/IN match/NN 1/CD\n",
    "total/JJ score/NN of/IN DDin/NNP 3rd/CD match/NN\n",
    "totals/NNS runs/NNS of/IN Deccan/NNP in/IN 8th/CD match/NN\n",
    "final/JJ score/NN of/IN DD/NNP in/IN 3rd/CD match/NN\n",
    "Rahul/NNP maximum/JJ score/NN in/IN match/NN 3/CD\n",
    "who/WP was/VBD the/DT leading/VBG run/NN scorer/NN in/IN match/NN 9/CD\n",
    "highest/JJS score/NN in/IN match/NN 3/CD\n",
    "maximum/JJ scorer/NN of/IN match/NN 2/CD\n",
    "minimum/JJ score/NN in/IN match/NN 3/CD\n",
    "lowest/JJS score/NN in/IN match/NN 3/CD\n",
    "minimumscorer/NN of/IN match/NN 2/CD\n",
    "who/WP scored/VBD the/DT maximum/JJ run/NN match/NN 3/CD by/IN DD/NNP\n",
    "top/JJ scorer/NN for/IN DD/NNP in/IN match/NN 3/CD\n",
    "top/JJ score/NN in/IN DD/NNP match/NN 4/CD ?/.\n",
    "highest/JJS scorer/NN for/IN DD/NNP in/IN match/NN 4/CD\n",
    "who/WP scored/VBD the/DT minimum/JJ run/NN match/NN 3/CD by/IN dd/NN\n",
    "least/JJS scorer/NN for/IN DD/NNP in/IN match/NN 3/CD\n",
    "lowest/JJS score/NN in/IN DD/NNP match/NN 4/CD ?/.\n",
    "low/JJ scorer/NN for/IN DD/NNP in/IN match/NN 4/CD\n",
    "total/JJ runs/NNS scored/VBN by/IN sachin/NN ?/.\n",
    "aggregate/NN runs/NNS by/IN Abhay/NNP ?/.\n",
    "how/WRB many/JJ runs/NNS has/VBZ sachin/VBN made/VBN in/IN ipl1/NN ?/.\n",
    "Total/JJ runs/NNS made/VBN by/IN sachin/NN ?/.\n",
    "What/WP is/VBZ the/DT total/JJ runs/NNS made/VBN by/IN RCB/NNP ?/.\n",
    "what/WP is/VBZ the/DT runs/NNS made/VBN by/IN RCB/NNP in/IN ipl/NN 9/CD ?/.\n",
    "What/WP is/VBZ the/DT sum/JJ total/NN runs/NNS made/VBN by/IN RCB/NNP\n",
    "how/WRB many/JJ fours/NNS did/VBD Kohli/NNP score/NN in/IN match/NN 2/CD ?/.\n",
    "4s/CD hit/VBZ by/IN Sachin/NNP in/IN match/NN 1/CD ?/.\n",
    "Fours/NNS hit/VBZ by/IN Abhay/NNP in/IN match/NN 5/CD ?/.\n",
    "how/WRB many/JJ sixes/NNS did/VBD Kohli/NNP score/NN in/IN match/NN 2/CD ?/.\n",
    "6s/CD hit/VBZ by/IN Sachin/NNP in/IN match/NN 1/CD ?/.\n",
    "Sixes/NNS hit/VBZ by/IN Abhay/NNP in/IN match/NN 5/CD ?/.\n",
    "how/WRB many/JJ sixes/NNS did/VBD Kohli/NNP hit/VBZ in/IN match/NN 2/CD ?/.\n",
    "who/WP scored/VBD maximum/JJ runs/NNS in/IN match/NN 6/CD\n",
    "who/WP was/VBD the/DT top/JJ scorer/NN in/IN match/NN 6/CD\n",
    "How/WRB much/JJ did/VBZ sc/NNP ganguly/NNP hit/VBZ 6s/CD in/IN match/NN 1/CD ?/.\n",
    "How/WRB much/JJ did/VBZ ganguly/NNP hit/VBZ 6s/CD in/IN match/NN 1/CD ?/.\n",
    "How/WRB much/JJ did/VBZ BB/NNP McCullum/NNP hit/VBZ 6s/CD in/IN match/NN 1CD/ ?/.\n",
    "6s/CD hit/VBZ by/IN BB/NNP McCullum/NNP match/NN 1CD/ ?/.\n",
    "4s/CD hit/VBZ by/IN BB/NNP McCullum/NNP match/NN 1CD/ ?/.\n",
    "How/WRB much/JJ did/VBZ sc/NNP ganguly/NNP hit/VBZ 4s/CD in/IN match/NN 1/CD ?/.\n",
    "How/WRB much/JJ did/VBZ ganguly/NNP hit/VBZ 4/CD in/IN match/NN 1/CD ?/.\n",
    "How/WRB much/JJ did/VBZ BB/NNP McCullum/NNP hit/VBZ 4s/CD in/IN match/NN 1CD/ ?/.\n",
    "how/WRB many/JJ balls/NN were/VBZ faced/VBZ by/IN BB/NNP McCullum/NNP in/IN match/NN 3/CD ?/.\n",
    "how/WRB many/JJ deliveries/NN were/VBZ faced/VBZ by/IN BB/NNP Mccullum/NNP in/IN match/NN 3/CD ?/.                  \n",
    "\"\"\""
   ]
  },
  {
   "cell_type": "code",
   "execution_count": 90,
   "metadata": {
    "collapsed": false
   },
   "outputs": [],
   "source": [
    "tagged_question = []\n",
    "for word in word_tokenize(corrected_train):\n",
    "    tagged_question.append(nltk.str2tuple(word))\n",
    "#print(tagged_question)\n",
    "train_data = []\n",
    "train_data.append(tagged_question)"
   ]
  },
  {
   "cell_type": "code",
   "execution_count": 91,
   "metadata": {
    "collapsed": true
   },
   "outputs": [],
   "source": [
    "from nltk.data import load\n",
    "pos_tag = load('taggers/maxent_treebank_pos_tagger/english.pickle')"
   ]
  },
  {
   "cell_type": "code",
   "execution_count": 92,
   "metadata": {
    "collapsed": true
   },
   "outputs": [],
   "source": [
    "from nltk.tag import SequentialBackoffTagger\n",
    "class POSTagger(SequentialBackoffTagger):\n",
    "    def __init__(self, *args, **kwargs):\n",
    "        SequentialBackoffTagger.__init__(self, *args, **kwargs)\n",
    "    \n",
    "    def choose_tag(self, tokens, index, history):\n",
    "        word = tokens[index]\n",
    "        return nltk.pos_tag([word])[0][1] if word != \"\" else None\n",
    "custom_pos_tagger = POSTagger()"
   ]
  },
  {
   "cell_type": "code",
   "execution_count": 93,
   "metadata": {
    "collapsed": false
   },
   "outputs": [
    {
     "name": "stdout",
     "output_type": "stream",
     "text": [
      "TBL train (fast) (seqs: 1; tokens: 502; tpls: 10; min score: 2; min acc: None)\n",
      "Finding initial useful rules...\n",
      "    Found 518 useful rules.\n",
      "\n",
      "           B      |\n",
      "   S   F   r   O  |        Score = Fixed - Broken\n",
      "   c   i   o   t  |  R     Fixed = num tags changed incorrect -> correct\n",
      "   o   x   k   h  |  u     Broken = num tags changed correct -> incorrect\n",
      "   r   e   e   e  |  l     Other = num tags changed incorrect -> incorrect\n",
      "   e   d   n   r  |  e\n",
      "------------------+-------------------------------------------------------\n",
      "  34  34   0   0  | .->None if Pos:None@[1]\n",
      "  34  34   0   0  | None-> if Pos:.@[1]\n",
      "  34  34   0   0  | .->None if Word:@[-1]\n",
      "  24  25   1   6  | NN->NNP if Pos:NN@[1]\n",
      "   5   8   3   0  | NN->NNP if Word:by@[-1]\n",
      "   5   6   1   0  | VBD->VBZ if Word:much@[-1]\n",
      "   4   4   0   0  | NN->NNP if Pos:POS@[1]\n",
      "   4   4   0   0  | NN->NNP if Word:for@[-1]\n",
      "   3   3   0   0  | VB->NN if Pos:NN@[1]\n",
      "   3   3   0   0  | NN->JJ if Word:the@[-1]\n"
     ]
    }
   ],
   "source": [
    "import nltk\n",
    "import nltk.tag\n",
    "from nltk.tag import brill\n",
    "from nltk.tag import UnigramTagger\n",
    "from nltk.tag import BrillTaggerTrainer\n",
    "    \n",
    "templates = [brill.Template(brill.Pos([1,1])),\n",
    "    brill.Template(brill.Pos([2,2])),\n",
    "    brill.Template(brill.Pos([1,2])),\n",
    "    brill.Template(brill.Pos([1,3])),\n",
    "    brill.Template(brill.Pos([1,1])),\n",
    "    brill.Template(brill.Pos([2,2])),\n",
    "    brill.Template(brill.Pos([1,2])),\n",
    "    brill.Template(brill.Pos([1,3])),\n",
    "    brill.Template(brill.Word([-1, -1])),\n",
    "    brill.Template(brill.Word([-1, -1]))]\n",
    "\n",
    "trainer_initial_pos = BrillTaggerTrainer(initial_tagger= custom_pos_tagger, templates=templates, trace=3, deterministic=True)\n",
    "brill_tagger = trainer_initial_pos.train(train_data, max_rules=10)"
   ]
  },
  {
   "cell_type": "code",
   "execution_count": null,
   "metadata": {
    "collapsed": true
   },
   "outputs": [],
   "source": []
  },
  {
   "cell_type": "code",
   "execution_count": 94,
   "metadata": {
    "collapsed": true
   },
   "outputs": [],
   "source": [
    "train_sentences = [ ('Total runs scored by SC Ganguly in match 5?' ,'runs'),\n",
    "                    ('SC Ganguly score in match 1?','runs'),\n",
    "                    ('how many runs did Ganguly score in match 2?','runs'),\n",
    "                    (\"Sachin's score in 4th match?\", 'runs'),\n",
    "                    ('how much did McCullum scored in match 3?','runs'),\n",
    "                    ('how much did McCullum scored in match 4?','runs'),\n",
    "                    ('McCullum runs in match 3?','runs'),\n",
    "                    (\"Dravid's runs in match 2?\",'runs'),\n",
    "                    (\"Dravid's score in match 5?\",'runs'),\n",
    "                    ('How much did RCB Score in Match 1?','runs'),\n",
    "                    ('RCB Score in match 1?','runs'),\n",
    "                    ('RCB runs in match 1','runs'),\n",
    "                    ('total score of DD in 3rd match','runs'),\n",
    "                    ('totals runs of Deccan in 8th match','runs'),\n",
    "                    ('final score of DD in 3rd match','runs'),\n",
    "                   \n",
    "                    ('Rahul maximum score in match 3','max_runs'),\n",
    "                    (\"who was the leading run scorer in match 9\", 'max_runs'),\n",
    "                    ('highest score in match 3','max_runs'),\n",
    "                    ('maximum scorer of match 2','max_runs'),\n",
    "                    (\"who scored the maximum run in match 3 from DD\",'max_runs'),\n",
    "                    (\"top scorer for DD in match 3\",'max_runs'),\n",
    "                    (\"top score in DD match 4?\",'max_runs'),\n",
    "                    (\"highest scorer for DD in match 4\",'max_runs'),\n",
    "                    (\"who scored maximum runs in match 6\", 'max_runs'),\n",
    "                    (\"who was the top scorer in match 6\", 'max_runs'),\n",
    "                    (\"who was the leading run scorer in match 9\", 'max_runs'),\n",
    "                    (\"who scored maximum runs in match 6\", 'max_runs'),\n",
    "                    (\"who was the top scorer in match 6\", 'max_runs'), \n",
    "                    (\"who scored the maximum run match 3 by DD\",'max_runs'),\n",
    "                   \n",
    "                    ('minimum score in match 3', 'min_runs'),\n",
    "                    ('lowest score in match 3','min_runs'),\n",
    "                    ('minimum scorer of match 2','min_runs'),\n",
    "                    (\"who scored the minimum run match 3 by DD\",'min_runs'),\n",
    "                    (\"least scorer for DD in match 3\",'min_runs'),\n",
    "                    (\"lowest score in DD match 4?\",'min_runs'),\n",
    "                    (\"low scorer for DD in match 4\",'min_runs'),\n",
    "                    \n",
    "                   \n",
    "                    (\"total runs scored by sachin?\",'total_runs'),\n",
    "                    (\"aggregate runs by Abhay?\",'total_runs'),\n",
    "                    (\"how many runs has sachin made in ipl 1?\",'total_runs'),\n",
    "                    (\"Total runs made by sachin?\",'total_runs'),\n",
    "                    (\"What is the total runs made by RCB?\",'total_runs'),\n",
    "                    (\"what is the runs made by RCB in ipl 9?\",'total_runs'),\n",
    "                    (\"What is the sum total runs made by RCB\",'total_runs'),\n",
    "                   \n",
    "                    (\"who was 3rd highest scorer in match 3?\",'ith_highest_scorer'),\n",
    "                    (\"who was 3rd top scorer in match 4?\",'ith_highest_scorer'),\n",
    "                    (\"who was 2nd maximum run scorer in match 6?\",'ith_highest_scorer'), \n",
    "                   \n",
    "                    (\"rahul faced how many dot balls in match 1\",'dot_balls'),\n",
    "                    (\"rahul faced how many dots in match 1\",'dot_balls'),\n",
    "                   \n",
    "                    (\"how many fours did Kohli score in match 2?\",'fours'),\n",
    "                    (\"4s hit by Sachin in match 1?\",'fours'),\n",
    "                    (\"Fours hit by Abhay in match 5?\",'fours'),\n",
    "                    (\"how many boundaries are scored by rcb in match 6\",'fours'),\n",
    "                    (\"how many 4s are scored by rcb in match 3\",'fours'),\n",
    "                    (\"how many fours are scored by rcb in match 6\",'fours'),\n",
    "                    (\"how many boundaries are hit by rcb in match 6\",'fours'),\n",
    "                    (\"how many 4s are hit by rcb in match 6\",'fours'),\n",
    "                    (\"how many fours are hit by rcb in match 6\",'fours'),\n",
    "                    (\"what are total boundaries of rcb in match 6\",'fours'),\n",
    "                    (\"what are total fours of rcb in match 6\",'fours'),\n",
    "                    (\"what are total 4s of rcb in match 5\",'fours'),\n",
    "                    \n",
    "                    (\"how many fours are hit by kohli in this season?\",'fours'),\n",
    "                    (\"how many 4s are hit by kohli in this season?\",'fours'),\n",
    "                    (\"how many boundaries are hit by kohli in this season?\",'fours'),\n",
    "                    (\"how many fours are scored by kohli in this season?\",'fours'),\n",
    "                    (\"how many 4s are scored by kohli in this season?\",'fours'),\n",
    "                    (\"how many boundaries are hit by kohli in this season?\",'fours'),\n",
    "                    (\"how many boundaries are hit by kohli in this entire ipl?\",'fours'),\n",
    "                    (\"how many 4s are hit by kohli in this entire ipl?\",'fours'),\n",
    "                    (\"how many fours are hit by kohli in this entire ipl?\",'fours'),\n",
    "                    (\"how many boundaries are hit by kohli in this whole ipl?\",'fours'),\n",
    "                    (\"how many 4s are hit by kohli in this whole ipl?\",'fours'),\n",
    "                    (\"how many fours are hit by kohli in this whole ipl?\",'fours'),\n",
    "                    (\"who scored most fours in entire ipl?\",'fours'),\n",
    "                    (\"who hit most fours in entire ipl?\",'fours'),\n",
    "                    (\"who scored most 4s in entire ipl?\",'fours'),\n",
    "                    (\"who hit most 4s in entire ipl?\",'fours'), \n",
    "                    (\"who scored most boundaries in entire ipl?\",'fours'),\n",
    "                    (\"who hit most boundaries in entire ipl?\",'fours'), \n",
    "                    (\"who scored most fours in whole ipl?\",'fours'),\n",
    "                    (\"who hit most fours in whole ipl?\",'fours'),\n",
    "                    (\"who scored most 4s in whole ipl?\",'fours'),\n",
    "                    (\"who hit most 4s in whole ipl?\",'fours'), \n",
    "                    (\"who scored most boundaries in whole ipl?\",'fours'),\n",
    "                    (\"who hit most boundaries in whole ipl?\",'fours'), \n",
    "                    (\"who scored most fours in this season?\",'fours'),\n",
    "                    (\"who hit most fours in this season?\",'fours'),\n",
    "                    (\"who scored most 4s in this season?\",'fours'),\n",
    "                    (\"who hit most 4s in this season?\",'fours'), \n",
    "                    (\"who scored most boundaries in this season?\",'fours'),\n",
    "                    (\"who hit most boundaries in this season?\",'fours'),\n",
    "                   \n",
    "                    (\"how many 6s are scored by rcb in match 6\",'sixes'),\n",
    "                    (\"how many sixes are scored by rcb in match 6\",'sixes'),\n",
    "                    (\"how many 6s are hit by rcb in match 6\",'sixes'),\n",
    "                    (\"how many sixes are hit by rcb in match 6\",'sixes'),\n",
    "                    (\"what are total sixes of rcb in match 6\",'sixes'),\n",
    "                    (\"what are total 6s of rcb in match 5\",'sixes'), \n",
    "                    (\"how many sixes are hit by kohli in this season?\",'sixes'),\n",
    "                    (\"how many 6s are hit by kohli in this season?\",'sixes'),\n",
    "                    (\"how many sixes are scored by kohli in this season?\",'sixes'),\n",
    "                    (\"how many 6s are scored by kohli in this season?\",'sixes'),\n",
    "                    (\"how many 6s are hit by kohli in this entire ipl?\",'sixes'),\n",
    "                    (\"how many sixes are hit by kohli in this entire ipl?\",'sixes'),\n",
    "                    (\"how many 6s are hit by kohli in this whole ipl?\",'sixes'),\n",
    "                    (\"how many sixes are hit by kohli in this whole ipl?\",'sixes'),  \n",
    "                    (\"who scored most sixes in entire ipl?\",'sixes'),\n",
    "                    (\"who hit most sixes in entire ipl?\",'sixes'),\n",
    "                    (\"who scored most 6s in entire ipl?\",'sixes'),\n",
    "                    (\"who hit most 6s in entire ipl?\",'sixes'), \n",
    "                    (\"who scored most sixes in whole ipl?\",'sixes'),\n",
    "                    (\"who hit most sixes in whole ipl?\",'sixes'),\n",
    "                    (\"who scored most 6s in whole ipl?\",'sixes'),\n",
    "                    (\"who hit most 6s in whole ipl?\",'sixes'), \n",
    "                    (\"who scored most sixes in this season?\",'sixes'),\n",
    "                    (\"who hit most sixes in this season?\",'sixes'),\n",
    "                    (\"who scored most 6s in this season?\",'sixes'),\n",
    "                    (\"who hit most 6s in this season?\",'sixes'),\n",
    "                    (\"how many sixes did Kohli score in match 2?\",'sixes'),\n",
    "                    (\"6s hit by Sachin in match 1?\",'sixes'),\n",
    "                    (\"Sixes hit by Abhay in match 5?\",'sixes'),\n",
    "                    (\"how many sixes did Kohli hit in match 2?\",'sixes'),\n",
    "                    (\"How much did McCullum six hit in match 1\",'sixes'),\n",
    "                    (\"How much did McCullum six hit in match 1\",'sixes'),\n",
    "                    (\"How much did McCullum six hit in match 1\",'sixes'),\n",
    "                    (\"How much did McCullum 6s hit in match 1\",'sixes'),\n",
    "                    (\"How much did McCullum 6s hit in match 1\",'sixes'),\n",
    "                    (\"How much did McCullum 6s hit in match 1\",'sixes'),\n",
    "                   \n",
    "                    (\"how many balls were faced by BB McCullum in match 3?\",'strike_rate'),\n",
    "                    (\"how many deliveries were faced by BB Mccullum in match 3?\",'strike_rate'), \n",
    "                    (\"what was the strike rate of BB McCullum in match 1?\",'strike rate'),\n",
    "                    (\"BB McCullum's strike rate in 1st match?\",'strike rate')\n",
    "                  ]"
   ]
  },
  {
   "cell_type": "code",
   "execution_count": 95,
   "metadata": {
    "collapsed": true
   },
   "outputs": [],
   "source": [
    "def feature_extractor(words):\n",
    "    features = {'highest': 0\n",
    "                ,'scored': 0\n",
    "                ,'runs': 0\n",
    "                ,'scorer': 0\n",
    "                ,'score':0\n",
    "                ,'scored':0\n",
    "                ,'match':0\n",
    "                ,'wickets': 0\n",
    "                ,'boundary': 0\n",
    "                ,'fours':0\n",
    "                ,'4s':0\n",
    "                ,'six':0\n",
    "                ,'sixes':0\n",
    "                ,'6s':0\n",
    "                ,'6':0\n",
    "                ,'hit':0\n",
    "                ,'four':0\n",
    "                ,'aggregate':0\n",
    "                ,'total':0\n",
    "                ,'team':0\n",
    "                ,'lead':0\n",
    "                ,'leading':0\n",
    "                ,'maximum':0\n",
    "                ,'max':0\n",
    "                ,'minimum':0\n",
    "                ,'min':0\n",
    "                ,'least':0\n",
    "                ,'less':0\n",
    "                ,'1st':0,'2nd':0,'3rd':0,'4th':0,'5th':0,'6th':0,'7th':0,'8th':0,'9th':0,'10th':0    \n",
    "                ,'dot':0\n",
    "                ,'dots':0\n",
    "                ,'faced':0 \n",
    "                ,'entire':0\n",
    "                ,'whole':0\n",
    "                ,'season':0\n",
    "                ,'strike':0\n",
    "                ,'rate':0\n",
    "                ,'strikerate':0\n",
    "               }\n",
    "    #tokenized_sentence = nltk.word_tokenize(sentence)\n",
    "    word_counts = nltk.Counter(words)\n",
    "    for word in word_counts:\n",
    "        if word in features:\n",
    "            features[word] = word_counts[word]\n",
    "    return features"
   ]
  },
  {
   "cell_type": "code",
   "execution_count": 96,
   "metadata": {
    "collapsed": true
   },
   "outputs": [],
   "source": [
    "naive_bayes_classifier = nltk.NaiveBayesClassifier.train([(feature_extractor(nltk.word_tokenize(sentence)), label) for sentence, label in train_sentences])"
   ]
  },
  {
   "cell_type": "code",
   "execution_count": 104,
   "metadata": {
    "collapsed": false
   },
   "outputs": [],
   "source": [
    "a = []\n",
    "boundary_list =['4s','6s','sixes','fours']\n",
    "query = \"ganguly score match 1?\"\n",
    "words = nltk.word_tokenize(query)\n",
    "lemmatizer = WordNetLemmatizer()\n",
    "stop_words = stopwords.words('english')\n",
    "for word in words:\n",
    "     if word.lower() not in stop_words:\n",
    "            if word in boundary_list:\n",
    "                a.append(word)\n",
    "            else:\n",
    "                a.append(lemmatizer.lemmatize(word))"
   ]
  },
  {
   "cell_type": "code",
   "execution_count": 105,
   "metadata": {
    "collapsed": false
   },
   "outputs": [
    {
     "data": {
      "image/png": "[encoded data removed]",
      "text/plain": [
       "Tree('S', [Tree('Chunk', [('ganguly', 'NNP'), ('score', 'NNP'), ('match', 'NN')]), ('1', 'CD'), ('?', '.')])"
      ]
     },
     "execution_count": 105,
     "metadata": {},
     "output_type": "execute_result"
    }
   ],
   "source": [
    "classifier = naive_bayes_classifier.classify(feature_extractor(a))\n",
    "\n",
    "tagged = brill_tagger.tag(a)\n",
    "chunkGram = r\"\"\"Chunk:{<NN.?>*<NNP.?>*}\"\"\"\n",
    "chunkParser = nltk.RegexpParser(chunkGram)\n",
    "chunked = chunkParser.parse(tagged)\n",
    "chunked"
   ]
  },
  {
   "cell_type": "code",
   "execution_count": 106,
   "metadata": {
    "collapsed": false
   },
   "outputs": [
    {
     "data": {
      "text/plain": [
       "'runs'"
      ]
     },
     "execution_count": 106,
     "metadata": {},
     "output_type": "execute_result"
    }
   ],
   "source": [
    "team_list = matches.team1.unique()\n",
    "classifier"
   ]
  },
  {
   "cell_type": "code",
   "execution_count": 107,
   "metadata": {
    "collapsed": false
   },
   "outputs": [
    {
     "data": {
      "text/plain": [
       "['ganguly', 'score', 'match']"
      ]
     },
     "execution_count": 107,
     "metadata": {},
     "output_type": "execute_result"
    }
   ],
   "source": [
    "chunked_words = []\n",
    "for node in chunked:\n",
    "    if hasattr(node, \"label\"):\n",
    "        words = [word for word, tag in node.leaves()]\n",
    "        chunked_words += words\n",
    "        \n",
    "chunked_words"
   ]
  },
  {
   "cell_type": "code",
   "execution_count": 108,
   "metadata": {
    "collapsed": false
   },
   "outputs": [],
   "source": [
    "#Returns full Player name -\n",
    "\n",
    "def function_return_fullName(chunked_words):\n",
    "    batsman_list = list(deliveries.batsman.unique())\n",
    "    bowler_list = list(deliveries.bowler.unique())\n",
    "    fielder_list = list(deliveries.fielder.unique())\n",
    "    temp = {'player':[],'team':[]}\n",
    "    teams_abbr = [ ('Kolkata Knight Riders', 'kolkata knight riders', 'kolkata', 'kolkata riders', 'kolkata rider', 'kolkata knights', 'kolkata knight', 'knight riders', 'knight rider', 'riders', 'k k riders', 'k knight riders', 'kkr'), \n",
    "               ('Chennai Super Kings', 'chennai super kings', 'chennai', 'chennai kings', 'chennai super', 'super kings', 'chennai kings', 'csk'),  \n",
    "               ('Rajasthan Royals', 'rajasthan royals', 'rajasthan', 'rajasthan royal', 'rr'),\n",
    "               ('Mumbai Indians', 'mumbai indians', 'mumbai', 'mumbai indian', 'indians', 'indian', 'mi'), \n",
    "               ('Deccan Chargers', 'deccan chargers', 'deccan', 'deccan charger', 'chargers', 'charger', 'dc'), \n",
    "               ('Kings XI Punjab', 'kings xi punjab', 'kings', 'punjab', 'kings XI', 'kings punjab',  'kxip','kp', 'kxp'), \n",
    "               ('Royal Challengers Bangalore', 'royal challengers bangalore', 'bangalore', 'royal challengers', 'royal challenger', 'royal bangalore', 'challengers bangalore', 'challenger bangalore', 'rcb', 'rb'),\n",
    "               ('Delhi Daredevils', 'delhi daredevils', 'delhi', 'daredevils', 'delhi daredevil', 'dd') ]\n",
    "               \n",
    "    for data in chunked_words:\n",
    "        for w in (batsman_list or bowler_list or fielder_list):\n",
    "            if w.lower() == data.lower():\n",
    "                temp['player'].append(w)\n",
    "            elif str(w.split()[len(w.split())-1]).lower() == data.lower():\n",
    "                temp['player'].append(w)\n",
    "        for w in teams_abbr:\n",
    "            if data.lower() in w:\n",
    "                temp['team'].append(w[0])         \n",
    "\n",
    "    return temp"
   ]
  },
  {
   "cell_type": "code",
   "execution_count": 109,
   "metadata": {
    "collapsed": false
   },
   "outputs": [
    {
     "data": {
      "text/plain": [
       "{'player': ['SC Ganguly'], 'team': []}"
      ]
     },
     "execution_count": 109,
     "metadata": {},
     "output_type": "execute_result"
    }
   ],
   "source": [
    "chunked_dict = function_return_fullName(chunked_words)\n",
    "chunked_dict"
   ]
  },
  {
   "cell_type": "code",
   "execution_count": 110,
   "metadata": {
    "collapsed": false
   },
   "outputs": [
    {
     "name": "stdout",
     "output_type": "stream",
     "text": [
      "10\n"
     ]
    }
   ],
   "source": [
    "if classifier == 'runs':\n",
    "    try:\n",
    "        if chunked_dict['team'] != []:\n",
    "            team_name = chunked_dict['team'][0]\n",
    "            for i in range(len(chunked)): \n",
    "                if chunked[i][1] == 'CD':\n",
    "                    match_id = chunked[i][0]\n",
    "            print(total_runs_team_match(team_name,int(match_id)))\n",
    "        else :\n",
    "            for i in range(len(chunked)): \n",
    "                person_name = chunked_dict['player'][0]\n",
    "                if chunked[i][1] == 'CD':\n",
    "                    match_id = chunked[i][0]\n",
    "            print(runs_batsman_match(person_name,int(match_id)))\n",
    "    except:\n",
    "        print(\"I am a chatbot not your servant. Go and find yourself :D\")\n",
    "        \n",
    "elif classifier =='max_runs':\n",
    "    try:\n",
    "        if chunked_dict['team'] != []:\n",
    "            team_name = chunked_dict['team'][0]\n",
    "            for i in range(len(chunked)): \n",
    "                if chunked[i][1] == 'CD':\n",
    "                    match_id = chunked[i][0]\n",
    "            print(max_score_batsman_match_inTeam(int(match_id), team_name))\n",
    "        else:\n",
    "            for i in range(len(chunked)): \n",
    "                if chunked[i][1] == 'CD':\n",
    "                    match_id = chunked[i][0]\n",
    "            print(max_score_batsman_match(int(match_id)))\n",
    "    except:\n",
    "        print(\"Write something I don't want to be alone\")\n",
    "        \n",
    "elif classifier =='min_runs':\n",
    "    try:\n",
    "        if chunked_dict['team'] != []:\n",
    "            team_name = chunked_dict['team'][0]\n",
    "            for i in range(len(chunked)): \n",
    "                if chunked[i][1] == 'CD':\n",
    "                    match_id = chunked[i][0]\n",
    "            print(min_score_batsman_match_inTeam(int(match_id), team_name))\n",
    "        else:\n",
    "            for i in range(len(chunked)): \n",
    "                if chunked[i][1] == 'CD':\n",
    "                    match_id = chunked[i][0]\n",
    "            print(min_score_batsman_match(int(match_id)))\n",
    "    except:\n",
    "        print(\"min_runs\")\n",
    "        \n",
    "elif classifier == 'total_runs':\n",
    "    try:\n",
    "        if chunked_dict['team'] != []:\n",
    "            team_name = chunked_dict['team'][0]\n",
    "            print(total_runs_team_IPL(team_name))\n",
    "        else :\n",
    "            for i in range(len(chunked)): \n",
    "                person_name = chunked_dict['player'][0]\n",
    "            print(total_runs_batsman_IPL(person_name))\n",
    "    except:\n",
    "        print(\"total_runs\")\n",
    "        \n",
    "if classifier == 'fours':\n",
    "    try:\n",
    "        if chunked_dict['team'] != []:\n",
    "            team_name = chunked_dict['team'][0]\n",
    "            for i in range(len(chunked)): \n",
    "                if type(chunked[i]) is tuple:\n",
    "                    if chunked[i][1] == 'CD':\n",
    "                        flag = 0\n",
    "                        for p in boundary_list:\n",
    "                            if chunked[i][1] == p:\n",
    "                                flag = 1\n",
    "                        if flag == 0:\n",
    "                            match_id = chunked[i][0]\n",
    "            print(team_fours(int(match_id), team_name))\n",
    "        else:\n",
    "            person_name = chunked_dict['player'][0]\n",
    "            for i in range(len(chunked)): \n",
    "                if type(chunked[i]) is tuple:\n",
    "                    if chunked[i][1] == 'CD':\n",
    "                        flag = 0\n",
    "                        for p in boundary_list:\n",
    "                            if chunked[i][1] == p:\n",
    "                                flag = 1\n",
    "                        if flag == 0:\n",
    "                            match_id = chunked[i][0]    \n",
    "            print(b_4_batsman_match(person_name ,int(match_id)))\n",
    "    except:\n",
    "        print(\"Fours\")\n",
    "\n",
    "if classifier == 'sixes':\n",
    "    try:\n",
    "        if chunked_dict['team'] != []:\n",
    "            team_name = chunked_dict['team'][0]\n",
    "            for i in range(len(chunked)): \n",
    "                if type(chunked[i]) is tuple:\n",
    "                    if chunked[i][1] == 'CD':\n",
    "                        flag = 0\n",
    "                        for p in boundary_list:\n",
    "                            if chunked[i][1] == p:\n",
    "                                flag = 1\n",
    "                        if flag == 0:\n",
    "                            match_id = chunked[i][0]\n",
    "            print(team_sixes(int(match_id), team_name))\n",
    "        else:\n",
    "            person_name = chunked_dict['player'][0]\n",
    "            for i in range(len(chunked)): \n",
    "                if type(chunked[i]) is tuple:\n",
    "                    if chunked[i][1] == 'CD':\n",
    "                        flag = 0\n",
    "                        for p in boundary_list:\n",
    "                            if chunked[i][1] == p:\n",
    "                                flag = 1\n",
    "                        if flag == 0:\n",
    "                            match_id = chunked[i][0]    \n",
    "            print(b_6_batsman_match(person_name ,int(match_id)))\n",
    "    except:\n",
    "        print(\"SIXES\")"
   ]
  },
  {
   "cell_type": "code",
   "execution_count": null,
   "metadata": {
    "collapsed": true
   },
   "outputs": [],
   "source": []
  },
  {
   "cell_type": "code",
   "execution_count": null,
   "metadata": {
    "collapsed": true
   },
   "outputs": [],
   "source": []
  }
 ],
 "metadata": {
  "kernelspec": {
   "display_name": "Python 3",
   "language": "python",
   "name": "python3"
  },
  "language_info": {
   "codemirror_mode": {
    "name": "ipython",
    "version": 3
   },
   "file_extension": ".py",
   "mimetype": "text/x-python",
   "name": "python",
   "nbconvert_exporter": "python",
   "pygments_lexer": "ipython3",
   "version": "3.6.0"
  }
 },
 "nbformat": 4,
 "nbformat_minor": 2
}
